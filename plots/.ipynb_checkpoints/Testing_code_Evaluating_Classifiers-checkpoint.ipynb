{
 "cells": [
  {
   "cell_type": "code",
   "execution_count": 46,
   "metadata": {},
   "outputs": [],
   "source": [
    "import pandas as pd\n",
    "import seaborn as sns\n",
    "import matplotlib\n",
    "import matplotlib.pyplot as plt\n",
    "from sklearn.model_selection import train_test_split\n",
    "from sklearn.dummy import DummyClassifier\n",
    "from sklearn.linear_model import LogisticRegression\n",
    "from sklearn.metrics import accuracy_score\n",
    "from sklearn.metrics import plot_confusion_matrix"
   ]
  },
  {
   "cell_type": "code",
   "execution_count": 8,
   "metadata": {},
   "outputs": [],
   "source": [
    "data = pd.read_csv(\"../data/train_featured.csv\")\n",
    "y = data['Survived']\n",
    "X = data.iloc[:, 2:]\n",
    "X_train, X_test, y_train, y_test = train_test_split(X, y, test_size=0.2)"
   ]
  },
  {
   "cell_type": "code",
   "execution_count": 24,
   "metadata": {},
   "outputs": [
    {
     "data": {
      "image/png": "[encoded data removed]",
      "text/plain": [
       "<Figure size 864x576 with 1 Axes>"
      ]
     },
     "metadata": {
      "needs_background": "light"
     },
     "output_type": "display_data"
    }
   ],
   "source": [
    "def define_strategy(X_train, y_train):\n",
    "    plt = matplotlib.pyplot.gcf()\n",
    "    plt.set_size_inches(12, 8)\n",
    "    strats = ['stratified', 'most_frequent', 'prior', 'uniform', 'constant']\n",
    "    train_dummy_scores = {}\n",
    "    \n",
    "    for clfs in strats:\n",
    "        if clfs == 'constant':\n",
    "            dummy_clf = DummyClassifier(strategy = clfs, random_state = 0, constant = 0)\n",
    "        else: \n",
    "            dummy_clf = DummyClassifier(strategy = clfs, random_state = 0)\n",
    "        dummy_clf.fit(X_train, y_train)\n",
    "        score = dummy_clf.score(X_train, y_train)\n",
    "        train_dummy_scores[clfs] = score\n",
    "\n",
    "    values = list(train_dummy_scores.values())\n",
    "    ax = sns.stripplot(strats, values); \n",
    "    ax.set(xlabel ='strategy', ylabel ='training score')\n",
    "    plt.savefig('../plots/strategies.jpg')\n",
    "\n",
    "define_strategy(X_train, y_train)"
   ]
  },
  {
   "cell_type": "code",
   "execution_count": 25,
   "metadata": {},
   "outputs": [],
   "source": [
    "def build_dummy():\n",
    "    dummy_clf = DummyClassifier(strategy = 'most_frequent', random_state = 0)\n",
    "    dummy_clf.fit(X_train, y_train)\n",
    "    dummy_clf.score(X_train, y_train)\n",
    "    return dummy_clf\n",
    "\n",
    "dummy_clf = build_dummy()"
   ]
  },
  {
   "cell_type": "code",
   "execution_count": 27,
   "metadata": {},
   "outputs": [
    {
     "data": {
      "text/plain": [
       "<bound method DummyClassifier.score of DummyClassifier(random_state=0, strategy='most_frequent')>"
      ]
     },
     "execution_count": 27,
     "metadata": {},
     "output_type": "execute_result"
    }
   ],
   "source": [
    "dummy_clf.score"
   ]
  },
  {
   "cell_type": "code",
   "execution_count": 42,
   "metadata": {},
   "outputs": [
    {
     "name": "stdout",
     "output_type": "stream",
     "text": [
      "Simple regression results:\n",
      "score: 0.800561797752809 \n",
      "coef: [[ 0.19420637  0.74314407 -0.43805019 -0.93979787  1.83975139 -0.19507625\n",
      "  -0.08168308 -0.05021517 -0.00610126]] \n",
      "intercept: [2.41906368]\n"
     ]
    }
   ],
   "source": [
    "def simple_regression(training_cols):\n",
    "    model = LogisticRegression(C=0.1, max_iter = 1000)\n",
    "    model.fit(X_train[training_cols], y_train)\n",
    "    score = model.score(X_train[training_cols], y_train)\n",
    "    model.predict(X_train[training_cols]) \n",
    "    coef = model.coef_\n",
    "    intercept = model.intercept_\n",
    "    return coef, intercept, score, model\n",
    "\n",
    "columns = [ 'Mrs', 'Miss', 'Age_ranges', 'Pclass', 'Sex', 'SibSp', 'qbin_Age2', 'Parch', 'Cabin_C']\n",
    "\n",
    "coef, intercept, score, model = simple_regression(columns)\n",
    "print(\"Simple regression results:\\nscore: \" + str(score), \\\n",
    "      \"\\ncoef: \" + str(coef), \"\\nintercept: \" + str(intercept))"
   ]
  },
  {
   "cell_type": "code",
   "execution_count": 43,
   "metadata": {},
   "outputs": [
    {
     "data": {
      "text/plain": [
       "(array([[ 0.19420637,  0.74314407, -0.43805019, -0.93979787,  1.83975139,\n",
       "         -0.19507625, -0.08168308, -0.05021517, -0.00610126]]),\n",
       " array([2.41906368]))"
      ]
     },
     "execution_count": 43,
     "metadata": {},
     "output_type": "execute_result"
    }
   ],
   "source": [
    "coef, intercept"
   ]
  },
  {
   "cell_type": "code",
   "execution_count": 44,
   "metadata": {},
   "outputs": [
    {
     "data": {
      "text/plain": [
       "0.6067415730337079"
      ]
     },
     "execution_count": 44,
     "metadata": {},
     "output_type": "execute_result"
    }
   ],
   "source": [
    "def accuracy(X_train, training_cols):\n",
    "    y_pred_dummy = dummy_clf.predict(X_train)\n",
    "    y_pred_lr = model.predict(X_train[training_cols])\n",
    "    accuracy = accuracy_score(y_train, y_pred_dummy)\n",
    "    return accuracy\n",
    "\n",
    "accuracy = accuracy(X_train, columns)\n",
    "accuracy"
   ]
  },
  {
   "cell_type": "code",
   "execution_count": 82,
   "metadata": {},
   "outputs": [
    {
     "data": {
      "text/plain": [
       "<Figure size 864x576 with 0 Axes>"
      ]
     },
     "metadata": {},
     "output_type": "display_data"
    },
    {
     "data": {
      "image/png": "[encoded data removed]",
      "text/plain": [
       "<Figure size 432x288 with 2 Axes>"
      ]
     },
     "metadata": {
      "needs_background": "light"
     },
     "output_type": "display_data"
    },
    {
     "data": {
      "image/png": "[encoded data removed]",
      "text/plain": [
       "<Figure size 432x288 with 2 Axes>"
      ]
     },
     "metadata": {
      "needs_background": "light"
     },
     "output_type": "display_data"
    }
   ],
   "source": [
    "def confusion_matrix(model, training_cols, X_train, y_train, dummy_clf):\n",
    "    plt = matplotlib.pyplot.gcf()\n",
    "    plt.set_size_inches(12, 8)\n",
    "    cm1 = plot_confusion_matrix(model, X_train[training_cols], y_train)\n",
    "    plt.show()\n",
    "    plt.savefig('../plots/model_confusion_matrix.jpg')\n",
    "    cm2 = plot_confusion_matrix(dummy_clf, X_train, y_train)\n",
    "    plt.show()\n",
    "    plt.savefig('../plots/dummy_confusion_matrix.jpg')\n",
    "    \n",
    "confusion_matrix(model, columns, X_train, y_train, dummy_clf)"
   ]
  },
  {
   "cell_type": "code",
   "execution_count": null,
   "metadata": {},
   "outputs": [],
   "source": []
  }
 ],
 "metadata": {
  "kernelspec": {
   "display_name": "Python 3",
   "language": "python",
   "name": "python3"
  },
  "language_info": {
   "codemirror_mode": {
    "name": "ipython",
    "version": 3
   },
   "file_extension": ".py",
   "mimetype": "text/x-python",
   "name": "python",
   "nbconvert_exporter": "python",
   "pygments_lexer": "ipython3",
   "version": "3.8.5"
  }
 },
 "nbformat": 4,
 "nbformat_minor": 4
}

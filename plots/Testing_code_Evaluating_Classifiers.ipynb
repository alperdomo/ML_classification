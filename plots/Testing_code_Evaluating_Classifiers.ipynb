{
 "cells": [
  {
   "cell_type": "code",
   "execution_count": 2,
   "metadata": {},
   "outputs": [],
   "source": [
    "import pandas as pd\n",
    "import seaborn as sns\n",
    "import matplotlib\n",
    "import matplotlib.pyplot as plt\n",
    "from sklearn.model_selection import train_test_split\n",
    "from sklearn.dummy import DummyClassifier\n",
    "from sklearn.linear_model import LogisticRegression\n",
    "from sklearn.metrics import accuracy_score\n",
    "from sklearn.metrics import plot_confusion_matrix\n",
    "#from sklearn.metrics import confusion_matrix"
   ]
  },
  {
   "cell_type": "code",
   "execution_count": 3,
   "metadata": {},
   "outputs": [],
   "source": [
    "data = pd.read_csv(\"../data/train_featured.csv\")\n",
    "y = data['Survived']\n",
    "X = data.iloc[:, 2:]\n",
    "X_train, X_test, y_train, y_test = train_test_split(X, y, test_size=0.2)"
   ]
  },
  {
   "cell_type": "code",
   "execution_count": 4,
   "metadata": {},
   "outputs": [
    {
     "data": {
      "image/png": "[encoded data removed]",
      "text/plain": [
       "<Figure size 864x576 with 1 Axes>"
      ]
     },
     "metadata": {
      "needs_background": "light"
     },
     "output_type": "display_data"
    }
   ],
   "source": [
    "def define_strategy(X_train, y_train):\n",
    "    plt = matplotlib.pyplot.gcf()\n",
    "    plt.set_size_inches(12, 8)\n",
    "    strats = ['stratified', 'most_frequent', 'prior', 'uniform', 'constant']\n",
    "    train_dummy_scores = {}\n",
    "    \n",
    "    for clfs in strats:\n",
    "        if clfs == 'constant':\n",
    "            dummy_clf = DummyClassifier(strategy = clfs, random_state = 0, constant = 0)\n",
    "        else: \n",
    "            dummy_clf = DummyClassifier(strategy = clfs, random_state = 0)\n",
    "        dummy_clf.fit(X_train, y_train)\n",
    "        score = dummy_clf.score(X_train, y_train)\n",
    "        train_dummy_scores[clfs] = score\n",
    "\n",
    "    values = list(train_dummy_scores.values())\n",
    "    ax = sns.stripplot(strats, values); \n",
    "    ax.set(xlabel ='strategy', ylabel ='training score')\n",
    "    plt.savefig('../plots/strategies.jpg')\n",
    "\n",
    "define_strategy(X_train, y_train)"
   ]
  },
  {
   "cell_type": "code",
   "execution_count": 5,
   "metadata": {},
   "outputs": [],
   "source": [
    "def build_dummy():\n",
    "    dummy_clf = DummyClassifier(strategy = 'most_frequent', random_state = 0)\n",
    "    dummy_clf.fit(X_train, y_train)\n",
    "    dummy_clf.score(X_train, y_train)\n",
    "    return dummy_clf\n",
    "\n",
    "dummy_clf = build_dummy()"
   ]
  },
  {
   "cell_type": "code",
   "execution_count": 6,
   "metadata": {},
   "outputs": [
    {
     "data": {
      "text/plain": [
       "<bound method DummyClassifier.score of DummyClassifier(random_state=0, strategy='most_frequent')>"
      ]
     },
     "execution_count": 6,
     "metadata": {},
     "output_type": "execute_result"
    }
   ],
   "source": [
    "dummy_clf.score"
   ]
  },
  {
   "cell_type": "code",
   "execution_count": 7,
   "metadata": {},
   "outputs": [
    {
     "name": "stdout",
     "output_type": "stream",
     "text": [
      "Simple regression results:\n",
      "score: 0.8132022471910112 \n",
      "coef: [[ 0.22864778  0.64563804 -0.42415565 -0.91703767  1.88638237 -0.24757619\n",
      "  -0.07804322 -0.03014005 -0.13505305]] \n",
      "intercept: [2.29530001]\n"
     ]
    }
   ],
   "source": [
    "def simple_regression(training_cols):\n",
    "    model = LogisticRegression(C=0.1, max_iter = 1000)\n",
    "    model.fit(X_train[training_cols], y_train)\n",
    "    score = model.score(X_train[training_cols], y_train)\n",
    "    model.predict(X_train[training_cols]) \n",
    "    coef = model.coef_\n",
    "    intercept = model.intercept_\n",
    "    return coef, intercept, score, model\n",
    "\n",
    "columns = [ 'Mrs', 'Miss', 'Age_ranges', 'Pclass', 'Sex', 'SibSp', 'qbin_Age2', 'Parch', 'Cabin_C']\n",
    "\n",
    "coef, intercept, score, model = simple_regression(columns)\n",
    "print(\"Simple regression results:\\nscore: \" + str(score), \\\n",
    "      \"\\ncoef: \" + str(coef), \"\\nintercept: \" + str(intercept))"
   ]
  },
  {
   "cell_type": "code",
   "execution_count": 8,
   "metadata": {},
   "outputs": [
    {
     "data": {
      "text/plain": [
       "(array([[ 0.22864778,  0.64563804, -0.42415565, -0.91703767,  1.88638237,\n",
       "         -0.24757619, -0.07804322, -0.03014005, -0.13505305]]),\n",
       " array([2.29530001]))"
      ]
     },
     "execution_count": 8,
     "metadata": {},
     "output_type": "execute_result"
    }
   ],
   "source": [
    "coef, intercept"
   ]
  },
  {
   "cell_type": "code",
   "execution_count": 9,
   "metadata": {},
   "outputs": [
    {
     "data": {
      "text/plain": [
       "0.6207865168539326"
      ]
     },
     "execution_count": 9,
     "metadata": {},
     "output_type": "execute_result"
    }
   ],
   "source": [
    "def accuracy(X_train, training_cols):\n",
    "    y_pred_dummy = dummy_clf.predict(X_train)\n",
    "    y_pred_lr = model.predict(X_train[training_cols])\n",
    "    accuracy = accuracy_score(y_train, y_pred_dummy)\n",
    "    return accuracy\n",
    "\n",
    "accuracy = accuracy(X_train, columns)\n",
    "accuracy"
   ]
  },
  {
   "cell_type": "code",
   "execution_count": 11,
   "metadata": {},
   "outputs": [
    {
     "ename": "TypeError",
     "evalue": "'NoneType' object is not callable",
     "output_type": "error",
     "traceback": [
      "\u001b[0;31m---------------------------------------------------------------------------\u001b[0m",
      "\u001b[0;31mTypeError\u001b[0m                                 Traceback (most recent call last)",
      "\u001b[0;32m<ipython-input-11-b2f08f315e40>\u001b[0m in \u001b[0;36m<module>\u001b[0;34m\u001b[0m\n\u001b[1;32m      9\u001b[0m     \u001b[0;31m#plt.savefig('../plots/dummy_confusion_matrix.jpg')\u001b[0m\u001b[0;34m\u001b[0m\u001b[0;34m\u001b[0m\u001b[0;34m\u001b[0m\u001b[0m\n\u001b[1;32m     10\u001b[0m \u001b[0;34m\u001b[0m\u001b[0m\n\u001b[0;32m---> 11\u001b[0;31m \u001b[0mconfusion_matrix\u001b[0m\u001b[0;34m(\u001b[0m\u001b[0mmodel\u001b[0m\u001b[0;34m,\u001b[0m \u001b[0mcolumns\u001b[0m\u001b[0;34m,\u001b[0m \u001b[0mX_train\u001b[0m\u001b[0;34m,\u001b[0m \u001b[0my_train\u001b[0m\u001b[0;34m,\u001b[0m \u001b[0mdummy_clf\u001b[0m\u001b[0;34m)\u001b[0m\u001b[0;34m\u001b[0m\u001b[0;34m\u001b[0m\u001b[0m\n\u001b[0m",
      "\u001b[0;32m<ipython-input-11-b2f08f315e40>\u001b[0m in \u001b[0;36mconfusion_matrix\u001b[0;34m(model, training_cols, X_train, y_train, dummy_clf)\u001b[0m\n\u001b[1;32m      2\u001b[0m     \u001b[0mplt\u001b[0m \u001b[0;34m=\u001b[0m \u001b[0mmatplotlib\u001b[0m\u001b[0;34m.\u001b[0m\u001b[0mpyplot\u001b[0m\u001b[0;34m.\u001b[0m\u001b[0mgcf\u001b[0m\u001b[0;34m(\u001b[0m\u001b[0;34m)\u001b[0m\u001b[0;34m\u001b[0m\u001b[0;34m\u001b[0m\u001b[0m\n\u001b[1;32m      3\u001b[0m     \u001b[0mplt\u001b[0m\u001b[0;34m.\u001b[0m\u001b[0mset_size_inches\u001b[0m\u001b[0;34m(\u001b[0m\u001b[0;36m12\u001b[0m\u001b[0;34m,\u001b[0m \u001b[0;36m8\u001b[0m\u001b[0;34m)\u001b[0m\u001b[0;34m\u001b[0m\u001b[0;34m\u001b[0m\u001b[0m\n\u001b[0;32m----> 4\u001b[0;31m     \u001b[0mf\u001b[0m \u001b[0;34m=\u001b[0m \u001b[0mplt\u001b[0m\u001b[0;34m.\u001b[0m\u001b[0mfigure\u001b[0m\u001b[0;34m(\u001b[0m\u001b[0;34m)\u001b[0m\u001b[0;34m\u001b[0m\u001b[0;34m\u001b[0m\u001b[0m\n\u001b[0m\u001b[1;32m      5\u001b[0m     \u001b[0mplot_confusion_matrix\u001b[0m\u001b[0;34m(\u001b[0m\u001b[0mmodel\u001b[0m\u001b[0;34m,\u001b[0m \u001b[0mX_train\u001b[0m\u001b[0;34m[\u001b[0m\u001b[0mtraining_cols\u001b[0m\u001b[0;34m]\u001b[0m\u001b[0;34m,\u001b[0m \u001b[0my_train\u001b[0m\u001b[0;34m)\u001b[0m\u001b[0;34m\u001b[0m\u001b[0;34m\u001b[0m\u001b[0m\n\u001b[1;32m      6\u001b[0m     \u001b[0mf\u001b[0m\u001b[0;34m.\u001b[0m\u001b[0msavefig\u001b[0m\u001b[0;34m(\u001b[0m\u001b[0;34m'../plots/model_confusion_matrix.jpg'\u001b[0m\u001b[0;34m)\u001b[0m\u001b[0;34m\u001b[0m\u001b[0;34m\u001b[0m\u001b[0m\n",
      "\u001b[0;31mTypeError\u001b[0m: 'NoneType' object is not callable"
     ]
    },
    {
     "data": {
      "text/plain": [
       "<Figure size 864x576 with 0 Axes>"
      ]
     },
     "metadata": {},
     "output_type": "display_data"
    }
   ],
   "source": [
    "def confusion_matrix_(model, training_cols, X_train, y_train, dummy_clf): ## AQUI VOY \n",
    "    plt = matplotlib.pyplot.gcf()\n",
    "    plt.set_size_inches(12, 8)\n",
    "    f = plt.figure()\n",
    "    plot_confusion_matrix(model, X_train[training_cols], y_train)\n",
    "    f.savefig('../plots/model_confusion_matrix.jpg')\n",
    "    #plt.show()\n",
    "    #plot_confusion_matrix(dummy_clf, X_train, y_train)\n",
    "    #plt.savefig('../plots/dummy_confusion_matrix.jpg')\n",
    "\n",
    "confusion_matrix(model, columns, X_train, y_train, dummy_clf)\n"
   ]
  },
  {
   "cell_type": "code",
   "execution_count": null,
   "metadata": {},
   "outputs": [],
   "source": [
    "\n",
    "plt.title('Confusion matrix for our classifier')\n",
    "plt.show(cm)"
   ]
  },
  {
   "cell_type": "code",
   "execution_count": null,
   "metadata": {},
   "outputs": [],
   "source": [
    "cm"
   ]
  }
 ],
 "metadata": {
  "kernelspec": {
   "display_name": "Python 3",
   "language": "python",
   "name": "python3"
  },
  "language_info": {
   "codemirror_mode": {
    "name": "ipython",
    "version": 3
   },
   "file_extension": ".py",
   "mimetype": "text/x-python",
   "name": "python",
   "nbconvert_exporter": "python",
   "pygments_lexer": "ipython3",
   "version": "3.8.5"
  }
 },
 "nbformat": 4,
 "nbformat_minor": 4
}

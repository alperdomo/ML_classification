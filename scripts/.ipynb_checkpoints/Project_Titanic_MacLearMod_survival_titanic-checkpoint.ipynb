{
 "cells": [
  {
   "cell_type": "markdown",
   "metadata": {},
   "source": [
    "#  Machine learning model to predict passenger survival on the Titanic"
   ]
  },
  {
   "cell_type": "markdown",
   "metadata": {},
   "source": [
    "## `Step 1: Get the data`"
   ]
  },
  {
   "cell_type": "code",
   "execution_count": 95,
   "metadata": {
    "scrolled": true
   },
   "outputs": [
    {
     "data": {
      "text/plain": [
       "(891, 12)"
      ]
     },
     "execution_count": 95,
     "metadata": {},
     "output_type": "execute_result"
    }
   ],
   "source": [
    "import pandas as pd\n",
    "import numpy as np\n",
    "%matplotlib inline \n",
    "\n",
    "data = pd.read_csv('../data/train.csv')\n",
    "data.shape"
   ]
  },
  {
   "cell_type": "markdown",
   "metadata": {},
   "source": [
    "## `Step 2: Exploratory data analysis` \n",
    "This step is in an additional notebook: __Exploratory_Data_Analysis_Titanic.ipynb__"
   ]
  },
  {
   "cell_type": "markdown",
   "metadata": {},
   "source": [
    "## `Step 3. Feature engineering`\n",
    "\n",
    "Using **feature engineering** approaches make the data easy to understand for a model. \n",
    "Variables that may properly describing your model and fitting to the data. \n"
   ]
  },
  {
   "cell_type": "code",
   "execution_count": 96,
   "metadata": {
    "scrolled": true
   },
   "outputs": [
    {
     "data": {
      "text/html": [
       "<div>\n",
       "<style scoped>\n",
       "    .dataframe tbody tr th:only-of-type {\n",
       "        vertical-align: middle;\n",
       "    }\n",
       "\n",
       "    .dataframe tbody tr th {\n",
       "        vertical-align: top;\n",
       "    }\n",
       "\n",
       "    .dataframe thead th {\n",
       "        text-align: right;\n",
       "    }\n",
       "</style>\n",
       "<table border=\"1\" class=\"dataframe\">\n",
       "  <thead>\n",
       "    <tr style=\"text-align: right;\">\n",
       "      <th></th>\n",
       "      <th>PassengerId</th>\n",
       "      <th>Survived</th>\n",
       "      <th>Pclass</th>\n",
       "      <th>Name</th>\n",
       "      <th>Sex</th>\n",
       "      <th>Age</th>\n",
       "      <th>SibSp</th>\n",
       "      <th>Parch</th>\n",
       "      <th>Ticket</th>\n",
       "      <th>Fare</th>\n",
       "      <th>Cabin</th>\n",
       "      <th>Embarked</th>\n",
       "    </tr>\n",
       "  </thead>\n",
       "  <tbody>\n",
       "    <tr>\n",
       "      <th>0</th>\n",
       "      <td>1</td>\n",
       "      <td>0</td>\n",
       "      <td>3</td>\n",
       "      <td>Braund, Mr. Owen Harris</td>\n",
       "      <td>male</td>\n",
       "      <td>22.0</td>\n",
       "      <td>1</td>\n",
       "      <td>0</td>\n",
       "      <td>A/5 21171</td>\n",
       "      <td>7.2500</td>\n",
       "      <td>NaN</td>\n",
       "      <td>S</td>\n",
       "    </tr>\n",
       "    <tr>\n",
       "      <th>1</th>\n",
       "      <td>2</td>\n",
       "      <td>1</td>\n",
       "      <td>1</td>\n",
       "      <td>Cumings, Mrs. John Bradley (Florence Briggs Th...</td>\n",
       "      <td>female</td>\n",
       "      <td>38.0</td>\n",
       "      <td>1</td>\n",
       "      <td>0</td>\n",
       "      <td>PC 17599</td>\n",
       "      <td>71.2833</td>\n",
       "      <td>C85</td>\n",
       "      <td>C</td>\n",
       "    </tr>\n",
       "    <tr>\n",
       "      <th>2</th>\n",
       "      <td>3</td>\n",
       "      <td>1</td>\n",
       "      <td>3</td>\n",
       "      <td>Heikkinen, Miss. Laina</td>\n",
       "      <td>female</td>\n",
       "      <td>26.0</td>\n",
       "      <td>0</td>\n",
       "      <td>0</td>\n",
       "      <td>STON/O2. 3101282</td>\n",
       "      <td>7.9250</td>\n",
       "      <td>NaN</td>\n",
       "      <td>S</td>\n",
       "    </tr>\n",
       "  </tbody>\n",
       "</table>\n",
       "</div>"
      ],
      "text/plain": [
       "   PassengerId  Survived  Pclass  \\\n",
       "0            1         0       3   \n",
       "1            2         1       1   \n",
       "2            3         1       3   \n",
       "\n",
       "                                                Name     Sex   Age  SibSp  \\\n",
       "0                            Braund, Mr. Owen Harris    male  22.0      1   \n",
       "1  Cumings, Mrs. John Bradley (Florence Briggs Th...  female  38.0      1   \n",
       "2                             Heikkinen, Miss. Laina  female  26.0      0   \n",
       "\n",
       "   Parch            Ticket     Fare Cabin Embarked  \n",
       "0      0         A/5 21171   7.2500   NaN        S  \n",
       "1      0          PC 17599  71.2833   C85        C  \n",
       "2      0  STON/O2. 3101282   7.9250   NaN        S  "
      ]
     },
     "execution_count": 96,
     "metadata": {},
     "output_type": "execute_result"
    }
   ],
   "source": [
    "data.head(3)"
   ]
  },
  {
   "cell_type": "markdown",
   "metadata": {},
   "source": [
    "### 3.1 One hot encoded features\n",
    "* who (title)\n",
    "* embarked\n",
    "* Cabin"
   ]
  },
  {
   "cell_type": "code",
   "execution_count": 97,
   "metadata": {
    "scrolled": true
   },
   "outputs": [],
   "source": [
    "def cabin_names(dataframe, data_type):\n",
    "    \"\"\"\n",
    "    Hoteconodes the cabin names\n",
    "\n",
    "    Parameters:\n",
    "    dataframe: Data from the Titanic dataset. Either training or test data\n",
    "    data_type: training set, testing set\n",
    "    ----------\n",
    "    \"\"\"\n",
    "\n",
    "    dataframe['Embarked'] = dataframe['Embarked'].replace(to_replace = 'C',\n",
    "                            value = int(0), regex =True)\n",
    "    dataframe['Embarked'] = dataframe['Embarked'].replace(to_replace = 'S',\n",
    "                            value = int(1), regex =True)\n",
    "    dataframe['Embarked'] = dataframe['Embarked'].replace(to_replace = 'Q',\n",
    "                            value = int(2), regex =True)\n",
    "    dataframe['Cabin'] = dataframe['Cabin'].fillna(0).astype(str).str[0]\n",
    "    onehot = pd.get_dummies(dataframe['Cabin'])\n",
    "    if data_type == \"training\":\n",
    "        onehot.columns = ['unk_Cabin', 'Cabin_A','Cabin_B','Cabin_C', \\\n",
    "                          'Cabin_D', 'Cabin_E', 'Cabin_F','Cabin_G', 'Cabin_T']\n",
    "        dataframe = pd.concat([dataframe, onehot], axis = 1)\n",
    "    else:\n",
    "        onehot.columns = ['unk_Cabin', 'Cabin_A','Cabin_B','Cabin_C', \\\n",
    "                          'Cabin_D', 'Cabin_E', 'Cabin_F','Cabin_G']\n",
    "        dataframe = pd.concat([dataframe, onehot], axis = 1)\n",
    "    return dataframe"
   ]
  },
  {
   "cell_type": "code",
   "execution_count": 98,
   "metadata": {
    "scrolled": true
   },
   "outputs": [
    {
     "data": {
      "text/html": [
       "<div>\n",
       "<style scoped>\n",
       "    .dataframe tbody tr th:only-of-type {\n",
       "        vertical-align: middle;\n",
       "    }\n",
       "\n",
       "    .dataframe tbody tr th {\n",
       "        vertical-align: top;\n",
       "    }\n",
       "\n",
       "    .dataframe thead th {\n",
       "        text-align: right;\n",
       "    }\n",
       "</style>\n",
       "<table border=\"1\" class=\"dataframe\">\n",
       "  <thead>\n",
       "    <tr style=\"text-align: right;\">\n",
       "      <th></th>\n",
       "      <th>PassengerId</th>\n",
       "      <th>Survived</th>\n",
       "      <th>Pclass</th>\n",
       "      <th>Name</th>\n",
       "      <th>Sex</th>\n",
       "      <th>Age</th>\n",
       "      <th>SibSp</th>\n",
       "      <th>Parch</th>\n",
       "      <th>Ticket</th>\n",
       "      <th>Fare</th>\n",
       "      <th>...</th>\n",
       "      <th>Embarked</th>\n",
       "      <th>unk_Cabin</th>\n",
       "      <th>Cabin_A</th>\n",
       "      <th>Cabin_B</th>\n",
       "      <th>Cabin_C</th>\n",
       "      <th>Cabin_D</th>\n",
       "      <th>Cabin_E</th>\n",
       "      <th>Cabin_F</th>\n",
       "      <th>Cabin_G</th>\n",
       "      <th>Cabin_T</th>\n",
       "    </tr>\n",
       "  </thead>\n",
       "  <tbody>\n",
       "    <tr>\n",
       "      <th>0</th>\n",
       "      <td>1</td>\n",
       "      <td>0</td>\n",
       "      <td>3</td>\n",
       "      <td>Braund, Mr. Owen Harris</td>\n",
       "      <td>male</td>\n",
       "      <td>22.0</td>\n",
       "      <td>1</td>\n",
       "      <td>0</td>\n",
       "      <td>A/5 21171</td>\n",
       "      <td>7.2500</td>\n",
       "      <td>...</td>\n",
       "      <td>1.0</td>\n",
       "      <td>1</td>\n",
       "      <td>0</td>\n",
       "      <td>0</td>\n",
       "      <td>0</td>\n",
       "      <td>0</td>\n",
       "      <td>0</td>\n",
       "      <td>0</td>\n",
       "      <td>0</td>\n",
       "      <td>0</td>\n",
       "    </tr>\n",
       "    <tr>\n",
       "      <th>1</th>\n",
       "      <td>2</td>\n",
       "      <td>1</td>\n",
       "      <td>1</td>\n",
       "      <td>Cumings, Mrs. John Bradley (Florence Briggs Th...</td>\n",
       "      <td>female</td>\n",
       "      <td>38.0</td>\n",
       "      <td>1</td>\n",
       "      <td>0</td>\n",
       "      <td>PC 17599</td>\n",
       "      <td>71.2833</td>\n",
       "      <td>...</td>\n",
       "      <td>0.0</td>\n",
       "      <td>0</td>\n",
       "      <td>0</td>\n",
       "      <td>0</td>\n",
       "      <td>1</td>\n",
       "      <td>0</td>\n",
       "      <td>0</td>\n",
       "      <td>0</td>\n",
       "      <td>0</td>\n",
       "      <td>0</td>\n",
       "    </tr>\n",
       "    <tr>\n",
       "      <th>2</th>\n",
       "      <td>3</td>\n",
       "      <td>1</td>\n",
       "      <td>3</td>\n",
       "      <td>Heikkinen, Miss. Laina</td>\n",
       "      <td>female</td>\n",
       "      <td>26.0</td>\n",
       "      <td>0</td>\n",
       "      <td>0</td>\n",
       "      <td>STON/O2. 3101282</td>\n",
       "      <td>7.9250</td>\n",
       "      <td>...</td>\n",
       "      <td>1.0</td>\n",
       "      <td>1</td>\n",
       "      <td>0</td>\n",
       "      <td>0</td>\n",
       "      <td>0</td>\n",
       "      <td>0</td>\n",
       "      <td>0</td>\n",
       "      <td>0</td>\n",
       "      <td>0</td>\n",
       "      <td>0</td>\n",
       "    </tr>\n",
       "  </tbody>\n",
       "</table>\n",
       "<p>3 rows × 21 columns</p>\n",
       "</div>"
      ],
      "text/plain": [
       "   PassengerId  Survived  Pclass  \\\n",
       "0            1         0       3   \n",
       "1            2         1       1   \n",
       "2            3         1       3   \n",
       "\n",
       "                                                Name     Sex   Age  SibSp  \\\n",
       "0                            Braund, Mr. Owen Harris    male  22.0      1   \n",
       "1  Cumings, Mrs. John Bradley (Florence Briggs Th...  female  38.0      1   \n",
       "2                             Heikkinen, Miss. Laina  female  26.0      0   \n",
       "\n",
       "   Parch            Ticket     Fare  ... Embarked  unk_Cabin  Cabin_A  \\\n",
       "0      0         A/5 21171   7.2500  ...      1.0          1        0   \n",
       "1      0          PC 17599  71.2833  ...      0.0          0        0   \n",
       "2      0  STON/O2. 3101282   7.9250  ...      1.0          1        0   \n",
       "\n",
       "   Cabin_B  Cabin_C  Cabin_D  Cabin_E  Cabin_F  Cabin_G  Cabin_T  \n",
       "0        0        0        0        0        0        0        0  \n",
       "1        0        1        0        0        0        0        0  \n",
       "2        0        0        0        0        0        0        0  \n",
       "\n",
       "[3 rows x 21 columns]"
      ]
     },
     "execution_count": 98,
     "metadata": {},
     "output_type": "execute_result"
    }
   ],
   "source": [
    "data = cabin_names(data, \"training\")\n",
    "data.head(3)"
   ]
  },
  {
   "cell_type": "code",
   "execution_count": 99,
   "metadata": {
    "scrolled": true
   },
   "outputs": [],
   "source": [
    "def name_to_titles(dataframe):\n",
    "    \"\"\"\n",
    "    Hotecondes names of passengers to only their title\n",
    "\n",
    "    Parameters:\n",
    "    ----------\n",
    "    dataframe: training dataset Titanic\n",
    "    \"\"\"\n",
    "    dataframe['Name'] = dataframe['Name'].replace(to_replace = ['\\.*.*Capt.*',\n",
    "                        '\\.*.*Countess.*',  '\\.*.*Lady.*', '\\.*.*Col.*',\n",
    "                        '\\.*.*Dr.*', '\\.*.*Don.*', '\\.*.*Major.*',\n",
    "                        '\\.*.*Sir.*', '\\.*.*Dona.*', '\\.*.*Jonkheer.*',\n",
    "                        '\\.*.*Rev.*'], value = 0, regex = True)\n",
    "    dataframe['Name'] = dataframe['Name'].replace(to_replace = ['\\.*.*Mlle.*',\n",
    "                        '\\.*.*Mlle.*'], value = 'Miss', regex=True)\n",
    "    dataframe['Name'] = dataframe['Name'].replace(to_replace = ['\\.*.*Miss.*',\n",
    "                        '\\.*.*Miss.*'], value = 'Miss', regex=True)\n",
    "    dataframe['Name'] = dataframe['Name'].replace(to_replace = ['\\.*.*Ms.*',\n",
    "                        '\\.*.*Miss.*'], value = 'Miss', regex=True)\n",
    "    dataframe['Name'] = dataframe['Name'].replace(to_replace = '\\.*.*Mme.*',\n",
    "                        value = 'Mistress', regex=True)\n",
    "    dataframe['Name'] = dataframe['Name'].replace(to_replace = '\\.*.*Mrs.*',\n",
    "                        value = 'Mistress', regex=True)\n",
    "    dataframe['Name'] = dataframe['Name'].replace(to_replace = '\\.*.*Master.*',\n",
    "                        value = 'Master', regex=True)\n",
    "    dataframe['Name'] = dataframe['Name'].replace(to_replace = '\\.*.*Mr. .*',\n",
    "                        value = 'Mr', regex=True)\n",
    "    dataframe['Name'] = dataframe['Name'].fillna('uncommon')\n",
    "    onehot = pd.get_dummies(dataframe['Name'])\n",
    "    onehot.columns=['Master', 'Miss','Mrs','Mr','uncommon']\n",
    "    dataframe = pd.concat([dataframe, onehot], axis = 1)\n",
    "    return dataframe\n"
   ]
  },
  {
   "cell_type": "code",
   "execution_count": 100,
   "metadata": {},
   "outputs": [
    {
     "data": {
      "text/html": [
       "<div>\n",
       "<style scoped>\n",
       "    .dataframe tbody tr th:only-of-type {\n",
       "        vertical-align: middle;\n",
       "    }\n",
       "\n",
       "    .dataframe tbody tr th {\n",
       "        vertical-align: top;\n",
       "    }\n",
       "\n",
       "    .dataframe thead th {\n",
       "        text-align: right;\n",
       "    }\n",
       "</style>\n",
       "<table border=\"1\" class=\"dataframe\">\n",
       "  <thead>\n",
       "    <tr style=\"text-align: right;\">\n",
       "      <th></th>\n",
       "      <th>PassengerId</th>\n",
       "      <th>Survived</th>\n",
       "      <th>Pclass</th>\n",
       "      <th>Name</th>\n",
       "      <th>Sex</th>\n",
       "      <th>Age</th>\n",
       "      <th>SibSp</th>\n",
       "      <th>Parch</th>\n",
       "      <th>Ticket</th>\n",
       "      <th>Fare</th>\n",
       "      <th>...</th>\n",
       "      <th>Cabin_D</th>\n",
       "      <th>Cabin_E</th>\n",
       "      <th>Cabin_F</th>\n",
       "      <th>Cabin_G</th>\n",
       "      <th>Cabin_T</th>\n",
       "      <th>Master</th>\n",
       "      <th>Miss</th>\n",
       "      <th>Mrs</th>\n",
       "      <th>Mr</th>\n",
       "      <th>uncommon</th>\n",
       "    </tr>\n",
       "  </thead>\n",
       "  <tbody>\n",
       "    <tr>\n",
       "      <th>0</th>\n",
       "      <td>1</td>\n",
       "      <td>0</td>\n",
       "      <td>3</td>\n",
       "      <td>Mr</td>\n",
       "      <td>male</td>\n",
       "      <td>22.0</td>\n",
       "      <td>1</td>\n",
       "      <td>0</td>\n",
       "      <td>A/5 21171</td>\n",
       "      <td>7.2500</td>\n",
       "      <td>...</td>\n",
       "      <td>0</td>\n",
       "      <td>0</td>\n",
       "      <td>0</td>\n",
       "      <td>0</td>\n",
       "      <td>0</td>\n",
       "      <td>0</td>\n",
       "      <td>0</td>\n",
       "      <td>0</td>\n",
       "      <td>0</td>\n",
       "      <td>1</td>\n",
       "    </tr>\n",
       "    <tr>\n",
       "      <th>1</th>\n",
       "      <td>2</td>\n",
       "      <td>1</td>\n",
       "      <td>1</td>\n",
       "      <td>Mistress</td>\n",
       "      <td>female</td>\n",
       "      <td>38.0</td>\n",
       "      <td>1</td>\n",
       "      <td>0</td>\n",
       "      <td>PC 17599</td>\n",
       "      <td>71.2833</td>\n",
       "      <td>...</td>\n",
       "      <td>0</td>\n",
       "      <td>0</td>\n",
       "      <td>0</td>\n",
       "      <td>0</td>\n",
       "      <td>0</td>\n",
       "      <td>0</td>\n",
       "      <td>0</td>\n",
       "      <td>0</td>\n",
       "      <td>1</td>\n",
       "      <td>0</td>\n",
       "    </tr>\n",
       "    <tr>\n",
       "      <th>2</th>\n",
       "      <td>3</td>\n",
       "      <td>1</td>\n",
       "      <td>3</td>\n",
       "      <td>Miss</td>\n",
       "      <td>female</td>\n",
       "      <td>26.0</td>\n",
       "      <td>0</td>\n",
       "      <td>0</td>\n",
       "      <td>STON/O2. 3101282</td>\n",
       "      <td>7.9250</td>\n",
       "      <td>...</td>\n",
       "      <td>0</td>\n",
       "      <td>0</td>\n",
       "      <td>0</td>\n",
       "      <td>0</td>\n",
       "      <td>0</td>\n",
       "      <td>0</td>\n",
       "      <td>0</td>\n",
       "      <td>1</td>\n",
       "      <td>0</td>\n",
       "      <td>0</td>\n",
       "    </tr>\n",
       "  </tbody>\n",
       "</table>\n",
       "<p>3 rows × 26 columns</p>\n",
       "</div>"
      ],
      "text/plain": [
       "   PassengerId  Survived  Pclass      Name     Sex   Age  SibSp  Parch  \\\n",
       "0            1         0       3        Mr    male  22.0      1      0   \n",
       "1            2         1       1  Mistress  female  38.0      1      0   \n",
       "2            3         1       3      Miss  female  26.0      0      0   \n",
       "\n",
       "             Ticket     Fare  ... Cabin_D  Cabin_E  Cabin_F  Cabin_G  Cabin_T  \\\n",
       "0         A/5 21171   7.2500  ...       0        0        0        0        0   \n",
       "1          PC 17599  71.2833  ...       0        0        0        0        0   \n",
       "2  STON/O2. 3101282   7.9250  ...       0        0        0        0        0   \n",
       "\n",
       "   Master  Miss  Mrs  Mr  uncommon  \n",
       "0       0     0    0   0         1  \n",
       "1       0     0    0   1         0  \n",
       "2       0     0    1   0         0  \n",
       "\n",
       "[3 rows x 26 columns]"
      ]
     },
     "execution_count": 100,
     "metadata": {},
     "output_type": "execute_result"
    }
   ],
   "source": [
    "data = name_to_titles(data)\n",
    "data.head(3)"
   ]
  },
  {
   "cell_type": "code",
   "execution_count": 101,
   "metadata": {
    "scrolled": true
   },
   "outputs": [
    {
     "data": {
      "image/png": "[encoded data removed]",
      "text/plain": [
       "<Figure size 864x576 with 1 Axes>"
      ]
     },
     "metadata": {
      "needs_background": "light"
     },
     "output_type": "display_data"
    }
   ],
   "source": [
    "# Plot the distribution of titles into survide and dead categories \n",
    "def plot_distribution_titles(dataframe):\n",
    "    \"\"\"\n",
    "    Plot the distribution of passengers based on their title\n",
    "\n",
    "    Parameters:\n",
    "    ----------\n",
    "    dataframe: training dataset Titanic with the names modified to titles\n",
    "    \"\"\"\n",
    "    data = dataframe.groupby(['Survived', 'Name'])[['Name']].count().unstack()\n",
    "    data.plot.bar(figsize = (12, 8))\n",
    "plot_distribution_titles(data)\n"
   ]
  },
  {
   "cell_type": "markdown",
   "metadata": {},
   "source": [
    "### 3.2. Binning\n",
    "* fares (custom)\n",
    "* age (qbins)"
   ]
  },
  {
   "cell_type": "code",
   "execution_count": 102,
   "metadata": {},
   "outputs": [],
   "source": [
    "# Fares\n",
    "def fares(dataframe):\n",
    "    \"\"\"\n",
    "    Hotecondes the fares into five different groups\n",
    "\n",
    "    Parameters:\n",
    "    ----------\n",
    "    dataframe: training dataset Titanic\n",
    "    \"\"\"\n",
    "    bins_fares = [-1, 7.92, 14.5, 32, 100, np.inf]\n",
    "    names_fares = [0, 1, 2, 3, 4]\n",
    "    dataframe['Fare_ranges'] = pd.cut(dataframe['Fare'], bins_fares,\n",
    "                               labels = names_fares)\n",
    "    dataframe['Fare_ranges'] = dataframe['Fare_ranges'].fillna(0) \n",
    "\n",
    "    return dataframe, bins_fares\n"
   ]
  },
  {
   "cell_type": "code",
   "execution_count": 103,
   "metadata": {},
   "outputs": [
    {
     "data": {
      "text/html": [
       "<div>\n",
       "<style scoped>\n",
       "    .dataframe tbody tr th:only-of-type {\n",
       "        vertical-align: middle;\n",
       "    }\n",
       "\n",
       "    .dataframe tbody tr th {\n",
       "        vertical-align: top;\n",
       "    }\n",
       "\n",
       "    .dataframe thead th {\n",
       "        text-align: right;\n",
       "    }\n",
       "</style>\n",
       "<table border=\"1\" class=\"dataframe\">\n",
       "  <thead>\n",
       "    <tr style=\"text-align: right;\">\n",
       "      <th></th>\n",
       "      <th>PassengerId</th>\n",
       "      <th>Survived</th>\n",
       "      <th>Pclass</th>\n",
       "      <th>Name</th>\n",
       "      <th>Sex</th>\n",
       "      <th>Age</th>\n",
       "      <th>SibSp</th>\n",
       "      <th>Parch</th>\n",
       "      <th>Ticket</th>\n",
       "      <th>Fare</th>\n",
       "      <th>...</th>\n",
       "      <th>Cabin_E</th>\n",
       "      <th>Cabin_F</th>\n",
       "      <th>Cabin_G</th>\n",
       "      <th>Cabin_T</th>\n",
       "      <th>Master</th>\n",
       "      <th>Miss</th>\n",
       "      <th>Mrs</th>\n",
       "      <th>Mr</th>\n",
       "      <th>uncommon</th>\n",
       "      <th>Fare_ranges</th>\n",
       "    </tr>\n",
       "  </thead>\n",
       "  <tbody>\n",
       "    <tr>\n",
       "      <th>0</th>\n",
       "      <td>1</td>\n",
       "      <td>0</td>\n",
       "      <td>3</td>\n",
       "      <td>Mr</td>\n",
       "      <td>male</td>\n",
       "      <td>22.0</td>\n",
       "      <td>1</td>\n",
       "      <td>0</td>\n",
       "      <td>A/5 21171</td>\n",
       "      <td>7.2500</td>\n",
       "      <td>...</td>\n",
       "      <td>0</td>\n",
       "      <td>0</td>\n",
       "      <td>0</td>\n",
       "      <td>0</td>\n",
       "      <td>0</td>\n",
       "      <td>0</td>\n",
       "      <td>0</td>\n",
       "      <td>0</td>\n",
       "      <td>1</td>\n",
       "      <td>0</td>\n",
       "    </tr>\n",
       "    <tr>\n",
       "      <th>1</th>\n",
       "      <td>2</td>\n",
       "      <td>1</td>\n",
       "      <td>1</td>\n",
       "      <td>Mistress</td>\n",
       "      <td>female</td>\n",
       "      <td>38.0</td>\n",
       "      <td>1</td>\n",
       "      <td>0</td>\n",
       "      <td>PC 17599</td>\n",
       "      <td>71.2833</td>\n",
       "      <td>...</td>\n",
       "      <td>0</td>\n",
       "      <td>0</td>\n",
       "      <td>0</td>\n",
       "      <td>0</td>\n",
       "      <td>0</td>\n",
       "      <td>0</td>\n",
       "      <td>0</td>\n",
       "      <td>1</td>\n",
       "      <td>0</td>\n",
       "      <td>3</td>\n",
       "    </tr>\n",
       "    <tr>\n",
       "      <th>2</th>\n",
       "      <td>3</td>\n",
       "      <td>1</td>\n",
       "      <td>3</td>\n",
       "      <td>Miss</td>\n",
       "      <td>female</td>\n",
       "      <td>26.0</td>\n",
       "      <td>0</td>\n",
       "      <td>0</td>\n",
       "      <td>STON/O2. 3101282</td>\n",
       "      <td>7.9250</td>\n",
       "      <td>...</td>\n",
       "      <td>0</td>\n",
       "      <td>0</td>\n",
       "      <td>0</td>\n",
       "      <td>0</td>\n",
       "      <td>0</td>\n",
       "      <td>0</td>\n",
       "      <td>1</td>\n",
       "      <td>0</td>\n",
       "      <td>0</td>\n",
       "      <td>1</td>\n",
       "    </tr>\n",
       "  </tbody>\n",
       "</table>\n",
       "<p>3 rows × 27 columns</p>\n",
       "</div>"
      ],
      "text/plain": [
       "   PassengerId  Survived  Pclass      Name     Sex   Age  SibSp  Parch  \\\n",
       "0            1         0       3        Mr    male  22.0      1      0   \n",
       "1            2         1       1  Mistress  female  38.0      1      0   \n",
       "2            3         1       3      Miss  female  26.0      0      0   \n",
       "\n",
       "             Ticket     Fare  ... Cabin_E  Cabin_F  Cabin_G  Cabin_T  Master  \\\n",
       "0         A/5 21171   7.2500  ...       0        0        0        0       0   \n",
       "1          PC 17599  71.2833  ...       0        0        0        0       0   \n",
       "2  STON/O2. 3101282   7.9250  ...       0        0        0        0       0   \n",
       "\n",
       "   Miss  Mrs  Mr  uncommon  Fare_ranges  \n",
       "0     0    0   0         1            0  \n",
       "1     0    0   1         0            3  \n",
       "2     0    1   0         0            1  \n",
       "\n",
       "[3 rows x 27 columns]"
      ]
     },
     "execution_count": 103,
     "metadata": {},
     "output_type": "execute_result"
    }
   ],
   "source": [
    "data, bins_fares = fares(data)\n",
    "data.head(3)"
   ]
  },
  {
   "cell_type": "code",
   "execution_count": 104,
   "metadata": {
    "scrolled": true
   },
   "outputs": [],
   "source": [
    "def ages(dataframe):\n",
    "    \"\"\"\n",
    "    Hotencodes ages into four different groups using pandas qbins function\n",
    "\n",
    "    Parameters:\n",
    "    ----------\n",
    "    dataframe: training dataset Titanic\n",
    "    \"\"\"\n",
    "    dataframe['Age'] = dataframe['Age'].fillna(dataframe['Age'].mean())\n",
    "    qbins = pd.qcut(dataframe['Age'], q = 4)\n",
    "    qbins = pd.get_dummies(qbins)\n",
    "    qbins.columns = ['qbin_Age1', 'qbin_Age2', 'qbin_Age3', 'qbin_Age4']\n",
    "    dataframe = pd.concat([dataframe, qbins], axis =1)\n",
    "    return dataframe"
   ]
  },
  {
   "cell_type": "code",
   "execution_count": 105,
   "metadata": {},
   "outputs": [
    {
     "data": {
      "text/html": [
       "<div>\n",
       "<style scoped>\n",
       "    .dataframe tbody tr th:only-of-type {\n",
       "        vertical-align: middle;\n",
       "    }\n",
       "\n",
       "    .dataframe tbody tr th {\n",
       "        vertical-align: top;\n",
       "    }\n",
       "\n",
       "    .dataframe thead th {\n",
       "        text-align: right;\n",
       "    }\n",
       "</style>\n",
       "<table border=\"1\" class=\"dataframe\">\n",
       "  <thead>\n",
       "    <tr style=\"text-align: right;\">\n",
       "      <th></th>\n",
       "      <th>PassengerId</th>\n",
       "      <th>Survived</th>\n",
       "      <th>Pclass</th>\n",
       "      <th>Name</th>\n",
       "      <th>Sex</th>\n",
       "      <th>Age</th>\n",
       "      <th>SibSp</th>\n",
       "      <th>Parch</th>\n",
       "      <th>Ticket</th>\n",
       "      <th>Fare</th>\n",
       "      <th>...</th>\n",
       "      <th>Master</th>\n",
       "      <th>Miss</th>\n",
       "      <th>Mrs</th>\n",
       "      <th>Mr</th>\n",
       "      <th>uncommon</th>\n",
       "      <th>Fare_ranges</th>\n",
       "      <th>qbin_Age1</th>\n",
       "      <th>qbin_Age2</th>\n",
       "      <th>qbin_Age3</th>\n",
       "      <th>qbin_Age4</th>\n",
       "    </tr>\n",
       "  </thead>\n",
       "  <tbody>\n",
       "    <tr>\n",
       "      <th>0</th>\n",
       "      <td>1</td>\n",
       "      <td>0</td>\n",
       "      <td>3</td>\n",
       "      <td>Mr</td>\n",
       "      <td>male</td>\n",
       "      <td>22.0</td>\n",
       "      <td>1</td>\n",
       "      <td>0</td>\n",
       "      <td>A/5 21171</td>\n",
       "      <td>7.2500</td>\n",
       "      <td>...</td>\n",
       "      <td>0</td>\n",
       "      <td>0</td>\n",
       "      <td>0</td>\n",
       "      <td>0</td>\n",
       "      <td>1</td>\n",
       "      <td>0</td>\n",
       "      <td>1</td>\n",
       "      <td>0</td>\n",
       "      <td>0</td>\n",
       "      <td>0</td>\n",
       "    </tr>\n",
       "    <tr>\n",
       "      <th>1</th>\n",
       "      <td>2</td>\n",
       "      <td>1</td>\n",
       "      <td>1</td>\n",
       "      <td>Mistress</td>\n",
       "      <td>female</td>\n",
       "      <td>38.0</td>\n",
       "      <td>1</td>\n",
       "      <td>0</td>\n",
       "      <td>PC 17599</td>\n",
       "      <td>71.2833</td>\n",
       "      <td>...</td>\n",
       "      <td>0</td>\n",
       "      <td>0</td>\n",
       "      <td>0</td>\n",
       "      <td>1</td>\n",
       "      <td>0</td>\n",
       "      <td>3</td>\n",
       "      <td>0</td>\n",
       "      <td>0</td>\n",
       "      <td>0</td>\n",
       "      <td>1</td>\n",
       "    </tr>\n",
       "    <tr>\n",
       "      <th>2</th>\n",
       "      <td>3</td>\n",
       "      <td>1</td>\n",
       "      <td>3</td>\n",
       "      <td>Miss</td>\n",
       "      <td>female</td>\n",
       "      <td>26.0</td>\n",
       "      <td>0</td>\n",
       "      <td>0</td>\n",
       "      <td>STON/O2. 3101282</td>\n",
       "      <td>7.9250</td>\n",
       "      <td>...</td>\n",
       "      <td>0</td>\n",
       "      <td>0</td>\n",
       "      <td>1</td>\n",
       "      <td>0</td>\n",
       "      <td>0</td>\n",
       "      <td>1</td>\n",
       "      <td>0</td>\n",
       "      <td>1</td>\n",
       "      <td>0</td>\n",
       "      <td>0</td>\n",
       "    </tr>\n",
       "  </tbody>\n",
       "</table>\n",
       "<p>3 rows × 31 columns</p>\n",
       "</div>"
      ],
      "text/plain": [
       "   PassengerId  Survived  Pclass      Name     Sex   Age  SibSp  Parch  \\\n",
       "0            1         0       3        Mr    male  22.0      1      0   \n",
       "1            2         1       1  Mistress  female  38.0      1      0   \n",
       "2            3         1       3      Miss  female  26.0      0      0   \n",
       "\n",
       "             Ticket     Fare  ... Master  Miss  Mrs  Mr  uncommon  \\\n",
       "0         A/5 21171   7.2500  ...      0     0    0   0         1   \n",
       "1          PC 17599  71.2833  ...      0     0    0   1         0   \n",
       "2  STON/O2. 3101282   7.9250  ...      0     0    1   0         0   \n",
       "\n",
       "   Fare_ranges  qbin_Age1  qbin_Age2  qbin_Age3  qbin_Age4  \n",
       "0            0          1          0          0          0  \n",
       "1            3          0          0          0          1  \n",
       "2            1          0          1          0          0  \n",
       "\n",
       "[3 rows x 31 columns]"
      ]
     },
     "execution_count": 105,
     "metadata": {},
     "output_type": "execute_result"
    }
   ],
   "source": [
    "data = ages(data)\n",
    "data.head(3)"
   ]
  },
  {
   "cell_type": "markdown",
   "metadata": {},
   "source": [
    "### 3.3. Scalling\n",
    "**Not my favorite**. It seems that digregating the scores in different columns helps to increase the accuracy. "
   ]
  },
  {
   "cell_type": "markdown",
   "metadata": {},
   "source": [
    "### 3.4. Into numeric\n",
    "* sex"
   ]
  },
  {
   "cell_type": "code",
   "execution_count": 106,
   "metadata": {
    "scrolled": true
   },
   "outputs": [],
   "source": [
    "def gender(dataframe):\n",
    "    \"\"\"\n",
    "    Hotencodes gender to either male or female\n",
    "\n",
    "    Parameters:\n",
    "    ----------\n",
    "    dataframe: training dataset Titanic\n",
    "    \"\"\"\n",
    "    dataframe.loc[(dataframe['Sex'] == 'male'), 'Sex'] = 0\n",
    "    dataframe.loc[(dataframe['Sex'] == 'female'), 'Sex'] = 1\n",
    "    dataframe[\"Sex\"] = dataframe[\"Sex\"].astype(str).astype(int)\n",
    "    return dataframe"
   ]
  },
  {
   "cell_type": "code",
   "execution_count": 107,
   "metadata": {},
   "outputs": [
    {
     "data": {
      "text/html": [
       "<div>\n",
       "<style scoped>\n",
       "    .dataframe tbody tr th:only-of-type {\n",
       "        vertical-align: middle;\n",
       "    }\n",
       "\n",
       "    .dataframe tbody tr th {\n",
       "        vertical-align: top;\n",
       "    }\n",
       "\n",
       "    .dataframe thead th {\n",
       "        text-align: right;\n",
       "    }\n",
       "</style>\n",
       "<table border=\"1\" class=\"dataframe\">\n",
       "  <thead>\n",
       "    <tr style=\"text-align: right;\">\n",
       "      <th></th>\n",
       "      <th>PassengerId</th>\n",
       "      <th>Survived</th>\n",
       "      <th>Pclass</th>\n",
       "      <th>Name</th>\n",
       "      <th>Sex</th>\n",
       "      <th>Age</th>\n",
       "      <th>SibSp</th>\n",
       "      <th>Parch</th>\n",
       "      <th>Ticket</th>\n",
       "      <th>Fare</th>\n",
       "      <th>...</th>\n",
       "      <th>Master</th>\n",
       "      <th>Miss</th>\n",
       "      <th>Mrs</th>\n",
       "      <th>Mr</th>\n",
       "      <th>uncommon</th>\n",
       "      <th>Fare_ranges</th>\n",
       "      <th>qbin_Age1</th>\n",
       "      <th>qbin_Age2</th>\n",
       "      <th>qbin_Age3</th>\n",
       "      <th>qbin_Age4</th>\n",
       "    </tr>\n",
       "  </thead>\n",
       "  <tbody>\n",
       "    <tr>\n",
       "      <th>0</th>\n",
       "      <td>1</td>\n",
       "      <td>0</td>\n",
       "      <td>3</td>\n",
       "      <td>Mr</td>\n",
       "      <td>0</td>\n",
       "      <td>22.0</td>\n",
       "      <td>1</td>\n",
       "      <td>0</td>\n",
       "      <td>A/5 21171</td>\n",
       "      <td>7.2500</td>\n",
       "      <td>...</td>\n",
       "      <td>0</td>\n",
       "      <td>0</td>\n",
       "      <td>0</td>\n",
       "      <td>0</td>\n",
       "      <td>1</td>\n",
       "      <td>0</td>\n",
       "      <td>1</td>\n",
       "      <td>0</td>\n",
       "      <td>0</td>\n",
       "      <td>0</td>\n",
       "    </tr>\n",
       "    <tr>\n",
       "      <th>1</th>\n",
       "      <td>2</td>\n",
       "      <td>1</td>\n",
       "      <td>1</td>\n",
       "      <td>Mistress</td>\n",
       "      <td>1</td>\n",
       "      <td>38.0</td>\n",
       "      <td>1</td>\n",
       "      <td>0</td>\n",
       "      <td>PC 17599</td>\n",
       "      <td>71.2833</td>\n",
       "      <td>...</td>\n",
       "      <td>0</td>\n",
       "      <td>0</td>\n",
       "      <td>0</td>\n",
       "      <td>1</td>\n",
       "      <td>0</td>\n",
       "      <td>3</td>\n",
       "      <td>0</td>\n",
       "      <td>0</td>\n",
       "      <td>0</td>\n",
       "      <td>1</td>\n",
       "    </tr>\n",
       "    <tr>\n",
       "      <th>2</th>\n",
       "      <td>3</td>\n",
       "      <td>1</td>\n",
       "      <td>3</td>\n",
       "      <td>Miss</td>\n",
       "      <td>1</td>\n",
       "      <td>26.0</td>\n",
       "      <td>0</td>\n",
       "      <td>0</td>\n",
       "      <td>STON/O2. 3101282</td>\n",
       "      <td>7.9250</td>\n",
       "      <td>...</td>\n",
       "      <td>0</td>\n",
       "      <td>0</td>\n",
       "      <td>1</td>\n",
       "      <td>0</td>\n",
       "      <td>0</td>\n",
       "      <td>1</td>\n",
       "      <td>0</td>\n",
       "      <td>1</td>\n",
       "      <td>0</td>\n",
       "      <td>0</td>\n",
       "    </tr>\n",
       "  </tbody>\n",
       "</table>\n",
       "<p>3 rows × 31 columns</p>\n",
       "</div>"
      ],
      "text/plain": [
       "   PassengerId  Survived  Pclass      Name  Sex   Age  SibSp  Parch  \\\n",
       "0            1         0       3        Mr    0  22.0      1      0   \n",
       "1            2         1       1  Mistress    1  38.0      1      0   \n",
       "2            3         1       3      Miss    1  26.0      0      0   \n",
       "\n",
       "             Ticket     Fare  ... Master  Miss  Mrs  Mr  uncommon  \\\n",
       "0         A/5 21171   7.2500  ...      0     0    0   0         1   \n",
       "1          PC 17599  71.2833  ...      0     0    0   1         0   \n",
       "2  STON/O2. 3101282   7.9250  ...      0     0    1   0         0   \n",
       "\n",
       "   Fare_ranges  qbin_Age1  qbin_Age2  qbin_Age3  qbin_Age4  \n",
       "0            0          1          0          0          0  \n",
       "1            3          0          0          0          1  \n",
       "2            1          0          1          0          0  \n",
       "\n",
       "[3 rows x 31 columns]"
      ]
     },
     "execution_count": 107,
     "metadata": {},
     "output_type": "execute_result"
    }
   ],
   "source": [
    "data = gender(data)\n",
    "data.head(3)"
   ]
  },
  {
   "cell_type": "markdown",
   "metadata": {},
   "source": [
    "### 3.5. Interactions \n",
    "- Age per class"
   ]
  },
  {
   "cell_type": "code",
   "execution_count": 108,
   "metadata": {
    "scrolled": true
   },
   "outputs": [],
   "source": [
    "def age_per_class(dataframe, bins_fares):\n",
    "    \"\"\"\n",
    "    Hotecondes ages per travelling class into five different groups\n",
    "\n",
    "    Parameters:\n",
    "    ----------\n",
    "    dataframe: training dataset Titanic\n",
    "    \"\"\"\n",
    "    dataframe['int_Age*Pclass'] = dataframe['Age'] * dataframe['Pclass']\n",
    "    qbins = pd.qcut(dataframe['int_Age*Pclass'], q=4)\n",
    "    qbins = pd.get_dummies(qbins)\n",
    "    qbins.columns=['qbin_SexClass1', 'qbin_SexClass2', 'qbin_SexClass3', 'qbin_SexClass4']\n",
    "    dataframe = pd.concat([dataframe, qbins], axis = 1)\n",
    "    bins_Ages = [-1, 22, 29, 35, 60, np.inf]\n",
    "    names_fares = [1, 2, 3, 4, 5]\n",
    "    dataframe['Age_ranges'] =  pd.cut(dataframe['Age'], bins_fares, labels=names_fares)\n",
    "    return dataframe"
   ]
  },
  {
   "cell_type": "code",
   "execution_count": 109,
   "metadata": {},
   "outputs": [
    {
     "data": {
      "text/html": [
       "<div>\n",
       "<style scoped>\n",
       "    .dataframe tbody tr th:only-of-type {\n",
       "        vertical-align: middle;\n",
       "    }\n",
       "\n",
       "    .dataframe tbody tr th {\n",
       "        vertical-align: top;\n",
       "    }\n",
       "\n",
       "    .dataframe thead th {\n",
       "        text-align: right;\n",
       "    }\n",
       "</style>\n",
       "<table border=\"1\" class=\"dataframe\">\n",
       "  <thead>\n",
       "    <tr style=\"text-align: right;\">\n",
       "      <th></th>\n",
       "      <th>PassengerId</th>\n",
       "      <th>Survived</th>\n",
       "      <th>Pclass</th>\n",
       "      <th>Name</th>\n",
       "      <th>Sex</th>\n",
       "      <th>Age</th>\n",
       "      <th>SibSp</th>\n",
       "      <th>Parch</th>\n",
       "      <th>Ticket</th>\n",
       "      <th>Fare</th>\n",
       "      <th>...</th>\n",
       "      <th>qbin_Age1</th>\n",
       "      <th>qbin_Age2</th>\n",
       "      <th>qbin_Age3</th>\n",
       "      <th>qbin_Age4</th>\n",
       "      <th>int_Age*Pclass</th>\n",
       "      <th>qbin_SexClass1</th>\n",
       "      <th>qbin_SexClass2</th>\n",
       "      <th>qbin_SexClass3</th>\n",
       "      <th>qbin_SexClass4</th>\n",
       "      <th>Age_ranges</th>\n",
       "    </tr>\n",
       "  </thead>\n",
       "  <tbody>\n",
       "    <tr>\n",
       "      <th>0</th>\n",
       "      <td>1</td>\n",
       "      <td>0</td>\n",
       "      <td>3</td>\n",
       "      <td>Mr</td>\n",
       "      <td>0</td>\n",
       "      <td>22.0</td>\n",
       "      <td>1</td>\n",
       "      <td>0</td>\n",
       "      <td>A/5 21171</td>\n",
       "      <td>7.2500</td>\n",
       "      <td>...</td>\n",
       "      <td>1</td>\n",
       "      <td>0</td>\n",
       "      <td>0</td>\n",
       "      <td>0</td>\n",
       "      <td>66.0</td>\n",
       "      <td>0</td>\n",
       "      <td>0</td>\n",
       "      <td>1</td>\n",
       "      <td>0</td>\n",
       "      <td>3</td>\n",
       "    </tr>\n",
       "    <tr>\n",
       "      <th>1</th>\n",
       "      <td>2</td>\n",
       "      <td>1</td>\n",
       "      <td>1</td>\n",
       "      <td>Mistress</td>\n",
       "      <td>1</td>\n",
       "      <td>38.0</td>\n",
       "      <td>1</td>\n",
       "      <td>0</td>\n",
       "      <td>PC 17599</td>\n",
       "      <td>71.2833</td>\n",
       "      <td>...</td>\n",
       "      <td>0</td>\n",
       "      <td>0</td>\n",
       "      <td>0</td>\n",
       "      <td>1</td>\n",
       "      <td>38.0</td>\n",
       "      <td>1</td>\n",
       "      <td>0</td>\n",
       "      <td>0</td>\n",
       "      <td>0</td>\n",
       "      <td>4</td>\n",
       "    </tr>\n",
       "    <tr>\n",
       "      <th>2</th>\n",
       "      <td>3</td>\n",
       "      <td>1</td>\n",
       "      <td>3</td>\n",
       "      <td>Miss</td>\n",
       "      <td>1</td>\n",
       "      <td>26.0</td>\n",
       "      <td>0</td>\n",
       "      <td>0</td>\n",
       "      <td>STON/O2. 3101282</td>\n",
       "      <td>7.9250</td>\n",
       "      <td>...</td>\n",
       "      <td>0</td>\n",
       "      <td>1</td>\n",
       "      <td>0</td>\n",
       "      <td>0</td>\n",
       "      <td>78.0</td>\n",
       "      <td>0</td>\n",
       "      <td>0</td>\n",
       "      <td>1</td>\n",
       "      <td>0</td>\n",
       "      <td>3</td>\n",
       "    </tr>\n",
       "  </tbody>\n",
       "</table>\n",
       "<p>3 rows × 37 columns</p>\n",
       "</div>"
      ],
      "text/plain": [
       "   PassengerId  Survived  Pclass      Name  Sex   Age  SibSp  Parch  \\\n",
       "0            1         0       3        Mr    0  22.0      1      0   \n",
       "1            2         1       1  Mistress    1  38.0      1      0   \n",
       "2            3         1       3      Miss    1  26.0      0      0   \n",
       "\n",
       "             Ticket     Fare  ... qbin_Age1  qbin_Age2  qbin_Age3  qbin_Age4  \\\n",
       "0         A/5 21171   7.2500  ...         1          0          0          0   \n",
       "1          PC 17599  71.2833  ...         0          0          0          1   \n",
       "2  STON/O2. 3101282   7.9250  ...         0          1          0          0   \n",
       "\n",
       "   int_Age*Pclass  qbin_SexClass1  qbin_SexClass2  qbin_SexClass3  \\\n",
       "0            66.0               0               0               1   \n",
       "1            38.0               1               0               0   \n",
       "2            78.0               0               0               1   \n",
       "\n",
       "   qbin_SexClass4  Age_ranges  \n",
       "0               0           3  \n",
       "1               0           4  \n",
       "2               0           3  \n",
       "\n",
       "[3 rows x 37 columns]"
      ]
     },
     "execution_count": 109,
     "metadata": {},
     "output_type": "execute_result"
    }
   ],
   "source": [
    "data = age_per_class(data, bins_fares)\n",
    "data.head(3)"
   ]
  },
  {
   "cell_type": "code",
   "execution_count": 110,
   "metadata": {
    "scrolled": true
   },
   "outputs": [
    {
     "data": {
      "text/plain": [
       "PassengerId       0\n",
       "Survived          0\n",
       "Pclass            0\n",
       "Name              0\n",
       "Sex               0\n",
       "Age               0\n",
       "SibSp             0\n",
       "Parch             0\n",
       "Ticket            0\n",
       "Fare              0\n",
       "Cabin             0\n",
       "Embarked          2\n",
       "unk_Cabin         0\n",
       "Cabin_A           0\n",
       "Cabin_B           0\n",
       "Cabin_C           0\n",
       "Cabin_D           0\n",
       "Cabin_E           0\n",
       "Cabin_F           0\n",
       "Cabin_G           0\n",
       "Cabin_T           0\n",
       "Master            0\n",
       "Miss              0\n",
       "Mrs               0\n",
       "Mr                0\n",
       "uncommon          0\n",
       "Fare_ranges       0\n",
       "qbin_Age1         0\n",
       "qbin_Age2         0\n",
       "qbin_Age3         0\n",
       "qbin_Age4         0\n",
       "int_Age*Pclass    0\n",
       "qbin_SexClass1    0\n",
       "qbin_SexClass2    0\n",
       "qbin_SexClass3    0\n",
       "qbin_SexClass4    0\n",
       "Age_ranges        0\n",
       "dtype: int64"
      ]
     },
     "execution_count": 110,
     "metadata": {},
     "output_type": "execute_result"
    }
   ],
   "source": [
    "data.isnull().sum()"
   ]
  },
  {
   "cell_type": "markdown",
   "metadata": {},
   "source": [
    "#### Remove columns not to be engineered and save to file"
   ]
  },
  {
   "cell_type": "code",
   "execution_count": 111,
   "metadata": {
    "scrolled": true
   },
   "outputs": [],
   "source": [
    "def clear_engineer(dataframe, columns_drop, data_type):\n",
    "    \"\"\"\n",
    "    clear dataframe for a list containing the name of columns that will not be\n",
    "    used as classifiers for the evaluation and prediction\n",
    "\n",
    "    Parameters:\n",
    "    ----------\n",
    "    dataframe: Data from the Titanic dataset. Either training or test data\n",
    "    data_type: training, test\n",
    "    \"\"\"\n",
    "    if data_type == \"training\":\n",
    "        dataframe.drop(columns_drop, axis = 1, inplace = True)\n",
    "        dataframe.to_csv('../data/train_featured.csv', index=False)\n",
    "    else:\n",
    "        columns_drop = [value for value in columns_drop if value != \"Cabin_T\"]\n",
    "        columns_drop += [\"PassengerId\"]\n",
    "        dataframe.drop(columns_drop, axis = 1, inplace = True)\n",
    "        dataframe.to_csv('../data/test_featured.csv', index=False)\n",
    "    return dataframe"
   ]
  },
  {
   "cell_type": "code",
   "execution_count": 112,
   "metadata": {},
   "outputs": [
    {
     "data": {
      "text/html": [
       "<div>\n",
       "<style scoped>\n",
       "    .dataframe tbody tr th:only-of-type {\n",
       "        vertical-align: middle;\n",
       "    }\n",
       "\n",
       "    .dataframe tbody tr th {\n",
       "        vertical-align: top;\n",
       "    }\n",
       "\n",
       "    .dataframe thead th {\n",
       "        text-align: right;\n",
       "    }\n",
       "</style>\n",
       "<table border=\"1\" class=\"dataframe\">\n",
       "  <thead>\n",
       "    <tr style=\"text-align: right;\">\n",
       "      <th></th>\n",
       "      <th>PassengerId</th>\n",
       "      <th>Survived</th>\n",
       "      <th>Pclass</th>\n",
       "      <th>Sex</th>\n",
       "      <th>SibSp</th>\n",
       "      <th>Parch</th>\n",
       "      <th>unk_Cabin</th>\n",
       "      <th>Cabin_A</th>\n",
       "      <th>Cabin_B</th>\n",
       "      <th>Cabin_C</th>\n",
       "      <th>...</th>\n",
       "      <th>Fare_ranges</th>\n",
       "      <th>qbin_Age1</th>\n",
       "      <th>qbin_Age2</th>\n",
       "      <th>qbin_Age3</th>\n",
       "      <th>qbin_Age4</th>\n",
       "      <th>qbin_SexClass1</th>\n",
       "      <th>qbin_SexClass2</th>\n",
       "      <th>qbin_SexClass3</th>\n",
       "      <th>qbin_SexClass4</th>\n",
       "      <th>Age_ranges</th>\n",
       "    </tr>\n",
       "  </thead>\n",
       "  <tbody>\n",
       "    <tr>\n",
       "      <th>0</th>\n",
       "      <td>1</td>\n",
       "      <td>0</td>\n",
       "      <td>3</td>\n",
       "      <td>0</td>\n",
       "      <td>1</td>\n",
       "      <td>0</td>\n",
       "      <td>1</td>\n",
       "      <td>0</td>\n",
       "      <td>0</td>\n",
       "      <td>0</td>\n",
       "      <td>...</td>\n",
       "      <td>0</td>\n",
       "      <td>1</td>\n",
       "      <td>0</td>\n",
       "      <td>0</td>\n",
       "      <td>0</td>\n",
       "      <td>0</td>\n",
       "      <td>0</td>\n",
       "      <td>1</td>\n",
       "      <td>0</td>\n",
       "      <td>3</td>\n",
       "    </tr>\n",
       "    <tr>\n",
       "      <th>1</th>\n",
       "      <td>2</td>\n",
       "      <td>1</td>\n",
       "      <td>1</td>\n",
       "      <td>1</td>\n",
       "      <td>1</td>\n",
       "      <td>0</td>\n",
       "      <td>0</td>\n",
       "      <td>0</td>\n",
       "      <td>0</td>\n",
       "      <td>1</td>\n",
       "      <td>...</td>\n",
       "      <td>3</td>\n",
       "      <td>0</td>\n",
       "      <td>0</td>\n",
       "      <td>0</td>\n",
       "      <td>1</td>\n",
       "      <td>1</td>\n",
       "      <td>0</td>\n",
       "      <td>0</td>\n",
       "      <td>0</td>\n",
       "      <td>4</td>\n",
       "    </tr>\n",
       "    <tr>\n",
       "      <th>2</th>\n",
       "      <td>3</td>\n",
       "      <td>1</td>\n",
       "      <td>3</td>\n",
       "      <td>1</td>\n",
       "      <td>0</td>\n",
       "      <td>0</td>\n",
       "      <td>1</td>\n",
       "      <td>0</td>\n",
       "      <td>0</td>\n",
       "      <td>0</td>\n",
       "      <td>...</td>\n",
       "      <td>1</td>\n",
       "      <td>0</td>\n",
       "      <td>1</td>\n",
       "      <td>0</td>\n",
       "      <td>0</td>\n",
       "      <td>0</td>\n",
       "      <td>0</td>\n",
       "      <td>1</td>\n",
       "      <td>0</td>\n",
       "      <td>3</td>\n",
       "    </tr>\n",
       "  </tbody>\n",
       "</table>\n",
       "<p>3 rows × 29 columns</p>\n",
       "</div>"
      ],
      "text/plain": [
       "   PassengerId  Survived  Pclass  Sex  SibSp  Parch  unk_Cabin  Cabin_A  \\\n",
       "0            1         0       3    0      1      0          1        0   \n",
       "1            2         1       1    1      1      0          0        0   \n",
       "2            3         1       3    1      0      0          1        0   \n",
       "\n",
       "   Cabin_B  Cabin_C  ...  Fare_ranges  qbin_Age1  qbin_Age2  qbin_Age3  \\\n",
       "0        0        0  ...            0          1          0          0   \n",
       "1        0        1  ...            3          0          0          0   \n",
       "2        0        0  ...            1          0          1          0   \n",
       "\n",
       "   qbin_Age4  qbin_SexClass1  qbin_SexClass2  qbin_SexClass3  qbin_SexClass4  \\\n",
       "0          0               0               0               1               0   \n",
       "1          1               1               0               0               0   \n",
       "2          0               0               0               1               0   \n",
       "\n",
       "  Age_ranges  \n",
       "0          3  \n",
       "1          4  \n",
       "2          3  \n",
       "\n",
       "[3 rows x 29 columns]"
      ]
     },
     "execution_count": 112,
     "metadata": {},
     "output_type": "execute_result"
    }
   ],
   "source": [
    "columns_drop = ['Age', 'Name', 'Fare',  'Ticket', 'Cabin', 'Embarked', 'int_Age*Pclass', \"Cabin_T\"]\n",
    "data = clear_engineer(data, columns_drop, \"training\")\n",
    "data.head(3)"
   ]
  },
  {
   "cell_type": "code",
   "execution_count": 19,
   "metadata": {
    "scrolled": false
   },
   "outputs": [
    {
     "name": "stdout",
     "output_type": "stream",
     "text": [
      "<class 'pandas.core.frame.DataFrame'>\n",
      "RangeIndex: 891 entries, 0 to 890\n",
      "Data columns (total 29 columns):\n",
      " #   Column          Non-Null Count  Dtype   \n",
      "---  ------          --------------  -----   \n",
      " 0   PassengerId     891 non-null    int64   \n",
      " 1   Survived        891 non-null    int64   \n",
      " 2   Pclass          891 non-null    int64   \n",
      " 3   Sex             891 non-null    int64   \n",
      " 4   SibSp           891 non-null    int64   \n",
      " 5   Parch           891 non-null    int64   \n",
      " 6   unk_Cabin       891 non-null    uint8   \n",
      " 7   Cabin_A         891 non-null    uint8   \n",
      " 8   Cabin_B         891 non-null    uint8   \n",
      " 9   Cabin_C         891 non-null    uint8   \n",
      " 10  Cabin_D         891 non-null    uint8   \n",
      " 11  Cabin_E         891 non-null    uint8   \n",
      " 12  Cabin_F         891 non-null    uint8   \n",
      " 13  Cabin_G         891 non-null    uint8   \n",
      " 14  Master          891 non-null    uint8   \n",
      " 15  Miss            891 non-null    uint8   \n",
      " 16  Mrs             891 non-null    uint8   \n",
      " 17  Mr              891 non-null    uint8   \n",
      " 18  uncommon        891 non-null    uint8   \n",
      " 19  Fare_ranges     891 non-null    category\n",
      " 20  qbin_Age1       891 non-null    uint8   \n",
      " 21  qbin_Age2       891 non-null    uint8   \n",
      " 22  qbin_Age3       891 non-null    uint8   \n",
      " 23  qbin_Age4       891 non-null    uint8   \n",
      " 24  qbin_SexClass1  891 non-null    uint8   \n",
      " 25  qbin_SexClass2  891 non-null    uint8   \n",
      " 26  qbin_SexClass3  891 non-null    uint8   \n",
      " 27  qbin_SexClass4  891 non-null    uint8   \n",
      " 28  Age_ranges      891 non-null    category\n",
      "dtypes: category(2), int64(6), uint8(21)\n",
      "memory usage: 62.3 KB\n"
     ]
    }
   ],
   "source": [
    "data.info()"
   ]
  },
  {
   "cell_type": "code",
   "execution_count": 20,
   "metadata": {
    "scrolled": false
   },
   "outputs": [
    {
     "data": {
      "text/plain": [
       "Index(['PassengerId', 'Survived', 'Pclass', 'Sex', 'SibSp', 'Parch',\n",
       "       'unk_Cabin', 'Cabin_A', 'Cabin_B', 'Cabin_C', 'Cabin_D', 'Cabin_E',\n",
       "       'Cabin_F', 'Cabin_G', 'Master', 'Miss', 'Mrs', 'Mr', 'uncommon',\n",
       "       'Fare_ranges', 'qbin_Age1', 'qbin_Age2', 'qbin_Age3', 'qbin_Age4',\n",
       "       'qbin_SexClass1', 'qbin_SexClass2', 'qbin_SexClass3', 'qbin_SexClass4',\n",
       "       'Age_ranges'],\n",
       "      dtype='object')"
      ]
     },
     "execution_count": 20,
     "metadata": {},
     "output_type": "execute_result"
    }
   ],
   "source": [
    "data.columns"
   ]
  },
  {
   "cell_type": "markdown",
   "metadata": {},
   "source": [
    "## `Step 4 Evaluating Classifiers`\n",
    "\n",
    "- Strategy definition\n",
    "- Accuracy\n",
    "- Precision\n",
    "- Recall\n",
    "- F1 scores"
   ]
  },
  {
   "cell_type": "code",
   "execution_count": 21,
   "metadata": {},
   "outputs": [],
   "source": [
    "import seaborn as sns\n",
    "import matplotlib\n",
    "import matplotlib.pyplot as plt\n",
    "from sklearn.linear_model import LogisticRegression\n",
    "from sklearn.metrics import accuracy_score\n",
    "from sklearn.metrics import plot_confusion_matrix\n",
    "from sklearn.metrics import precision_score\n",
    "from sklearn.metrics import recall_score\n",
    "from sklearn.model_selection import train_test_split\n",
    "from sklearn.dummy import DummyClassifier"
   ]
  },
  {
   "cell_type": "markdown",
   "metadata": {},
   "source": [
    "### Split the data into train and test set"
   ]
  },
  {
   "cell_type": "code",
   "execution_count": 22,
   "metadata": {},
   "outputs": [],
   "source": [
    "data = pd.read_csv(\"../data/train_featured.csv\")\n",
    "y = data['Survived']\n",
    "X = data.iloc[:, 2:]\n",
    "X_train, X_test, y_train, y_test = train_test_split(X, y, test_size=0.2)"
   ]
  },
  {
   "cell_type": "markdown",
   "metadata": {},
   "source": [
    "### Define the strategy to proceed with the evaluation"
   ]
  },
  {
   "cell_type": "code",
   "execution_count": 23,
   "metadata": {},
   "outputs": [],
   "source": [
    "def define_strategy(X_train, y_train):\n",
    "    plt = matplotlib.pyplot.gcf()\n",
    "    plt.set_size_inches(12, 8)\n",
    "    strats = ['stratified', 'most_frequent', 'prior', 'uniform', 'constant']\n",
    "    train_dummy_scores = {}\n",
    "    \n",
    "    for clfs in strats:\n",
    "        if clfs == 'constant':\n",
    "            dummy_clf = DummyClassifier(strategy = clfs, random_state = 0, constant = 0)\n",
    "        else: \n",
    "            dummy_clf = DummyClassifier(strategy = clfs, random_state = 0)\n",
    "        dummy_clf.fit(X_train, y_train)\n",
    "        score = dummy_clf.score(X_train, y_train)\n",
    "        train_dummy_scores[clfs] = score\n",
    "\n",
    "    values = list(train_dummy_scores.values())\n",
    "    ax = sns.stripplot(strats, values); \n",
    "    ax.set(xlabel ='strategy', ylabel ='training score')\n",
    "    plt.savefig('../plots/strategies.jpg')"
   ]
  },
  {
   "cell_type": "code",
   "execution_count": 24,
   "metadata": {
    "scrolled": true
   },
   "outputs": [
    {
     "data": {
      "image/png": "[encoded data removed]",
      "text/plain": [
       "<Figure size 864x576 with 1 Axes>"
      ]
     },
     "metadata": {
      "needs_background": "light"
     },
     "output_type": "display_data"
    }
   ],
   "source": [
    "define_strategy(X_train, y_train)"
   ]
  },
  {
   "cell_type": "markdown",
   "metadata": {},
   "source": [
    "### Build up a dummy classifier based on the prior. This will be of use for contrasting the model. "
   ]
  },
  {
   "cell_type": "code",
   "execution_count": 25,
   "metadata": {},
   "outputs": [],
   "source": [
    "def build_dummy():\n",
    "    dummy_clf = DummyClassifier(strategy = 'most_frequent', random_state = 0)\n",
    "    dummy_clf.fit(X_train, y_train)\n",
    "    dummy_clf.score(X_train, y_train)\n",
    "    return dummy_clf"
   ]
  },
  {
   "cell_type": "code",
   "execution_count": 26,
   "metadata": {},
   "outputs": [],
   "source": [
    "dummy_clf = build_dummy()"
   ]
  },
  {
   "cell_type": "markdown",
   "metadata": {},
   "source": [
    "### Build simple logistic regression model"
   ]
  },
  {
   "cell_type": "code",
   "execution_count": 27,
   "metadata": {},
   "outputs": [],
   "source": [
    "def simple_regression(training_cols):\n",
    "    model = LogisticRegression(C=0.1, max_iter = 1000)\n",
    "    model.fit(X_train[training_cols], y_train)\n",
    "    score = model.score(X_train[training_cols], y_train)\n",
    "    model.predict(X_train[training_cols]) \n",
    "    coef = model.coef_\n",
    "    intercept = model.intercept_\n",
    "    return coef, intercept, score, model"
   ]
  },
  {
   "cell_type": "code",
   "execution_count": 28,
   "metadata": {},
   "outputs": [
    {
     "name": "stdout",
     "output_type": "stream",
     "text": [
      "Simple regression results:\n",
      "score: 0.8132022471910112 \n",
      "coef: [[ 0.08362829  0.67863052 -0.49049474 -0.91550237  1.92518617 -0.25514255\n",
      "  -0.24519869 -0.02931974 -0.01196835]] \n",
      "intercept: [2.59325289]\n"
     ]
    }
   ],
   "source": [
    "columns = [ 'Mrs', 'Miss', 'Age_ranges', 'Pclass', 'Sex', 'SibSp', 'qbin_Age2', 'Parch', 'Cabin_C']\n",
    "\n",
    "coef, intercept, score, model = simple_regression(columns)\n",
    "print(\"Simple regression results:\\nscore: \" + str(score), \\\n",
    "      \"\\ncoef: \" + str(coef), \"\\nintercept: \" + str(intercept))"
   ]
  },
  {
   "cell_type": "markdown",
   "metadata": {},
   "source": [
    "### Calculate the accuracy of the build model "
   ]
  },
  {
   "cell_type": "code",
   "execution_count": 29,
   "metadata": {},
   "outputs": [],
   "source": [
    "def accuracy(X_train, training_cols):\n",
    "    y_pred_dummy = dummy_clf.predict(X_train)\n",
    "    y_pred_lr = model.predict(X_train[training_cols])\n",
    "    accuracy = accuracy_score(y_train, y_pred_lr)    \n",
    "    return accuracy, y_pred_lr"
   ]
  },
  {
   "cell_type": "code",
   "execution_count": 30,
   "metadata": {},
   "outputs": [
    {
     "data": {
      "text/plain": [
       "0.8132022471910112"
      ]
     },
     "execution_count": 30,
     "metadata": {},
     "output_type": "execute_result"
    }
   ],
   "source": [
    "accuracy, y_pred_lr = accuracy(X_train, columns)\n",
    "accuracy"
   ]
  },
  {
   "cell_type": "code",
   "execution_count": 31,
   "metadata": {},
   "outputs": [
    {
     "data": {
      "text/plain": [
       "(array([[ 0.08362829,  0.67863052, -0.49049474, -0.91550237,  1.92518617,\n",
       "         -0.25514255, -0.24519869, -0.02931974, -0.01196835]]),\n",
       " array([2.59325289]))"
      ]
     },
     "execution_count": 31,
     "metadata": {},
     "output_type": "execute_result"
    }
   ],
   "source": [
    "coef, intercept"
   ]
  },
  {
   "cell_type": "markdown",
   "metadata": {},
   "source": [
    "### Check the types of Errors and the Confusion Matrix"
   ]
  },
  {
   "cell_type": "code",
   "execution_count": 32,
   "metadata": {},
   "outputs": [],
   "source": [
    "def confusion_matrix_(model, training_cols, X_train, y_train): \n",
    "    titles_options = [(\"without_normalization\", None),\n",
    "                      (\"Normalized\", 'true')]\n",
    "    class_names = training_cols\n",
    "    for i in range(0, 2):\n",
    "        titles = titles_options[i]\n",
    "        if i == 0: \n",
    "            disp = plot_confusion_matrix(model, X_train[columns], y_train, \n",
    "                                         cmap=plt.cm.Blues,\n",
    "                                         normalize=None)\n",
    "        else: \n",
    "            disp = plot_confusion_matrix(model, X_train[columns], y_train, \n",
    "                                 cmap=plt.cm.Blues,\n",
    "                                 normalize='true')    \n",
    "        name = (titles_options[i][0], \"confussion_matrix\")\n",
    "        name = \"_\".join(name) \n",
    "        disp.ax_.set_title(name)\n",
    "        print(name)\n",
    "        print(disp.confusion_matrix)\n",
    "        plt.savefig('../plots/'+name, format =\"jpg\")"
   ]
  },
  {
   "cell_type": "code",
   "execution_count": 33,
   "metadata": {},
   "outputs": [
    {
     "name": "stdout",
     "output_type": "stream",
     "text": [
      "without_normalization_confussion_matrix\n",
      "[[392  43]\n",
      " [ 90 187]]\n",
      "Normalized_confussion_matrix\n",
      "[[0.90114943 0.09885057]\n",
      " [0.32490975 0.67509025]]\n"
     ]
    },
    {
     "data": {
      "image/png": "[encoded data removed]",
      "text/plain": [
       "<Figure size 432x288 with 2 Axes>"
      ]
     },
     "metadata": {
      "needs_background": "light"
     },
     "output_type": "display_data"
    },
    {
     "data": {
      "image/png": "[encoded data removed]",
      "text/plain": [
       "<Figure size 432x288 with 2 Axes>"
      ]
     },
     "metadata": {
      "needs_background": "light"
     },
     "output_type": "display_data"
    }
   ],
   "source": [
    "confusion_matrix_(model, columns, X_train, y_train)"
   ]
  },
  {
   "cell_type": "markdown",
   "metadata": {},
   "source": [
    "### Calculate the precision (positive predictive value) and recall (sensitivity) of the model"
   ]
  },
  {
   "cell_type": "code",
   "execution_count": 34,
   "metadata": {},
   "outputs": [],
   "source": [
    "def precision_recall(y_train, y_pred_lr): \n",
    "    precision = precision_score(y_train, y_pred_lr)\n",
    "    recall = recall_score(y_train, y_pred_lr)\n",
    "    return precision, recall"
   ]
  },
  {
   "cell_type": "code",
   "execution_count": 35,
   "metadata": {
    "scrolled": true
   },
   "outputs": [
    {
     "data": {
      "text/plain": [
       "(0.8130434782608695, 0.6750902527075813)"
      ]
     },
     "execution_count": 35,
     "metadata": {},
     "output_type": "execute_result"
    }
   ],
   "source": [
    "precision, recall = precision_recall(y_train, y_pred_lr)\n",
    "precision, recall"
   ]
  },
  {
   "cell_type": "markdown",
   "metadata": {},
   "source": [
    "### Calculate the F1 score (harmonic mean of precision and recall) as a measure of a test's accuracy"
   ]
  },
  {
   "cell_type": "code",
   "execution_count": 36,
   "metadata": {
    "scrolled": false
   },
   "outputs": [
    {
     "data": {
      "text/plain": [
       "0.73767258382643"
      ]
     },
     "execution_count": 36,
     "metadata": {},
     "output_type": "execute_result"
    }
   ],
   "source": [
    "F1 = 2 * (precision*recall)/(precision+recall)\n",
    "F1"
   ]
  },
  {
   "cell_type": "markdown",
   "metadata": {},
   "source": [
    "## `Step 5: Evaluating the logistic Regression model using Cross - validation`"
   ]
  },
  {
   "cell_type": "code",
   "execution_count": 37,
   "metadata": {},
   "outputs": [],
   "source": [
    "from sklearn.model_selection import cross_val_score"
   ]
  },
  {
   "cell_type": "code",
   "execution_count": 38,
   "metadata": {
    "scrolled": true
   },
   "outputs": [],
   "source": [
    "cross_scores = cross_val_score(model, X_train, y_train, cv=5, scoring=\"accuracy\")"
   ]
  },
  {
   "cell_type": "code",
   "execution_count": 39,
   "metadata": {
    "scrolled": true
   },
   "outputs": [
    {
     "data": {
      "text/plain": [
       "array([0.75524476, 0.82517483, 0.78169014, 0.79577465, 0.78169014])"
      ]
     },
     "execution_count": 39,
     "metadata": {},
     "output_type": "execute_result"
    }
   ],
   "source": [
    "cross_scores"
   ]
  },
  {
   "cell_type": "code",
   "execution_count": 40,
   "metadata": {
    "scrolled": false
   },
   "outputs": [
    {
     "data": {
      "text/plain": [
       "(0.788, 0.022781182025032227)"
      ]
     },
     "execution_count": 40,
     "metadata": {},
     "output_type": "execute_result"
    }
   ],
   "source": [
    "cross_scores.mean().round(3), cross_scores.std()"
   ]
  },
  {
   "cell_type": "markdown",
   "metadata": {},
   "source": [
    "## `Step 6. Use other Machine learning Methods to predict survival and dead accuracy`\n",
    "\n",
    "__Machine learning classifying models: Classifiers__\n",
    "- Logistic Regression\n",
    "- Random Forest\n",
    "- K Neighbors\n",
    "- C-Support Vector\n",
    "- Gradient Boosting\n",
    "- Linear Discriminant Analysis\n",
    "\n"
   ]
  },
  {
   "cell_type": "code",
   "execution_count": 41,
   "metadata": {},
   "outputs": [],
   "source": [
    "from sklearn.ensemble import RandomForestClassifier \n",
    "from sklearn.model_selection import GridSearchCV\n",
    "from sklearn.ensemble import GradientBoostingClassifier\n",
    "from sklearn.model_selection import StratifiedKFold\n",
    "from sklearn.neighbors import KNeighborsClassifier\n",
    "from sklearn.svm import SVC\n",
    "from sklearn.discriminant_analysis import LinearDiscriminantAnalysis"
   ]
  },
  {
   "cell_type": "markdown",
   "metadata": {},
   "source": [
    "### Get an overview of several models at once "
   ]
  },
  {
   "cell_type": "code",
   "execution_count": 43,
   "metadata": {},
   "outputs": [],
   "source": [
    "def cross_validation_models(X_train, y_train, splits):\n",
    "    random_state = 42\n",
    "    cross_val_results = [] \n",
    "    cross_val_means = [] \n",
    "    cross_val_std = [] \n",
    "    models = [] \n",
    "    K_fold = StratifiedKFold(n_splits=splits)\n",
    "    models.append(LogisticRegression(random_state = random_state))\n",
    "    models.append(RandomForestClassifier(random_state=random_state))\n",
    "    models.append(KNeighborsClassifier())\n",
    "    models.append(SVC(random_state=random_state))\n",
    "    models.append(GradientBoostingClassifier(random_state=random_state))\n",
    "    models.append(LinearDiscriminantAnalysis())\n",
    "    for i in models :\n",
    "        cross_val_results.append(cross_val_score(i, X_train, y_train, \n",
    "                                          scoring = \"accuracy\", \n",
    "                                                 cv = K_fold, n_jobs=5))\n",
    "    for results in cross_val_results:\n",
    "        cross_val_means.append(results.mean())\n",
    "        cross_val_std.append(results.std())\n",
    "    cross_val_df = pd.DataFrame(\n",
    "        {\"Cross_Val_Means\":cross_val_means,\n",
    "         \"Cross_Val_Errors\": cross_val_std,\n",
    "         \"Algorithms\":[\n",
    "             \"Logistic_Regression\", \"Random_Forest\",\n",
    "             \"K_Neighbors\", \"SVC\", \"Gradient_Boosting\", \n",
    "             \"LinearDiscriminantAnalysis\"\n",
    "            ]\n",
    "        })\n",
    "    plt.figure(figsize=(6, 9))\n",
    "    cross_val_plot = sns.barplot(\"Cross_Val_Means\", \"Algorithms\", data = cross_val_df,\n",
    "                    palette=\"colorblind\", orient = \"h\", **{'xerr':cross_val_std})\n",
    "    cross_val_plot.set_xlabel(\"Accuracy (mean)\")\n",
    "    cross_val_plot = cross_val_plot.set_title(\"Cross validation scores\")\n",
    "    plt.savefig('../plots/Cross_val_algorithms.jpg', format =\"jpg\", bbox_inches = 'tight')\n",
    "    return cross_val_df"
   ]
  },
  {
   "cell_type": "code",
   "execution_count": 44,
   "metadata": {},
   "outputs": [
    {
     "data": {
      "text/html": [
       "<div>\n",
       "<style scoped>\n",
       "    .dataframe tbody tr th:only-of-type {\n",
       "        vertical-align: middle;\n",
       "    }\n",
       "\n",
       "    .dataframe tbody tr th {\n",
       "        vertical-align: top;\n",
       "    }\n",
       "\n",
       "    .dataframe thead th {\n",
       "        text-align: right;\n",
       "    }\n",
       "</style>\n",
       "<table border=\"1\" class=\"dataframe\">\n",
       "  <thead>\n",
       "    <tr style=\"text-align: right;\">\n",
       "      <th></th>\n",
       "      <th>Cross_Val_Means</th>\n",
       "      <th>Cross_Val_Errors</th>\n",
       "      <th>Algorithms</th>\n",
       "    </tr>\n",
       "  </thead>\n",
       "  <tbody>\n",
       "    <tr>\n",
       "      <th>0</th>\n",
       "      <td>0.804747</td>\n",
       "      <td>0.022544</td>\n",
       "      <td>Logistic_Regression</td>\n",
       "    </tr>\n",
       "    <tr>\n",
       "      <th>1</th>\n",
       "      <td>0.813247</td>\n",
       "      <td>0.020240</td>\n",
       "      <td>Random_Forest</td>\n",
       "    </tr>\n",
       "    <tr>\n",
       "      <th>2</th>\n",
       "      <td>0.780902</td>\n",
       "      <td>0.016822</td>\n",
       "      <td>K_Neighbors</td>\n",
       "    </tr>\n",
       "    <tr>\n",
       "      <th>3</th>\n",
       "      <td>0.830050</td>\n",
       "      <td>0.003099</td>\n",
       "      <td>SVC</td>\n",
       "    </tr>\n",
       "    <tr>\n",
       "      <th>4</th>\n",
       "      <td>0.816005</td>\n",
       "      <td>0.015707</td>\n",
       "      <td>Gradient_Boosting</td>\n",
       "    </tr>\n",
       "    <tr>\n",
       "      <th>5</th>\n",
       "      <td>0.814557</td>\n",
       "      <td>0.017460</td>\n",
       "      <td>LinearDiscriminantAnalysis</td>\n",
       "    </tr>\n",
       "  </tbody>\n",
       "</table>\n",
       "</div>"
      ],
      "text/plain": [
       "   Cross_Val_Means  Cross_Val_Errors                  Algorithms\n",
       "0         0.804747          0.022544         Logistic_Regression\n",
       "1         0.813247          0.020240               Random_Forest\n",
       "2         0.780902          0.016822                 K_Neighbors\n",
       "3         0.830050          0.003099                         SVC\n",
       "4         0.816005          0.015707           Gradient_Boosting\n",
       "5         0.814557          0.017460  LinearDiscriminantAnalysis"
      ]
     },
     "execution_count": 44,
     "metadata": {},
     "output_type": "execute_result"
    },
    {
     "data": {
      "image/png": "[encoded data removed]",
      "text/plain": [
       "<Figure size 432x648 with 1 Axes>"
      ]
     },
     "metadata": {
      "needs_background": "light"
     },
     "output_type": "display_data"
    }
   ],
   "source": [
    "cross_val_df = cross_validation_models(X_train, y_train, 5)\n",
    "cross_val_df"
   ]
  },
  {
   "cell_type": "markdown",
   "metadata": {},
   "source": [
    "## `Step 7: Hyperparameter Optimization`"
   ]
  },
  {
   "cell_type": "markdown",
   "metadata": {},
   "source": [
    "#### 7.1. __Fine tuning the Logistic Regression classifier model__"
   ]
  },
  {
   "cell_type": "code",
   "execution_count": 45,
   "metadata": {},
   "outputs": [],
   "source": [
    "def hyper_opt_logistic(X_train, y_train, splits):\n",
    "    K_fold = StratifiedKFold(n_splits = splits)\n",
    "    LR_model = LogisticRegression()\n",
    "    lR_parameters = {\n",
    "        \"penalty\" : [\"l2\"],\n",
    "        \"C\" :[0.01, 0.1, 1, 10, 100],\n",
    "        \"intercept_scaling\": [1, 2, 3, 4],\n",
    "        \"tol\" : [0.0001,0.0002,0.0003],\n",
    "        \"max_iter\": [100,200,300],\n",
    "        \"solver\":['liblinear'],\n",
    "        \"verbose\":[1]\n",
    "    }\n",
    "    grid_LR_model = GridSearchCV(LR_model, param_grid = lR_parameters, cv=K_fold,\n",
    "                         scoring=\"accuracy\", n_jobs= 5, verbose = 1)\n",
    "    grid_LR_model.fit(X_train, y_train)\n",
    "    LR_model_best = grid_LR_model.best_estimator_\n",
    "    best_score_LR = grid_LR_model.best_score_\n",
    "    return best_score_LR, LR_model_best"
   ]
  },
  {
   "cell_type": "code",
   "execution_count": 46,
   "metadata": {},
   "outputs": [
    {
     "name": "stdout",
     "output_type": "stream",
     "text": [
      "Fitting 5 folds for each of 180 candidates, totalling 900 fits\n"
     ]
    },
    {
     "name": "stderr",
     "output_type": "stream",
     "text": [
      "[Parallel(n_jobs=3)]: Using backend LokyBackend with 3 concurrent workers.\n",
      "[Parallel(n_jobs=3)]: Done 634 tasks      | elapsed:    2.1s\n"
     ]
    },
    {
     "name": "stdout",
     "output_type": "stream",
     "text": [
      "[LibLinear]"
     ]
    },
    {
     "name": "stderr",
     "output_type": "stream",
     "text": [
      "[Parallel(n_jobs=3)]: Done 900 out of 900 | elapsed:    2.9s finished\n"
     ]
    },
    {
     "data": {
      "text/plain": [
       "(0.8047473653107456,\n",
       " LogisticRegression(C=1, intercept_scaling=3, solver='liblinear', verbose=1))"
      ]
     },
     "execution_count": 46,
     "metadata": {},
     "output_type": "execute_result"
    }
   ],
   "source": [
    "best_score_LR, LR_model_best = hyper_opt_logistic(X_train, y_train, 5)\n",
    "best_score_LR, LR_model_best"
   ]
  },
  {
   "cell_type": "markdown",
   "metadata": {},
   "source": [
    "#### 7.2. __Fine tuning the Random Forest classifier model__"
   ]
  },
  {
   "cell_type": "code",
   "execution_count": 47,
   "metadata": {},
   "outputs": [],
   "source": [
    "def hyper_opt_RanForest(X_train, y_train, splits):\n",
    "    K_fold = StratifiedKFold(n_splits = splits)\n",
    "    RF_model = RandomForestClassifier()\n",
    "    rf_parameters = {\n",
    "        \"max_depth\": [3, 6, 9, 12, None],\n",
    "        \"min_samples_split\": [2, 6, 20],\n",
    "        \"min_samples_leaf\": [1, 4, 16],\n",
    "        \"n_estimators\" :[100,200,300,400],\n",
    "        \"criterion\": [\"gini\"]\n",
    "        }\n",
    "    grid_RF = GridSearchCV(RF_model, param_grid = rf_parameters, cv=K_fold,\n",
    "                         scoring=\"accuracy\", n_jobs= 5, verbose = 1)\n",
    "\n",
    "    grid_RF.fit(X_train, y_train)\n",
    "    RF_model_best = grid_RF.best_estimator_\n",
    "    best_score_RF = grid_RF.best_score_\n",
    "    return best_score_RF, RF_model_best"
   ]
  },
  {
   "cell_type": "code",
   "execution_count": 48,
   "metadata": {},
   "outputs": [
    {
     "name": "stderr",
     "output_type": "stream",
     "text": [
      "[Parallel(n_jobs=3)]: Using backend LokyBackend with 3 concurrent workers.\n"
     ]
    },
    {
     "name": "stdout",
     "output_type": "stream",
     "text": [
      "Fitting 5 folds for each of 180 candidates, totalling 900 fits\n"
     ]
    },
    {
     "name": "stderr",
     "output_type": "stream",
     "text": [
      "[Parallel(n_jobs=3)]: Done  44 tasks      | elapsed:    6.9s\n",
      "[Parallel(n_jobs=3)]: Done 194 tasks      | elapsed:   31.8s\n",
      "[Parallel(n_jobs=3)]: Done 444 tasks      | elapsed:  1.3min\n",
      "[Parallel(n_jobs=3)]: Done 794 tasks      | elapsed:  2.4min\n",
      "[Parallel(n_jobs=3)]: Done 900 out of 900 | elapsed:  2.7min finished\n"
     ]
    },
    {
     "data": {
      "text/plain": [
       "(0.832847434255885, RandomForestClassifier(min_samples_split=6))"
      ]
     },
     "execution_count": 48,
     "metadata": {},
     "output_type": "execute_result"
    }
   ],
   "source": [
    "best_score_RF, RF_model_best = hyper_opt_RanForest(X_train, y_train, 5)\n",
    "best_score_RF, RF_model_best"
   ]
  },
  {
   "cell_type": "markdown",
   "metadata": {},
   "source": [
    "#### 7.3. __Fine tuning the K Neighbors classifier model__"
   ]
  },
  {
   "cell_type": "code",
   "execution_count": 49,
   "metadata": {},
   "outputs": [],
   "source": [
    "def hyper_opt_KNN(X_train, y_train, splits):\n",
    "    K_fold = StratifiedKFold(n_splits = splits)\n",
    "    KNN_model = KNeighborsClassifier()#Use GridSearch\n",
    "\n",
    "    KNN_parameters = {\n",
    "        \"leaf_size\" : list(range(1,50)),\n",
    "        \"n_neighbors\" : list(range(1,30)),\n",
    "        \"p\" : [1,2]    \n",
    "    }\n",
    "\n",
    "    grid_KNN_model = GridSearchCV(KNN_model, \n",
    "                                  param_grid = KNN_parameters, \n",
    "                                  cv=K_fold,  \n",
    "                                  scoring=\"accuracy\", \n",
    "                                  n_jobs= 5, \n",
    "                                  verbose = 1\n",
    "                                 )\n",
    "    grid_KNN_model.fit(X_train, y_train)\n",
    "    KNN_model_best = grid_KNN_model.best_estimator_\n",
    "    best_score_KNN = grid_KNN_model.best_score_\n",
    "    return best_score_KNN, KNN_model_best"
   ]
  },
  {
   "cell_type": "code",
   "execution_count": 50,
   "metadata": {},
   "outputs": [
    {
     "name": "stdout",
     "output_type": "stream",
     "text": [
      "Fitting 5 folds for each of 2842 candidates, totalling 14210 fits\n"
     ]
    },
    {
     "name": "stderr",
     "output_type": "stream",
     "text": [
      "[Parallel(n_jobs=3)]: Using backend LokyBackend with 3 concurrent workers.\n",
      "[Parallel(n_jobs=3)]: Done 146 tasks      | elapsed:    2.3s\n",
      "[Parallel(n_jobs=3)]: Done 746 tasks      | elapsed:   10.7s\n",
      "[Parallel(n_jobs=3)]: Done 2274 tasks      | elapsed:   25.2s\n",
      "[Parallel(n_jobs=3)]: Done 5074 tasks      | elapsed:   47.3s\n",
      "[Parallel(n_jobs=3)]: Done 8674 tasks      | elapsed:  1.2min\n",
      "[Parallel(n_jobs=3)]: Done 13074 tasks      | elapsed:  1.7min\n",
      "[Parallel(n_jobs=3)]: Done 14210 out of 14210 | elapsed:  1.8min finished\n"
     ]
    },
    {
     "data": {
      "text/plain": [
       "(0.8188023244361273, KNeighborsClassifier(leaf_size=18, n_neighbors=18, p=1))"
      ]
     },
     "execution_count": 50,
     "metadata": {},
     "output_type": "execute_result"
    }
   ],
   "source": [
    "best_score_KNN, KNN_model_best = hyper_opt_KNN(X_train, y_train, 5)\n",
    "best_score_KNN, KNN_model_best"
   ]
  },
  {
   "cell_type": "markdown",
   "metadata": {},
   "source": [
    "#### 7.4. __Fine tuning the C. Suport Vector model__"
   ]
  },
  {
   "cell_type": "code",
   "execution_count": 51,
   "metadata": {},
   "outputs": [],
   "source": [
    "def hyper_opt_SVMC(X_train, y_train, splits):\n",
    "    K_fold = StratifiedKFold(n_splits = splits)\n",
    "    SVMC_model = SVC(probability=True)\n",
    "    svmc_parameters = {\n",
    "        'C': [1, 10, 50, 100, 200, 300], \n",
    "        'kernel': ['rbf'], \n",
    "        'gamma': [0.0001, 0.001, 0.01, 0.1, 1]\n",
    "    }\n",
    "\n",
    "    grid_SVMC_model = GridSearchCV(SVMC_model, param_grid = svmc_parameters, cv = K_fold,\n",
    "                          scoring=\"accuracy\", n_jobs= -1, verbose = 1)\n",
    "\n",
    "    grid_SVMC_model.fit(X_train,y_train)\n",
    "    SVMC_model_best = grid_SVMC_model.best_estimator_\n",
    "    best_score_SVMC = grid_SVMC_model.best_score_\n",
    "    return best_score_SVMC, SVMC_model_best"
   ]
  },
  {
   "cell_type": "code",
   "execution_count": 52,
   "metadata": {},
   "outputs": [
    {
     "name": "stderr",
     "output_type": "stream",
     "text": [
      "[Parallel(n_jobs=-1)]: Using backend LokyBackend with 4 concurrent workers.\n"
     ]
    },
    {
     "name": "stdout",
     "output_type": "stream",
     "text": [
      "Fitting 5 folds for each of 30 candidates, totalling 150 fits\n"
     ]
    },
    {
     "name": "stderr",
     "output_type": "stream",
     "text": [
      "[Parallel(n_jobs=-1)]: Done  76 tasks      | elapsed:    2.7s\n",
      "[Parallel(n_jobs=-1)]: Done 150 out of 150 | elapsed:    5.5s finished\n"
     ]
    },
    {
     "data": {
      "text/plain": [
       "(0.8286417807544568, SVC(C=10, gamma=0.01, probability=True))"
      ]
     },
     "execution_count": 52,
     "metadata": {},
     "output_type": "execute_result"
    }
   ],
   "source": [
    "best_score_SVMC, SVMC_model_best = hyper_opt_SVMC(X_train, y_train, 5)\n",
    "best_score_SVMC, SVMC_model_best"
   ]
  },
  {
   "cell_type": "markdown",
   "metadata": {},
   "source": [
    "#### 7.5. __Fine tuning the Gradient Boosting classifier__"
   ]
  },
  {
   "cell_type": "code",
   "execution_count": 53,
   "metadata": {},
   "outputs": [],
   "source": [
    "def hyper_opt_GBC(X_train, y_train, splits):\n",
    "    K_fold = StratifiedKFold(n_splits = splits)\n",
    "    GB_model = GradientBoostingClassifier()\n",
    "    GB_parameters = {\n",
    "                  'loss' : [\"deviance\"],\n",
    "                  'n_estimators' : [100,200,300],\n",
    "                  'learning_rate': [0.1, 0.05, 0.01, 0.001],\n",
    "                  'max_depth': [4, 8,16],\n",
    "                  'min_samples_leaf': [100,150,250],\n",
    "                  'max_features': [0.3, 0.1]\n",
    "                  }\n",
    "    gridGB_model = GridSearchCV(GB_model, param_grid = GB_parameters, cv=K_fold, \n",
    "                         scoring=\"accuracy\", n_jobs= 5, verbose = 1)\n",
    "\n",
    "    gridGB_model.fit(X_train,y_train)\n",
    "    GB_model_best = gridGB_model.best_estimator_\n",
    "    best_score_GBC = gridGB_model.best_score_\n",
    "    return best_score_GBC, GB_model_best"
   ]
  },
  {
   "cell_type": "code",
   "execution_count": 54,
   "metadata": {},
   "outputs": [
    {
     "name": "stderr",
     "output_type": "stream",
     "text": [
      "[Parallel(n_jobs=3)]: Using backend LokyBackend with 3 concurrent workers.\n"
     ]
    },
    {
     "name": "stdout",
     "output_type": "stream",
     "text": [
      "Fitting 5 folds for each of 216 candidates, totalling 1080 fits\n"
     ]
    },
    {
     "name": "stderr",
     "output_type": "stream",
     "text": [
      "[Parallel(n_jobs=3)]: Done  44 tasks      | elapsed:    2.2s\n",
      "[Parallel(n_jobs=3)]: Done 301 tasks      | elapsed:   13.1s\n",
      "[Parallel(n_jobs=3)]: Done 801 tasks      | elapsed:   35.2s\n",
      "[Parallel(n_jobs=3)]: Done 1075 out of 1080 | elapsed:   47.6s remaining:    0.2s\n",
      "[Parallel(n_jobs=3)]: Done 1080 out of 1080 | elapsed:   47.8s finished\n"
     ]
    },
    {
     "data": {
      "text/plain": [
       "(0.8089825667290456,\n",
       " GradientBoostingClassifier(max_depth=16, max_features=0.3, min_samples_leaf=100,\n",
       "                            n_estimators=300))"
      ]
     },
     "execution_count": 54,
     "metadata": {},
     "output_type": "execute_result"
    }
   ],
   "source": [
    "best_score_GBC, GB_model_best = hyper_opt_GBC(X_train, y_train, 5)\n",
    "best_score_GBC, GB_model_best"
   ]
  },
  {
   "cell_type": "markdown",
   "metadata": {},
   "source": [
    "#### 7.6. __Fine tuning the Linear Discriminant Analysis__"
   ]
  },
  {
   "cell_type": "code",
   "execution_count": 55,
   "metadata": {},
   "outputs": [],
   "source": [
    "def hyper_opt_LDA(X_train, y_train, splits):\n",
    "    K_fold = StratifiedKFold(n_splits = splits)\n",
    "    LDA_model= LinearDiscriminantAnalysis()\n",
    "    lda_parameters= {\"solver\" : [\"svd\"],\n",
    "                  \"tol\" : [0.0001,0.0002,0.0003]}\n",
    "\n",
    "    grid_LDA_model = GridSearchCV(LDA_model, param_grid = lda_parameters, cv=K_fold,\n",
    "                         scoring=\"accuracy\", n_jobs= 5, verbose = 1)\n",
    "\n",
    "    grid_LDA_model.fit(X_train,y_train)\n",
    "    LDA_model_best = grid_LDA_model.best_estimator_\n",
    "    best_score_LDA = grid_LDA_model.best_score_\n",
    "    return best_score_LDA, LDA_model_best"
   ]
  },
  {
   "cell_type": "code",
   "execution_count": 56,
   "metadata": {},
   "outputs": [
    {
     "name": "stdout",
     "output_type": "stream",
     "text": [
      "Fitting 5 folds for each of 3 candidates, totalling 15 fits\n"
     ]
    },
    {
     "name": "stderr",
     "output_type": "stream",
     "text": [
      "[Parallel(n_jobs=3)]: Using backend LokyBackend with 3 concurrent workers.\n",
      "[Parallel(n_jobs=3)]: Done  10 out of  15 | elapsed:    0.1s remaining:    0.0s\n",
      "[Parallel(n_jobs=3)]: Done  15 out of  15 | elapsed:    0.1s finished\n"
     ]
    },
    {
     "data": {
      "text/plain": [
       "(0.8145572737122034, LinearDiscriminantAnalysis())"
      ]
     },
     "execution_count": 56,
     "metadata": {},
     "output_type": "execute_result"
    }
   ],
   "source": [
    "best_score_LDA, LDA_model_best = hyper_opt_LDA(X_train, y_train, 5)\n",
    "best_score_LDA, LDA_model_best"
   ]
  },
  {
   "cell_type": "markdown",
   "metadata": {},
   "source": [
    "#### 7.7. Create a function for the hyperparameter optimization for all"
   ]
  },
  {
   "cell_type": "code",
   "execution_count": 57,
   "metadata": {},
   "outputs": [],
   "source": [
    "def general_hyper(X_train, y_train, splits):\n",
    "    best_LR, LR_mbest = hyper_opt_logistic(X_train, y_train, splits)\n",
    "    best_RF, RF_mbest = hyper_opt_RanForest(X_train, y_train, splits)\n",
    "    best_KNN, KNN_mbest = hyper_opt_KNN(X_train, y_train, splits)\n",
    "    best_SVMC, SVMC_mbest = hyper_opt_SVMC(X_train, y_train, splits)\n",
    "    best_GBC, GBC_mbest = hyper_opt_GBC(X_train, y_train, splits)\n",
    "    best_score_LDA, LDA_mbest = hyper_opt_LDA(X_train, y_train, splits)\n",
    "    return best_LR, LR_mbest, best_RF, RF_mbest, best_KNN, KNN_mbest, \\\n",
    "           best_SVMC, SVMC_mbest, best_score_GBC, GBC_mbest, \\\n",
    "           best_score_LDA, LDA_mbest\n"
   ]
  },
  {
   "cell_type": "code",
   "execution_count": 58,
   "metadata": {},
   "outputs": [
    {
     "name": "stdout",
     "output_type": "stream",
     "text": [
      "Fitting 5 folds for each of 180 candidates, totalling 900 fits\n"
     ]
    },
    {
     "name": "stderr",
     "output_type": "stream",
     "text": [
      "[Parallel(n_jobs=3)]: Using backend LokyBackend with 3 concurrent workers.\n",
      "[Parallel(n_jobs=3)]: Done 634 tasks      | elapsed:    2.3s\n",
      "[Parallel(n_jobs=3)]: Done 900 out of 900 | elapsed:    3.2s finished\n",
      "[Parallel(n_jobs=3)]: Using backend LokyBackend with 3 concurrent workers.\n"
     ]
    },
    {
     "name": "stdout",
     "output_type": "stream",
     "text": [
      "[LibLinear]Fitting 5 folds for each of 180 candidates, totalling 900 fits\n"
     ]
    },
    {
     "name": "stderr",
     "output_type": "stream",
     "text": [
      "[Parallel(n_jobs=3)]: Done  44 tasks      | elapsed:    7.8s\n",
      "[Parallel(n_jobs=3)]: Done 194 tasks      | elapsed:   34.5s\n",
      "[Parallel(n_jobs=3)]: Done 444 tasks      | elapsed:  1.4min\n",
      "[Parallel(n_jobs=3)]: Done 794 tasks      | elapsed:  2.5min\n",
      "[Parallel(n_jobs=3)]: Done 900 out of 900 | elapsed:  2.9min finished\n"
     ]
    },
    {
     "name": "stdout",
     "output_type": "stream",
     "text": [
      "Fitting 5 folds for each of 2842 candidates, totalling 14210 fits\n"
     ]
    },
    {
     "name": "stderr",
     "output_type": "stream",
     "text": [
      "[Parallel(n_jobs=3)]: Using backend LokyBackend with 3 concurrent workers.\n",
      "[Parallel(n_jobs=3)]: Done 146 tasks      | elapsed:    2.6s\n",
      "[Parallel(n_jobs=3)]: Done 746 tasks      | elapsed:   11.3s\n",
      "[Parallel(n_jobs=3)]: Done 2214 tasks      | elapsed:   25.8s\n",
      "[Parallel(n_jobs=3)]: Done 5014 tasks      | elapsed:   48.6s\n",
      "[Parallel(n_jobs=3)]: Done 8614 tasks      | elapsed:  1.2min\n",
      "[Parallel(n_jobs=3)]: Done 13014 tasks      | elapsed:  1.7min\n",
      "[Parallel(n_jobs=3)]: Done 14210 out of 14210 | elapsed:  1.8min finished\n",
      "[Parallel(n_jobs=-1)]: Using backend LokyBackend with 4 concurrent workers.\n"
     ]
    },
    {
     "name": "stdout",
     "output_type": "stream",
     "text": [
      "Fitting 5 folds for each of 30 candidates, totalling 150 fits\n"
     ]
    },
    {
     "name": "stderr",
     "output_type": "stream",
     "text": [
      "[Parallel(n_jobs=-1)]: Done  76 tasks      | elapsed:    2.6s\n",
      "[Parallel(n_jobs=-1)]: Done 143 out of 150 | elapsed:    5.2s remaining:    0.3s\n",
      "[Parallel(n_jobs=-1)]: Done 150 out of 150 | elapsed:    5.3s finished\n"
     ]
    },
    {
     "name": "stdout",
     "output_type": "stream",
     "text": [
      "Fitting 5 folds for each of 216 candidates, totalling 1080 fits\n"
     ]
    },
    {
     "name": "stderr",
     "output_type": "stream",
     "text": [
      "[Parallel(n_jobs=3)]: Using backend LokyBackend with 3 concurrent workers.\n",
      "[Parallel(n_jobs=3)]: Done  82 tasks      | elapsed:    4.0s\n",
      "[Parallel(n_jobs=3)]: Done 382 tasks      | elapsed:   16.8s\n",
      "[Parallel(n_jobs=3)]: Done 882 tasks      | elapsed:   37.9s\n"
     ]
    },
    {
     "name": "stdout",
     "output_type": "stream",
     "text": [
      "Fitting 5 folds for each of 3 candidates, totalling 15 fits\n"
     ]
    },
    {
     "name": "stderr",
     "output_type": "stream",
     "text": [
      "[Parallel(n_jobs=3)]: Done 1080 out of 1080 | elapsed:   46.1s finished\n",
      "[Parallel(n_jobs=3)]: Using backend LokyBackend with 3 concurrent workers.\n",
      "[Parallel(n_jobs=3)]: Done  15 out of  15 | elapsed:    0.1s finished\n"
     ]
    }
   ],
   "source": [
    "LR_best, LR_model, RF_best, RF_model, KNN_best, KNN_model, \\\n",
    "SVMC_best, SVMC_model, GBC_best, GBC_model, LDA_best, \\\n",
    "LDA_model, = general_hyper(X_train, y_train, 5)"
   ]
  },
  {
   "cell_type": "code",
   "execution_count": 59,
   "metadata": {},
   "outputs": [
    {
     "data": {
      "text/plain": [
       "LogisticRegression(C=1, intercept_scaling=3, solver='liblinear', verbose=1)"
      ]
     },
     "execution_count": 59,
     "metadata": {},
     "output_type": "execute_result"
    }
   ],
   "source": [
    "LR_best, RF_best, KNN_best, SVMC_best, GBC_best, LDA_best\n",
    "LR_model"
   ]
  },
  {
   "cell_type": "markdown",
   "metadata": {},
   "source": [
    "### How to explore the results from the grid search \"GridSearchCV\" ? "
   ]
  },
  {
   "cell_type": "code",
   "execution_count": 62,
   "metadata": {},
   "outputs": [],
   "source": [
    "def hyperparam_optimization(X_train, y_train, splits):\n",
    "    K_fold = StratifiedKFold(n_splits = splits)\n",
    "    model_rf = RandomForestClassifier(n_estimators = 100, max_depth = 3, \\\n",
    "                                      max_features = 3, min_samples_split = splits)\n",
    "    rf_parameters = {\n",
    "        \"max_depth\": [3, 6, 9, 12, None],\n",
    "        \"min_samples_split\": [2, 6, 20],\n",
    "        \"min_samples_leaf\": [1, 4, 16],\n",
    "        \"n_estimators\" :[100,200,300,400],\n",
    "        \"criterion\": [\"gini\"]\n",
    "        }\n",
    "    \n",
    "    grid_RF = GridSearchCV(RF_model, param_grid = rf_parameters, cv=K_fold,\n",
    "                         scoring=\"accuracy\", n_jobs= 3, verbose = 1)\n",
    "    grid_RF.fit(X_train, y_train)\n",
    "    columns = ['mean_test_score', 'std_test_score', 'mean_fit_time', \\\n",
    "            'param_max_depth', 'param_n_estimators']\n",
    "    results_gridcv = pd.DataFrame(grid_RF.cv_results_)\n",
    "    results_gridcv[columns].sort_values('mean_test_score', ascending=False)\n",
    "    random_forest = RandomForestClassifier(n_estimators=100, max_depth = 10,\\\n",
    "                                           max_features =3)\n",
    "    random_forest.fit(X_train, y_train)\n",
    "    y_prediction = random_forest.predict(X_train)\n",
    "    random_forest.score(X_train, y_train)\n",
    "    acc_random_forest = round(random_forest.score(X_train, y_train) * 100, 2)\n",
    "    return results_gridcv, acc_random_forest, random_forest"
   ]
  },
  {
   "cell_type": "code",
   "execution_count": 63,
   "metadata": {},
   "outputs": [
    {
     "name": "stdout",
     "output_type": "stream",
     "text": [
      "Fitting 5 folds for each of 180 candidates, totalling 900 fits\n"
     ]
    },
    {
     "name": "stderr",
     "output_type": "stream",
     "text": [
      "[Parallel(n_jobs=3)]: Using backend LokyBackend with 3 concurrent workers.\n",
      "[Parallel(n_jobs=3)]: Done  68 tasks      | elapsed:   11.0s\n",
      "[Parallel(n_jobs=3)]: Done 218 tasks      | elapsed:   39.9s\n",
      "[Parallel(n_jobs=3)]: Done 468 tasks      | elapsed:  1.4min\n",
      "[Parallel(n_jobs=3)]: Done 818 tasks      | elapsed:  2.5min\n",
      "[Parallel(n_jobs=3)]: Done 900 out of 900 | elapsed:  2.7min finished\n"
     ]
    },
    {
     "ename": "AttributeError",
     "evalue": "'numpy.float64' object has no attribute 'head'",
     "output_type": "error",
     "traceback": [
      "\u001b[0;31m---------------------------------------------------------------------------\u001b[0m",
      "\u001b[0;31mAttributeError\u001b[0m                            Traceback (most recent call last)",
      "\u001b[0;32m<ipython-input-63-bdf8ebddf54f>\u001b[0m in \u001b[0;36m<module>\u001b[0;34m\u001b[0m\n\u001b[1;32m      1\u001b[0m \u001b[0mgridcv_res\u001b[0m\u001b[0;34m,\u001b[0m \u001b[0mrandom_forest_res\u001b[0m\u001b[0;34m,\u001b[0m \u001b[0mrf_model\u001b[0m \u001b[0;34m=\u001b[0m \u001b[0mhyperparam_optimization\u001b[0m\u001b[0;34m(\u001b[0m\u001b[0mX_train\u001b[0m\u001b[0;34m,\u001b[0m \u001b[0my_train\u001b[0m\u001b[0;34m,\u001b[0m \u001b[0;36m5\u001b[0m\u001b[0;34m)\u001b[0m\u001b[0;34m\u001b[0m\u001b[0;34m\u001b[0m\u001b[0m\n\u001b[0;32m----> 2\u001b[0;31m \u001b[0mgridcv_res\u001b[0m\u001b[0;34m.\u001b[0m\u001b[0mhead\u001b[0m\u001b[0;34m(\u001b[0m\u001b[0;36m10\u001b[0m\u001b[0;34m)\u001b[0m\u001b[0;34m,\u001b[0m \u001b[0mrandom_forest_res\u001b[0m\u001b[0;34m.\u001b[0m\u001b[0mhead\u001b[0m\u001b[0;34m(\u001b[0m\u001b[0;36m10\u001b[0m\u001b[0;34m)\u001b[0m\u001b[0;34m,\u001b[0m \u001b[0mrf_model\u001b[0m\u001b[0;34m.\u001b[0m\u001b[0mhead\u001b[0m\u001b[0;34m(\u001b[0m\u001b[0;36m10\u001b[0m\u001b[0;34m)\u001b[0m\u001b[0;34m\u001b[0m\u001b[0;34m\u001b[0m\u001b[0m\n\u001b[0m",
      "\u001b[0;31mAttributeError\u001b[0m: 'numpy.float64' object has no attribute 'head'"
     ]
    }
   ],
   "source": [
    "gridcv_res, random_forest_res, rf_model = hyperparam_optimization(X_train, y_train, 5)\n",
    "gridcv_res.head(10), random_forest_res,  rf_model"
   ]
  },
  {
   "cell_type": "markdown",
   "metadata": {},
   "source": [
    "### `Run the model on the TEST data`\n",
    "__Using the Logistic Regression model__"
   ]
  },
  {
   "cell_type": "code",
   "execution_count": 71,
   "metadata": {},
   "outputs": [
    {
     "name": "stdout",
     "output_type": "stream",
     "text": [
      "[LibLinear]training score:  0.822\n",
      "test score    :  0.832\n"
     ]
    }
   ],
   "source": [
    "LR_model.fit(X_train, y_train)\n",
    "print('training score: ', LR_model.score(X_train, y_train).round(3))\n",
    "print('test score    : ', LR_model.score(X_test, y_test).round(3))"
   ]
  },
  {
   "cell_type": "markdown",
   "metadata": {},
   "source": [
    "__Using the Random Forest model__"
   ]
  },
  {
   "cell_type": "code",
   "execution_count": 72,
   "metadata": {},
   "outputs": [
    {
     "name": "stdout",
     "output_type": "stream",
     "text": [
      "training score:  0.896\n",
      "test score    :  0.86\n"
     ]
    }
   ],
   "source": [
    "RF_model.fit(X_train, y_train)\n",
    "print('training score: ', RF_model.score(X_train, y_train).round(3))\n",
    "print('test score    : ', RF_model.score(X_test, y_test).round(3))"
   ]
  },
  {
   "cell_type": "markdown",
   "metadata": {},
   "source": [
    "__Using the K neigbors model__"
   ]
  },
  {
   "cell_type": "code",
   "execution_count": 73,
   "metadata": {},
   "outputs": [
    {
     "name": "stdout",
     "output_type": "stream",
     "text": [
      "training score:  0.829\n",
      "test score    :  0.827\n"
     ]
    }
   ],
   "source": [
    "KNN_model.fit(X_train, y_train) \n",
    "print('training score: ', KNN_model.score(X_train, y_train).round(3))\n",
    "print('test score    : ', KNN_model.score(X_test, y_test).round(3))"
   ]
  },
  {
   "cell_type": "markdown",
   "metadata": {},
   "source": [
    "__Using the SVM model__"
   ]
  },
  {
   "cell_type": "code",
   "execution_count": 74,
   "metadata": {},
   "outputs": [
    {
     "name": "stdout",
     "output_type": "stream",
     "text": [
      "training score:  0.829\n",
      "test score    :  0.844\n"
     ]
    }
   ],
   "source": [
    "SVMC_model.fit(X_train, y_train)\n",
    "print('training score: ', SVMC_model.score(X_train, y_train).round(3))\n",
    "print('test score    : ', SVMC_model.score(X_test, y_test).round(3))"
   ]
  },
  {
   "cell_type": "markdown",
   "metadata": {},
   "source": [
    "__Using the Gradient Boosting model__"
   ]
  },
  {
   "cell_type": "code",
   "execution_count": 75,
   "metadata": {},
   "outputs": [
    {
     "name": "stdout",
     "output_type": "stream",
     "text": [
      "training score:  0.841\n",
      "test score    :  0.81\n"
     ]
    }
   ],
   "source": [
    "GBC_model.fit(X_train, y_train)\n",
    "print('training score: ', GBC_model.score(X_train, y_train).round(3))\n",
    "print('test score    : ', GBC_model.score(X_test, y_test).round(3))"
   ]
  },
  {
   "cell_type": "markdown",
   "metadata": {},
   "source": [
    "__Using the Linear Discriminant Analysis model__"
   ]
  },
  {
   "cell_type": "code",
   "execution_count": 76,
   "metadata": {},
   "outputs": [
    {
     "name": "stdout",
     "output_type": "stream",
     "text": [
      "training score:  0.826\n",
      "test score    :  0.827\n"
     ]
    }
   ],
   "source": [
    "LDA_model.fit(X_train, y_train) \n",
    "print('training score: ', LDA_model.score(X_train, y_train).round(3))\n",
    "print('test score    : ', LDA_model.score(X_test, y_test).round(3))"
   ]
  },
  {
   "cell_type": "markdown",
   "metadata": {},
   "source": [
    "### What would happen if the first 8 features are used instead? Example for the Random Forest\n",
    "__Answer:__ It is very likely that it will improve the cosnsitency betwween train and test\n",
    "\n",
    "List of features and their relevance"
   ]
  },
  {
   "cell_type": "code",
   "execution_count": 77,
   "metadata": {},
   "outputs": [
    {
     "data": {
      "text/html": [
       "<div>\n",
       "<style scoped>\n",
       "    .dataframe tbody tr th:only-of-type {\n",
       "        vertical-align: middle;\n",
       "    }\n",
       "\n",
       "    .dataframe tbody tr th {\n",
       "        vertical-align: top;\n",
       "    }\n",
       "\n",
       "    .dataframe thead th {\n",
       "        text-align: right;\n",
       "    }\n",
       "</style>\n",
       "<table border=\"1\" class=\"dataframe\">\n",
       "  <thead>\n",
       "    <tr style=\"text-align: right;\">\n",
       "      <th></th>\n",
       "      <th>Feature</th>\n",
       "      <th>Relevance</th>\n",
       "    </tr>\n",
       "  </thead>\n",
       "  <tbody>\n",
       "    <tr>\n",
       "      <th>1</th>\n",
       "      <td>Sex</td>\n",
       "      <td>0.178070</td>\n",
       "    </tr>\n",
       "    <tr>\n",
       "      <th>16</th>\n",
       "      <td>uncommon</td>\n",
       "      <td>0.149616</td>\n",
       "    </tr>\n",
       "    <tr>\n",
       "      <th>17</th>\n",
       "      <td>Fare_ranges</td>\n",
       "      <td>0.095902</td>\n",
       "    </tr>\n",
       "    <tr>\n",
       "      <th>0</th>\n",
       "      <td>Pclass</td>\n",
       "      <td>0.083980</td>\n",
       "    </tr>\n",
       "    <tr>\n",
       "      <th>2</th>\n",
       "      <td>SibSp</td>\n",
       "      <td>0.069488</td>\n",
       "    </tr>\n",
       "    <tr>\n",
       "      <th>15</th>\n",
       "      <td>Mr</td>\n",
       "      <td>0.059212</td>\n",
       "    </tr>\n",
       "    <tr>\n",
       "      <th>22</th>\n",
       "      <td>qbin_SexClass1</td>\n",
       "      <td>0.058129</td>\n",
       "    </tr>\n",
       "    <tr>\n",
       "      <th>26</th>\n",
       "      <td>Age_ranges</td>\n",
       "      <td>0.038267</td>\n",
       "    </tr>\n",
       "    <tr>\n",
       "      <th>14</th>\n",
       "      <td>Mrs</td>\n",
       "      <td>0.038029</td>\n",
       "    </tr>\n",
       "    <tr>\n",
       "      <th>4</th>\n",
       "      <td>unk_Cabin</td>\n",
       "      <td>0.036787</td>\n",
       "    </tr>\n",
       "  </tbody>\n",
       "</table>\n",
       "</div>"
      ],
      "text/plain": [
       "           Feature  Relevance\n",
       "1              Sex   0.178070\n",
       "16        uncommon   0.149616\n",
       "17     Fare_ranges   0.095902\n",
       "0           Pclass   0.083980\n",
       "2            SibSp   0.069488\n",
       "15              Mr   0.059212\n",
       "22  qbin_SexClass1   0.058129\n",
       "26      Age_ranges   0.038267\n",
       "14             Mrs   0.038029\n",
       "4        unk_Cabin   0.036787"
      ]
     },
     "execution_count": 77,
     "metadata": {},
     "output_type": "execute_result"
    }
   ],
   "source": [
    "relevance_features = pd.DataFrame(\n",
    "    {\"Feature\": X_train.columns, \"Relevance\": RF_model.feature_importances_}\n",
    "    ).sort_values(by=\"Relevance\", ascending=False)\n",
    "relevance_features.head(10)"
   ]
  },
  {
   "cell_type": "code",
   "execution_count": 78,
   "metadata": {},
   "outputs": [],
   "source": [
    "def select_features(rf_model, X_train, X_test, features):\n",
    "    relevance_features = pd.DataFrame({\"Feature\": X_train.columns, \\\n",
    "                        \"Relevance\": RF_model.feature_importances_}\\\n",
    "                                      ).sort_values(by=\"Relevance\", \\\n",
    "                                                    ascending=False)\n",
    "    best_ = relevance_features[\"Feature\"].values[:int(features)]\n",
    "    X_train = X_train[best_] \n",
    "    X_test = X_test[best_]\n",
    "    return relevance_features, X_train, X_test, best_"
   ]
  },
  {
   "cell_type": "code",
   "execution_count": 79,
   "metadata": {},
   "outputs": [
    {
     "data": {
      "text/plain": [
       "array(['Sex', 'uncommon', 'Fare_ranges', 'Pclass', 'SibSp', 'Mr',\n",
       "       'qbin_SexClass1', 'Age_ranges'], dtype=object)"
      ]
     },
     "execution_count": 79,
     "metadata": {},
     "output_type": "execute_result"
    }
   ],
   "source": [
    "relevance_features, X_train_2, X_test_2, best_ = select_features(RF_model, X_train, X_test, 8)\n",
    "best_"
   ]
  },
  {
   "cell_type": "markdown",
   "metadata": {},
   "source": [
    "### Re-run the Random Forest classifier model with the selected features and check the training and test scores"
   ]
  },
  {
   "cell_type": "code",
   "execution_count": 80,
   "metadata": {},
   "outputs": [
    {
     "name": "stdout",
     "output_type": "stream",
     "text": [
      "Fitting 5 folds for each of 180 candidates, totalling 900 fits\n"
     ]
    },
    {
     "name": "stderr",
     "output_type": "stream",
     "text": [
      "[Parallel(n_jobs=3)]: Using backend LokyBackend with 3 concurrent workers.\n",
      "[Parallel(n_jobs=3)]: Done  65 tasks      | elapsed:   10.4s\n",
      "[Parallel(n_jobs=3)]: Done 215 tasks      | elapsed:   37.1s\n",
      "[Parallel(n_jobs=3)]: Done 465 tasks      | elapsed:  1.3min\n",
      "[Parallel(n_jobs=3)]: Done 815 tasks      | elapsed:  2.5min\n",
      "[Parallel(n_jobs=3)]: Done 900 out of 900 | elapsed:  2.9min finished\n"
     ]
    }
   ],
   "source": [
    "gridcv_res, random_forest_res, RF_model2 = hyperparam_optimization(X_train_2, y_train, 5)"
   ]
  },
  {
   "cell_type": "code",
   "execution_count": 81,
   "metadata": {
    "scrolled": true
   },
   "outputs": [
    {
     "data": {
      "text/plain": [
       "87.36"
      ]
     },
     "execution_count": 81,
     "metadata": {},
     "output_type": "execute_result"
    }
   ],
   "source": [
    "random_forest_res"
   ]
  },
  {
   "cell_type": "code",
   "execution_count": 82,
   "metadata": {
    "scrolled": true
   },
   "outputs": [
    {
     "name": "stdout",
     "output_type": "stream",
     "text": [
      "training score:  0.874\n",
      "test score    :  0.838\n"
     ]
    }
   ],
   "source": [
    "print('training score: ', RF_model2.score(X_train_2, y_train).round(3))\n",
    "print('test score    : ', RF_model2.score(X_test_2, y_test).round(3))"
   ]
  },
  {
   "cell_type": "markdown",
   "metadata": {},
   "source": [
    "## `Step 7: Run the model on the TEST data from kaggle`\n",
    "### Feature engineer the test data from kaggle (all in one function)"
   ]
  },
  {
   "cell_type": "code",
   "execution_count": 89,
   "metadata": {},
   "outputs": [],
   "source": [
    "def engineer_test_kaggle(test_data, data_type):\n",
    "    pred = test_data\n",
    "    pred_ids = pred[\"PassengerId\"]\n",
    "    pred = cabin_names(pred, data_type)\n",
    "    pred =  name_to_titles(pred)\n",
    "    pred, pred_bins_fares = fares(pred)\n",
    "    pred =  gender(pred)\n",
    "    pred =  ages(pred)\n",
    "    pred =  age_per_class(pred, pred_bins_fares)\n",
    "    pred =  clear_engineer(pred, columns_drop, data_type)\n",
    "    pred_ids.to_csv('../data/pred_ids.csv', index=False)\n",
    "    return pred_ids"
   ]
  },
  {
   "cell_type": "code",
   "execution_count": 113,
   "metadata": {},
   "outputs": [],
   "source": [
    "test_data  = pd.read_csv('../data/test.csv')\n",
    "pred_ids = engineer_test_kaggle(test_data, \"test\")\n",
    "test_data =  pd.read_csv(\"../data/test_featured.csv\")"
   ]
  },
  {
   "cell_type": "markdown",
   "metadata": {},
   "source": [
    "### Run the random forest model on the engineered data to make predictions"
   ]
  },
  {
   "cell_type": "code",
   "execution_count": 118,
   "metadata": {},
   "outputs": [],
   "source": [
    "def run_test_data(pred, LR_model, RF_model, KNN_model, SVMC_model, \\\n",
    "                  GBC_model, LDA_model, pred_ids):\n",
    "    y_pred_LR = LR_model.predict(pred)\n",
    "    y_pred_RF = RF_model.predict(pred)\n",
    "    y_pred_KNN = KNN_model.predict(pred)\n",
    "    y_pred_SVMC = SVMC_model.predict(pred)\n",
    "    y_pred_GBC = GBC_model.predict(pred)\n",
    "    y_pred_LDA = LDA_model.predict(pred)\n",
    "    y_pred_LR = pd.DataFrame({\"PassengerId\":pred_ids,  \"Survived\":y_pred_LR})\n",
    "    y_pred_RF = pd.DataFrame({\"PassengerId\":pred_ids,  \"Survived\":y_pred_RF})\n",
    "    y_pred_KNN = pd.DataFrame({\"PassengerId\":pred_ids,  \"Survived\":y_pred_KNN})\n",
    "    y_pred_SVMC = pd.DataFrame({\"PassengerId\":pred_ids,  \"Survived\":y_pred_SVMC})\n",
    "    y_pred_LDA = pd.DataFrame({\"PassengerId\":pred_ids,  \"Survived\":y_pred_LDA})\n",
    "    y_pred_LR.to_csv('../data/' + \"LR_kaggle.csv\", index=False)\n",
    "    y_pred_LR.to_csv('../data/' + \"RF_kaggle.csv\", index=False)\n",
    "    y_pred_LR.to_csv('../data/' + \"KNN_kaggle.csv\", index=False)\n",
    "    y_pred_LR.to_csv('../data/' + \"SVMC_kaggle.csv\", index=False)\n",
    "    y_pred_LR.to_csv('../data/' + \"LDA_kaggle.csv\", index=False)\n"
   ]
  },
  {
   "cell_type": "code",
   "execution_count": 119,
   "metadata": {},
   "outputs": [],
   "source": [
    "run_test_data(test_data, LR_model, RF_model, KNN_model, SVMC_model, \\\n",
    "                  GBC_model, LDA_model,  pred_ids)"
   ]
  },
  {
   "cell_type": "markdown",
   "metadata": {},
   "source": [
    "##### The Kaggle score obtained using Random Forest was = 0.74"
   ]
  },
  {
   "cell_type": "code",
   "execution_count": 114,
   "metadata": {},
   "outputs": [
    {
     "data": {
      "text/plain": [
       "27"
      ]
     },
     "execution_count": 114,
     "metadata": {},
     "output_type": "execute_result"
    }
   ],
   "source": [
    "len(test_data.columns)"
   ]
  },
  {
   "cell_type": "code",
   "execution_count": 115,
   "metadata": {},
   "outputs": [
    {
     "data": {
      "text/plain": [
       "27"
      ]
     },
     "execution_count": 115,
     "metadata": {},
     "output_type": "execute_result"
    }
   ],
   "source": [
    "len(X_train.columns)"
   ]
  },
  {
   "cell_type": "code",
   "execution_count": null,
   "metadata": {},
   "outputs": [],
   "source": [
    "test_data.columns"
   ]
  }
 ],
 "metadata": {
  "kernelspec": {
   "display_name": "Python 3",
   "language": "python",
   "name": "python3"
  },
  "language_info": {
   "codemirror_mode": {
    "name": "ipython",
    "version": 3
   },
   "file_extension": ".py",
   "mimetype": "text/x-python",
   "name": "python",
   "nbconvert_exporter": "python",
   "pygments_lexer": "ipython3",
   "version": "3.8.5"
  }
 },
 "nbformat": 4,
 "nbformat_minor": 4
}

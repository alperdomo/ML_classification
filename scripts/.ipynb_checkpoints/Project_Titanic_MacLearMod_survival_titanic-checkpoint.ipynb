{
 "cells": [
  {
   "cell_type": "markdown",
   "metadata": {},
   "source": [
    "#  Machine learning model to predict passenger survival on the Titanic"
   ]
  },
  {
   "cell_type": "markdown",
   "metadata": {},
   "source": [
    "## `Step 1: Get the data`"
   ]
  },
  {
   "cell_type": "code",
   "execution_count": 48,
   "metadata": {
    "scrolled": true
   },
   "outputs": [
    {
     "data": {
      "text/plain": [
       "(891, 12)"
      ]
     },
     "execution_count": 48,
     "metadata": {},
     "output_type": "execute_result"
    }
   ],
   "source": [
    "import pandas as pd\n",
    "import numpy as np\n",
    "%matplotlib inline \n",
    "\n",
    "data = pd.read_csv('../data/train.csv')\n",
    "data.shape"
   ]
  },
  {
   "cell_type": "markdown",
   "metadata": {},
   "source": [
    "## `Step 2: Exploratory data analysis` \n",
    "This step is in an additional notebook: __Exploratory_Data_Analysis_Titanic.ipynb__"
   ]
  },
  {
   "cell_type": "markdown",
   "metadata": {},
   "source": [
    "## `Step 3. Feature engineering`\n",
    "\n",
    "Using **feature engineering** approaches make the data easy to understand for a model. \n",
    "Variables that may properly describing your model and fitting to the data. \n"
   ]
  },
  {
   "cell_type": "code",
   "execution_count": 49,
   "metadata": {
    "scrolled": true
   },
   "outputs": [
    {
     "data": {
      "text/html": [
       "<div>\n",
       "<style scoped>\n",
       "    .dataframe tbody tr th:only-of-type {\n",
       "        vertical-align: middle;\n",
       "    }\n",
       "\n",
       "    .dataframe tbody tr th {\n",
       "        vertical-align: top;\n",
       "    }\n",
       "\n",
       "    .dataframe thead th {\n",
       "        text-align: right;\n",
       "    }\n",
       "</style>\n",
       "<table border=\"1\" class=\"dataframe\">\n",
       "  <thead>\n",
       "    <tr style=\"text-align: right;\">\n",
       "      <th></th>\n",
       "      <th>PassengerId</th>\n",
       "      <th>Survived</th>\n",
       "      <th>Pclass</th>\n",
       "      <th>Name</th>\n",
       "      <th>Sex</th>\n",
       "      <th>Age</th>\n",
       "      <th>SibSp</th>\n",
       "      <th>Parch</th>\n",
       "      <th>Ticket</th>\n",
       "      <th>Fare</th>\n",
       "      <th>Cabin</th>\n",
       "      <th>Embarked</th>\n",
       "    </tr>\n",
       "  </thead>\n",
       "  <tbody>\n",
       "    <tr>\n",
       "      <th>0</th>\n",
       "      <td>1</td>\n",
       "      <td>0</td>\n",
       "      <td>3</td>\n",
       "      <td>Braund, Mr. Owen Harris</td>\n",
       "      <td>male</td>\n",
       "      <td>22.0</td>\n",
       "      <td>1</td>\n",
       "      <td>0</td>\n",
       "      <td>A/5 21171</td>\n",
       "      <td>7.2500</td>\n",
       "      <td>NaN</td>\n",
       "      <td>S</td>\n",
       "    </tr>\n",
       "    <tr>\n",
       "      <th>1</th>\n",
       "      <td>2</td>\n",
       "      <td>1</td>\n",
       "      <td>1</td>\n",
       "      <td>Cumings, Mrs. John Bradley (Florence Briggs Th...</td>\n",
       "      <td>female</td>\n",
       "      <td>38.0</td>\n",
       "      <td>1</td>\n",
       "      <td>0</td>\n",
       "      <td>PC 17599</td>\n",
       "      <td>71.2833</td>\n",
       "      <td>C85</td>\n",
       "      <td>C</td>\n",
       "    </tr>\n",
       "    <tr>\n",
       "      <th>2</th>\n",
       "      <td>3</td>\n",
       "      <td>1</td>\n",
       "      <td>3</td>\n",
       "      <td>Heikkinen, Miss. Laina</td>\n",
       "      <td>female</td>\n",
       "      <td>26.0</td>\n",
       "      <td>0</td>\n",
       "      <td>0</td>\n",
       "      <td>STON/O2. 3101282</td>\n",
       "      <td>7.9250</td>\n",
       "      <td>NaN</td>\n",
       "      <td>S</td>\n",
       "    </tr>\n",
       "  </tbody>\n",
       "</table>\n",
       "</div>"
      ],
      "text/plain": [
       "   PassengerId  Survived  Pclass  \\\n",
       "0            1         0       3   \n",
       "1            2         1       1   \n",
       "2            3         1       3   \n",
       "\n",
       "                                                Name     Sex   Age  SibSp  \\\n",
       "0                            Braund, Mr. Owen Harris    male  22.0      1   \n",
       "1  Cumings, Mrs. John Bradley (Florence Briggs Th...  female  38.0      1   \n",
       "2                             Heikkinen, Miss. Laina  female  26.0      0   \n",
       "\n",
       "   Parch            Ticket     Fare Cabin Embarked  \n",
       "0      0         A/5 21171   7.2500   NaN        S  \n",
       "1      0          PC 17599  71.2833   C85        C  \n",
       "2      0  STON/O2. 3101282   7.9250   NaN        S  "
      ]
     },
     "execution_count": 49,
     "metadata": {},
     "output_type": "execute_result"
    }
   ],
   "source": [
    "data.head(3)"
   ]
  },
  {
   "cell_type": "markdown",
   "metadata": {},
   "source": [
    "### 3.1 One hot encoded features\n",
    "* who (title)\n",
    "* embarked\n",
    "* Cabin"
   ]
  },
  {
   "cell_type": "code",
   "execution_count": 120,
   "metadata": {
    "scrolled": true
   },
   "outputs": [],
   "source": [
    "def cabin_names(dataframe, data_type):\n",
    "    \"\"\"\n",
    "    Hoteconodes the cabin names\n",
    "\n",
    "    Parameters:\n",
    "    dataframe: Data from the Titanic dataset. Either training or test data\n",
    "    data_type: training set, testing set\n",
    "    ----------\n",
    "    \"\"\"\n",
    "\n",
    "    dataframe['Embarked'] = dataframe['Embarked'].replace(to_replace = 'C',\n",
    "                            value = int(0), regex =True)\n",
    "    dataframe['Embarked'] = dataframe['Embarked'].replace(to_replace = 'S',\n",
    "                            value = int(1), regex =True)\n",
    "    dataframe['Embarked'] = dataframe['Embarked'].replace(to_replace = 'Q',\n",
    "                            value = int(2), regex =True)\n",
    "    dataframe['Cabin'] = dataframe['Cabin'].fillna(0).astype(str).str[0]\n",
    "    onehot = pd.get_dummies(dataframe['Cabin'])\n",
    "    if data_type == \"training\":\n",
    "        onehot.columns = ['unk_Cabin', 'Cabin_A','Cabin_B','Cabin_C', \\\n",
    "                          'Cabin_D', 'Cabin_E', 'Cabin_F','Cabin_G', 'Cabin_T']\n",
    "        dataframe = pd.concat([dataframe, onehot], axis = 1)\n",
    "    else:\n",
    "        onehot.columns = ['unk_Cabin', 'Cabin_A','Cabin_B','Cabin_C', \\\n",
    "                          'Cabin_D', 'Cabin_E', 'Cabin_F','Cabin_G']\n",
    "        dataframe = pd.concat([dataframe, onehot], axis = 1)\n",
    "    return dataframe"
   ]
  },
  {
   "cell_type": "code",
   "execution_count": 51,
   "metadata": {
    "scrolled": true
   },
   "outputs": [
    {
     "data": {
      "text/html": [
       "<div>\n",
       "<style scoped>\n",
       "    .dataframe tbody tr th:only-of-type {\n",
       "        vertical-align: middle;\n",
       "    }\n",
       "\n",
       "    .dataframe tbody tr th {\n",
       "        vertical-align: top;\n",
       "    }\n",
       "\n",
       "    .dataframe thead th {\n",
       "        text-align: right;\n",
       "    }\n",
       "</style>\n",
       "<table border=\"1\" class=\"dataframe\">\n",
       "  <thead>\n",
       "    <tr style=\"text-align: right;\">\n",
       "      <th></th>\n",
       "      <th>PassengerId</th>\n",
       "      <th>Survived</th>\n",
       "      <th>Pclass</th>\n",
       "      <th>Name</th>\n",
       "      <th>Sex</th>\n",
       "      <th>Age</th>\n",
       "      <th>SibSp</th>\n",
       "      <th>Parch</th>\n",
       "      <th>Ticket</th>\n",
       "      <th>Fare</th>\n",
       "      <th>...</th>\n",
       "      <th>Embarked</th>\n",
       "      <th>unk_Cabin</th>\n",
       "      <th>Cabin_A</th>\n",
       "      <th>Cabin_B</th>\n",
       "      <th>Cabin_C</th>\n",
       "      <th>Cabin_D</th>\n",
       "      <th>Cabin_E</th>\n",
       "      <th>Cabin_F</th>\n",
       "      <th>Cabin_G</th>\n",
       "      <th>Cabin_T</th>\n",
       "    </tr>\n",
       "  </thead>\n",
       "  <tbody>\n",
       "    <tr>\n",
       "      <th>0</th>\n",
       "      <td>1</td>\n",
       "      <td>0</td>\n",
       "      <td>3</td>\n",
       "      <td>Braund, Mr. Owen Harris</td>\n",
       "      <td>male</td>\n",
       "      <td>22.0</td>\n",
       "      <td>1</td>\n",
       "      <td>0</td>\n",
       "      <td>A/5 21171</td>\n",
       "      <td>7.2500</td>\n",
       "      <td>...</td>\n",
       "      <td>1.0</td>\n",
       "      <td>1</td>\n",
       "      <td>0</td>\n",
       "      <td>0</td>\n",
       "      <td>0</td>\n",
       "      <td>0</td>\n",
       "      <td>0</td>\n",
       "      <td>0</td>\n",
       "      <td>0</td>\n",
       "      <td>0</td>\n",
       "    </tr>\n",
       "    <tr>\n",
       "      <th>1</th>\n",
       "      <td>2</td>\n",
       "      <td>1</td>\n",
       "      <td>1</td>\n",
       "      <td>Cumings, Mrs. John Bradley (Florence Briggs Th...</td>\n",
       "      <td>female</td>\n",
       "      <td>38.0</td>\n",
       "      <td>1</td>\n",
       "      <td>0</td>\n",
       "      <td>PC 17599</td>\n",
       "      <td>71.2833</td>\n",
       "      <td>...</td>\n",
       "      <td>0.0</td>\n",
       "      <td>0</td>\n",
       "      <td>0</td>\n",
       "      <td>0</td>\n",
       "      <td>1</td>\n",
       "      <td>0</td>\n",
       "      <td>0</td>\n",
       "      <td>0</td>\n",
       "      <td>0</td>\n",
       "      <td>0</td>\n",
       "    </tr>\n",
       "    <tr>\n",
       "      <th>2</th>\n",
       "      <td>3</td>\n",
       "      <td>1</td>\n",
       "      <td>3</td>\n",
       "      <td>Heikkinen, Miss. Laina</td>\n",
       "      <td>female</td>\n",
       "      <td>26.0</td>\n",
       "      <td>0</td>\n",
       "      <td>0</td>\n",
       "      <td>STON/O2. 3101282</td>\n",
       "      <td>7.9250</td>\n",
       "      <td>...</td>\n",
       "      <td>1.0</td>\n",
       "      <td>1</td>\n",
       "      <td>0</td>\n",
       "      <td>0</td>\n",
       "      <td>0</td>\n",
       "      <td>0</td>\n",
       "      <td>0</td>\n",
       "      <td>0</td>\n",
       "      <td>0</td>\n",
       "      <td>0</td>\n",
       "    </tr>\n",
       "  </tbody>\n",
       "</table>\n",
       "<p>3 rows × 21 columns</p>\n",
       "</div>"
      ],
      "text/plain": [
       "   PassengerId  Survived  Pclass  \\\n",
       "0            1         0       3   \n",
       "1            2         1       1   \n",
       "2            3         1       3   \n",
       "\n",
       "                                                Name     Sex   Age  SibSp  \\\n",
       "0                            Braund, Mr. Owen Harris    male  22.0      1   \n",
       "1  Cumings, Mrs. John Bradley (Florence Briggs Th...  female  38.0      1   \n",
       "2                             Heikkinen, Miss. Laina  female  26.0      0   \n",
       "\n",
       "   Parch            Ticket     Fare  ... Embarked  unk_Cabin  Cabin_A  \\\n",
       "0      0         A/5 21171   7.2500  ...      1.0          1        0   \n",
       "1      0          PC 17599  71.2833  ...      0.0          0        0   \n",
       "2      0  STON/O2. 3101282   7.9250  ...      1.0          1        0   \n",
       "\n",
       "   Cabin_B  Cabin_C  Cabin_D  Cabin_E  Cabin_F  Cabin_G  Cabin_T  \n",
       "0        0        0        0        0        0        0        0  \n",
       "1        0        1        0        0        0        0        0  \n",
       "2        0        0        0        0        0        0        0  \n",
       "\n",
       "[3 rows x 21 columns]"
      ]
     },
     "execution_count": 51,
     "metadata": {},
     "output_type": "execute_result"
    }
   ],
   "source": [
    "data = cabin_names(data)\n",
    "data.head(3)"
   ]
  },
  {
   "cell_type": "code",
   "execution_count": 52,
   "metadata": {
    "scrolled": true
   },
   "outputs": [],
   "source": [
    "\n",
    "def name_to_titles(dataframe):\n",
    "    \"\"\"\n",
    "    Hotecondes names of passengers to only their title\n",
    "\n",
    "    Parameters:\n",
    "    ----------\n",
    "    dataframe: training dataset Titanic\n",
    "    \"\"\"\n",
    "    dataframe['Name'] = dataframe['Name'].replace(to_replace = ['\\.*.*Capt.*',\n",
    "                        '\\.*.*Countess.*',  '\\.*.*Lady.*', '\\.*.*Col.*',\n",
    "                        '\\.*.*Dr.*', '\\.*.*Don.*', '\\.*.*Major.*',\n",
    "                        '\\.*.*Sir.*', '\\.*.*Dona.*', '\\.*.*Jonkheer.*',\n",
    "                        '\\.*.*Rev.*'], value = 0, regex = True)\n",
    "    dataframe['Name'] = dataframe['Name'].replace(to_replace = ['\\.*.*Mlle.*',\n",
    "                        '\\.*.*Mlle.*'], value = 'Miss', regex=True)\n",
    "    dataframe['Name'] = dataframe['Name'].replace(to_replace = ['\\.*.*Miss.*',\n",
    "                        '\\.*.*Miss.*'], value = 'Miss', regex=True)\n",
    "    dataframe['Name'] = dataframe['Name'].replace(to_replace = ['\\.*.*Ms.*',\n",
    "                        '\\.*.*Miss.*'], value = 'Miss', regex=True)\n",
    "    dataframe['Name'] = dataframe['Name'].replace(to_replace = '\\.*.*Mme.*',\n",
    "                        value = 'Mistress', regex=True)\n",
    "    dataframe['Name'] = dataframe['Name'].replace(to_replace = '\\.*.*Mrs.*',\n",
    "                        value = 'Mistress', regex=True)\n",
    "    dataframe['Name'] = dataframe['Name'].replace(to_replace = '\\.*.*Master.*',\n",
    "                        value = 'Master', regex=True)\n",
    "    dataframe['Name'] = dataframe['Name'].replace(to_replace = '\\.*.*Mr. .*',\n",
    "                        value = 'Mr', regex=True)\n",
    "    dataframe['Name'] = dataframe['Name'].fillna('uncommon')\n",
    "    onehot = pd.get_dummies(dataframe['Name'])\n",
    "    onehot.columns=['Master', 'Miss','Mrs','Mr','uncommon']\n",
    "    dataframe = pd.concat([dataframe, onehot], axis = 1)\n",
    "    return dataframe\n"
   ]
  },
  {
   "cell_type": "code",
   "execution_count": 53,
   "metadata": {},
   "outputs": [
    {
     "data": {
      "text/html": [
       "<div>\n",
       "<style scoped>\n",
       "    .dataframe tbody tr th:only-of-type {\n",
       "        vertical-align: middle;\n",
       "    }\n",
       "\n",
       "    .dataframe tbody tr th {\n",
       "        vertical-align: top;\n",
       "    }\n",
       "\n",
       "    .dataframe thead th {\n",
       "        text-align: right;\n",
       "    }\n",
       "</style>\n",
       "<table border=\"1\" class=\"dataframe\">\n",
       "  <thead>\n",
       "    <tr style=\"text-align: right;\">\n",
       "      <th></th>\n",
       "      <th>PassengerId</th>\n",
       "      <th>Survived</th>\n",
       "      <th>Pclass</th>\n",
       "      <th>Name</th>\n",
       "      <th>Sex</th>\n",
       "      <th>Age</th>\n",
       "      <th>SibSp</th>\n",
       "      <th>Parch</th>\n",
       "      <th>Ticket</th>\n",
       "      <th>Fare</th>\n",
       "      <th>...</th>\n",
       "      <th>Cabin_D</th>\n",
       "      <th>Cabin_E</th>\n",
       "      <th>Cabin_F</th>\n",
       "      <th>Cabin_G</th>\n",
       "      <th>Cabin_T</th>\n",
       "      <th>Master</th>\n",
       "      <th>Miss</th>\n",
       "      <th>Mrs</th>\n",
       "      <th>Mr</th>\n",
       "      <th>uncommon</th>\n",
       "    </tr>\n",
       "  </thead>\n",
       "  <tbody>\n",
       "    <tr>\n",
       "      <th>0</th>\n",
       "      <td>1</td>\n",
       "      <td>0</td>\n",
       "      <td>3</td>\n",
       "      <td>Mr</td>\n",
       "      <td>male</td>\n",
       "      <td>22.0</td>\n",
       "      <td>1</td>\n",
       "      <td>0</td>\n",
       "      <td>A/5 21171</td>\n",
       "      <td>7.2500</td>\n",
       "      <td>...</td>\n",
       "      <td>0</td>\n",
       "      <td>0</td>\n",
       "      <td>0</td>\n",
       "      <td>0</td>\n",
       "      <td>0</td>\n",
       "      <td>0</td>\n",
       "      <td>0</td>\n",
       "      <td>0</td>\n",
       "      <td>0</td>\n",
       "      <td>1</td>\n",
       "    </tr>\n",
       "    <tr>\n",
       "      <th>1</th>\n",
       "      <td>2</td>\n",
       "      <td>1</td>\n",
       "      <td>1</td>\n",
       "      <td>Mistress</td>\n",
       "      <td>female</td>\n",
       "      <td>38.0</td>\n",
       "      <td>1</td>\n",
       "      <td>0</td>\n",
       "      <td>PC 17599</td>\n",
       "      <td>71.2833</td>\n",
       "      <td>...</td>\n",
       "      <td>0</td>\n",
       "      <td>0</td>\n",
       "      <td>0</td>\n",
       "      <td>0</td>\n",
       "      <td>0</td>\n",
       "      <td>0</td>\n",
       "      <td>0</td>\n",
       "      <td>0</td>\n",
       "      <td>1</td>\n",
       "      <td>0</td>\n",
       "    </tr>\n",
       "    <tr>\n",
       "      <th>2</th>\n",
       "      <td>3</td>\n",
       "      <td>1</td>\n",
       "      <td>3</td>\n",
       "      <td>Miss</td>\n",
       "      <td>female</td>\n",
       "      <td>26.0</td>\n",
       "      <td>0</td>\n",
       "      <td>0</td>\n",
       "      <td>STON/O2. 3101282</td>\n",
       "      <td>7.9250</td>\n",
       "      <td>...</td>\n",
       "      <td>0</td>\n",
       "      <td>0</td>\n",
       "      <td>0</td>\n",
       "      <td>0</td>\n",
       "      <td>0</td>\n",
       "      <td>0</td>\n",
       "      <td>0</td>\n",
       "      <td>1</td>\n",
       "      <td>0</td>\n",
       "      <td>0</td>\n",
       "    </tr>\n",
       "  </tbody>\n",
       "</table>\n",
       "<p>3 rows × 26 columns</p>\n",
       "</div>"
      ],
      "text/plain": [
       "   PassengerId  Survived  Pclass      Name     Sex   Age  SibSp  Parch  \\\n",
       "0            1         0       3        Mr    male  22.0      1      0   \n",
       "1            2         1       1  Mistress  female  38.0      1      0   \n",
       "2            3         1       3      Miss  female  26.0      0      0   \n",
       "\n",
       "             Ticket     Fare  ... Cabin_D  Cabin_E  Cabin_F  Cabin_G  Cabin_T  \\\n",
       "0         A/5 21171   7.2500  ...       0        0        0        0        0   \n",
       "1          PC 17599  71.2833  ...       0        0        0        0        0   \n",
       "2  STON/O2. 3101282   7.9250  ...       0        0        0        0        0   \n",
       "\n",
       "   Master  Miss  Mrs  Mr  uncommon  \n",
       "0       0     0    0   0         1  \n",
       "1       0     0    0   1         0  \n",
       "2       0     0    1   0         0  \n",
       "\n",
       "[3 rows x 26 columns]"
      ]
     },
     "execution_count": 53,
     "metadata": {},
     "output_type": "execute_result"
    }
   ],
   "source": [
    "data = name_to_titles(data)\n",
    "data.head(3)"
   ]
  },
  {
   "cell_type": "code",
   "execution_count": 54,
   "metadata": {
    "scrolled": true
   },
   "outputs": [
    {
     "data": {
      "image/png": "[encoded data removed]",
      "text/plain": [
       "<Figure size 864x576 with 1 Axes>"
      ]
     },
     "metadata": {
      "needs_background": "light"
     },
     "output_type": "display_data"
    }
   ],
   "source": [
    "# Plot the distribution of titles into survide and dead categories \n",
    "def plot_distribution_titles(dataframe):\n",
    "    \"\"\"\n",
    "    Plot the distribution of passengers based on their title\n",
    "\n",
    "    Parameters:\n",
    "    ----------\n",
    "    dataframe: training dataset Titanic with the names modified to titles\n",
    "    \"\"\"\n",
    "    data = dataframe.groupby(['Survived', 'Name'])[['Name']].count().unstack()\n",
    "    data.plot.bar(figsize = (12, 8))\n",
    "plot_distribution_titles(data)\n"
   ]
  },
  {
   "cell_type": "markdown",
   "metadata": {},
   "source": [
    "### 3.2. Binning\n",
    "* fares (custom)\n",
    "* age (qbins)"
   ]
  },
  {
   "cell_type": "code",
   "execution_count": 55,
   "metadata": {},
   "outputs": [],
   "source": [
    "# Fares\n",
    "def fares(dataframe):\n",
    "    \"\"\"\n",
    "    Hotecondes the fares into five different groups\n",
    "\n",
    "    Parameters:\n",
    "    ----------\n",
    "    dataframe: training dataset Titanic\n",
    "    \"\"\"\n",
    "    bins_fares = [-1, 7.92, 14.5, 32, 100, np.inf]\n",
    "    names_fares = [0, 1, 2, 3, 4]\n",
    "    dataframe['Fare_ranges'] = pd.cut(dataframe['Fare'], bins_fares,\n",
    "                               labels = names_fares)\n",
    "    return dataframe, bins_fares\n"
   ]
  },
  {
   "cell_type": "code",
   "execution_count": 56,
   "metadata": {},
   "outputs": [
    {
     "data": {
      "text/html": [
       "<div>\n",
       "<style scoped>\n",
       "    .dataframe tbody tr th:only-of-type {\n",
       "        vertical-align: middle;\n",
       "    }\n",
       "\n",
       "    .dataframe tbody tr th {\n",
       "        vertical-align: top;\n",
       "    }\n",
       "\n",
       "    .dataframe thead th {\n",
       "        text-align: right;\n",
       "    }\n",
       "</style>\n",
       "<table border=\"1\" class=\"dataframe\">\n",
       "  <thead>\n",
       "    <tr style=\"text-align: right;\">\n",
       "      <th></th>\n",
       "      <th>PassengerId</th>\n",
       "      <th>Survived</th>\n",
       "      <th>Pclass</th>\n",
       "      <th>Name</th>\n",
       "      <th>Sex</th>\n",
       "      <th>Age</th>\n",
       "      <th>SibSp</th>\n",
       "      <th>Parch</th>\n",
       "      <th>Ticket</th>\n",
       "      <th>Fare</th>\n",
       "      <th>...</th>\n",
       "      <th>Cabin_E</th>\n",
       "      <th>Cabin_F</th>\n",
       "      <th>Cabin_G</th>\n",
       "      <th>Cabin_T</th>\n",
       "      <th>Master</th>\n",
       "      <th>Miss</th>\n",
       "      <th>Mrs</th>\n",
       "      <th>Mr</th>\n",
       "      <th>uncommon</th>\n",
       "      <th>Fare_ranges</th>\n",
       "    </tr>\n",
       "  </thead>\n",
       "  <tbody>\n",
       "    <tr>\n",
       "      <th>0</th>\n",
       "      <td>1</td>\n",
       "      <td>0</td>\n",
       "      <td>3</td>\n",
       "      <td>Mr</td>\n",
       "      <td>male</td>\n",
       "      <td>22.0</td>\n",
       "      <td>1</td>\n",
       "      <td>0</td>\n",
       "      <td>A/5 21171</td>\n",
       "      <td>7.2500</td>\n",
       "      <td>...</td>\n",
       "      <td>0</td>\n",
       "      <td>0</td>\n",
       "      <td>0</td>\n",
       "      <td>0</td>\n",
       "      <td>0</td>\n",
       "      <td>0</td>\n",
       "      <td>0</td>\n",
       "      <td>0</td>\n",
       "      <td>1</td>\n",
       "      <td>0</td>\n",
       "    </tr>\n",
       "    <tr>\n",
       "      <th>1</th>\n",
       "      <td>2</td>\n",
       "      <td>1</td>\n",
       "      <td>1</td>\n",
       "      <td>Mistress</td>\n",
       "      <td>female</td>\n",
       "      <td>38.0</td>\n",
       "      <td>1</td>\n",
       "      <td>0</td>\n",
       "      <td>PC 17599</td>\n",
       "      <td>71.2833</td>\n",
       "      <td>...</td>\n",
       "      <td>0</td>\n",
       "      <td>0</td>\n",
       "      <td>0</td>\n",
       "      <td>0</td>\n",
       "      <td>0</td>\n",
       "      <td>0</td>\n",
       "      <td>0</td>\n",
       "      <td>1</td>\n",
       "      <td>0</td>\n",
       "      <td>3</td>\n",
       "    </tr>\n",
       "    <tr>\n",
       "      <th>2</th>\n",
       "      <td>3</td>\n",
       "      <td>1</td>\n",
       "      <td>3</td>\n",
       "      <td>Miss</td>\n",
       "      <td>female</td>\n",
       "      <td>26.0</td>\n",
       "      <td>0</td>\n",
       "      <td>0</td>\n",
       "      <td>STON/O2. 3101282</td>\n",
       "      <td>7.9250</td>\n",
       "      <td>...</td>\n",
       "      <td>0</td>\n",
       "      <td>0</td>\n",
       "      <td>0</td>\n",
       "      <td>0</td>\n",
       "      <td>0</td>\n",
       "      <td>0</td>\n",
       "      <td>1</td>\n",
       "      <td>0</td>\n",
       "      <td>0</td>\n",
       "      <td>1</td>\n",
       "    </tr>\n",
       "  </tbody>\n",
       "</table>\n",
       "<p>3 rows × 27 columns</p>\n",
       "</div>"
      ],
      "text/plain": [
       "   PassengerId  Survived  Pclass      Name     Sex   Age  SibSp  Parch  \\\n",
       "0            1         0       3        Mr    male  22.0      1      0   \n",
       "1            2         1       1  Mistress  female  38.0      1      0   \n",
       "2            3         1       3      Miss  female  26.0      0      0   \n",
       "\n",
       "             Ticket     Fare  ... Cabin_E  Cabin_F  Cabin_G  Cabin_T  Master  \\\n",
       "0         A/5 21171   7.2500  ...       0        0        0        0       0   \n",
       "1          PC 17599  71.2833  ...       0        0        0        0       0   \n",
       "2  STON/O2. 3101282   7.9250  ...       0        0        0        0       0   \n",
       "\n",
       "   Miss  Mrs  Mr  uncommon  Fare_ranges  \n",
       "0     0    0   0         1            0  \n",
       "1     0    0   1         0            3  \n",
       "2     0    1   0         0            1  \n",
       "\n",
       "[3 rows x 27 columns]"
      ]
     },
     "execution_count": 56,
     "metadata": {},
     "output_type": "execute_result"
    }
   ],
   "source": [
    "data, bins_fares = fares(data)\n",
    "data.head(3)"
   ]
  },
  {
   "cell_type": "code",
   "execution_count": 57,
   "metadata": {
    "scrolled": true
   },
   "outputs": [],
   "source": [
    "def ages(dataframe):\n",
    "    \"\"\"\n",
    "    Hotencodes ages into four different groups using pandas qbins function\n",
    "\n",
    "    Parameters:\n",
    "    ----------\n",
    "    dataframe: training dataset Titanic\n",
    "    \"\"\"\n",
    "    dataframe['Age'] = dataframe['Age'].fillna(dataframe['Age'].mean())\n",
    "    qbins = pd.qcut(dataframe['Age'], q = 4)\n",
    "    qbins = pd.get_dummies(qbins)\n",
    "    qbins.columns = ['qbin_Age1', 'qbin_Age2', 'qbin_Age3', 'qbin_Age4']\n",
    "    dataframe = pd.concat([dataframe, qbins], axis =1)\n",
    "    return dataframe"
   ]
  },
  {
   "cell_type": "code",
   "execution_count": 58,
   "metadata": {},
   "outputs": [
    {
     "data": {
      "text/html": [
       "<div>\n",
       "<style scoped>\n",
       "    .dataframe tbody tr th:only-of-type {\n",
       "        vertical-align: middle;\n",
       "    }\n",
       "\n",
       "    .dataframe tbody tr th {\n",
       "        vertical-align: top;\n",
       "    }\n",
       "\n",
       "    .dataframe thead th {\n",
       "        text-align: right;\n",
       "    }\n",
       "</style>\n",
       "<table border=\"1\" class=\"dataframe\">\n",
       "  <thead>\n",
       "    <tr style=\"text-align: right;\">\n",
       "      <th></th>\n",
       "      <th>PassengerId</th>\n",
       "      <th>Survived</th>\n",
       "      <th>Pclass</th>\n",
       "      <th>Name</th>\n",
       "      <th>Sex</th>\n",
       "      <th>Age</th>\n",
       "      <th>SibSp</th>\n",
       "      <th>Parch</th>\n",
       "      <th>Ticket</th>\n",
       "      <th>Fare</th>\n",
       "      <th>...</th>\n",
       "      <th>Master</th>\n",
       "      <th>Miss</th>\n",
       "      <th>Mrs</th>\n",
       "      <th>Mr</th>\n",
       "      <th>uncommon</th>\n",
       "      <th>Fare_ranges</th>\n",
       "      <th>qbin_Age1</th>\n",
       "      <th>qbin_Age2</th>\n",
       "      <th>qbin_Age3</th>\n",
       "      <th>qbin_Age4</th>\n",
       "    </tr>\n",
       "  </thead>\n",
       "  <tbody>\n",
       "    <tr>\n",
       "      <th>0</th>\n",
       "      <td>1</td>\n",
       "      <td>0</td>\n",
       "      <td>3</td>\n",
       "      <td>Mr</td>\n",
       "      <td>male</td>\n",
       "      <td>22.0</td>\n",
       "      <td>1</td>\n",
       "      <td>0</td>\n",
       "      <td>A/5 21171</td>\n",
       "      <td>7.2500</td>\n",
       "      <td>...</td>\n",
       "      <td>0</td>\n",
       "      <td>0</td>\n",
       "      <td>0</td>\n",
       "      <td>0</td>\n",
       "      <td>1</td>\n",
       "      <td>0</td>\n",
       "      <td>1</td>\n",
       "      <td>0</td>\n",
       "      <td>0</td>\n",
       "      <td>0</td>\n",
       "    </tr>\n",
       "    <tr>\n",
       "      <th>1</th>\n",
       "      <td>2</td>\n",
       "      <td>1</td>\n",
       "      <td>1</td>\n",
       "      <td>Mistress</td>\n",
       "      <td>female</td>\n",
       "      <td>38.0</td>\n",
       "      <td>1</td>\n",
       "      <td>0</td>\n",
       "      <td>PC 17599</td>\n",
       "      <td>71.2833</td>\n",
       "      <td>...</td>\n",
       "      <td>0</td>\n",
       "      <td>0</td>\n",
       "      <td>0</td>\n",
       "      <td>1</td>\n",
       "      <td>0</td>\n",
       "      <td>3</td>\n",
       "      <td>0</td>\n",
       "      <td>0</td>\n",
       "      <td>0</td>\n",
       "      <td>1</td>\n",
       "    </tr>\n",
       "    <tr>\n",
       "      <th>2</th>\n",
       "      <td>3</td>\n",
       "      <td>1</td>\n",
       "      <td>3</td>\n",
       "      <td>Miss</td>\n",
       "      <td>female</td>\n",
       "      <td>26.0</td>\n",
       "      <td>0</td>\n",
       "      <td>0</td>\n",
       "      <td>STON/O2. 3101282</td>\n",
       "      <td>7.9250</td>\n",
       "      <td>...</td>\n",
       "      <td>0</td>\n",
       "      <td>0</td>\n",
       "      <td>1</td>\n",
       "      <td>0</td>\n",
       "      <td>0</td>\n",
       "      <td>1</td>\n",
       "      <td>0</td>\n",
       "      <td>1</td>\n",
       "      <td>0</td>\n",
       "      <td>0</td>\n",
       "    </tr>\n",
       "  </tbody>\n",
       "</table>\n",
       "<p>3 rows × 31 columns</p>\n",
       "</div>"
      ],
      "text/plain": [
       "   PassengerId  Survived  Pclass      Name     Sex   Age  SibSp  Parch  \\\n",
       "0            1         0       3        Mr    male  22.0      1      0   \n",
       "1            2         1       1  Mistress  female  38.0      1      0   \n",
       "2            3         1       3      Miss  female  26.0      0      0   \n",
       "\n",
       "             Ticket     Fare  ... Master  Miss  Mrs  Mr  uncommon  \\\n",
       "0         A/5 21171   7.2500  ...      0     0    0   0         1   \n",
       "1          PC 17599  71.2833  ...      0     0    0   1         0   \n",
       "2  STON/O2. 3101282   7.9250  ...      0     0    1   0         0   \n",
       "\n",
       "   Fare_ranges  qbin_Age1  qbin_Age2  qbin_Age3  qbin_Age4  \n",
       "0            0          1          0          0          0  \n",
       "1            3          0          0          0          1  \n",
       "2            1          0          1          0          0  \n",
       "\n",
       "[3 rows x 31 columns]"
      ]
     },
     "execution_count": 58,
     "metadata": {},
     "output_type": "execute_result"
    }
   ],
   "source": [
    "data = ages(data)\n",
    "data.head(3)"
   ]
  },
  {
   "cell_type": "markdown",
   "metadata": {},
   "source": [
    "### 3.3. Scalling\n",
    "**Not my favorite**. It seems that digregating the scores in different columns helps to increase the accuracy. "
   ]
  },
  {
   "cell_type": "markdown",
   "metadata": {},
   "source": [
    "### 3.4. Into numeric\n",
    "* sex"
   ]
  },
  {
   "cell_type": "code",
   "execution_count": 59,
   "metadata": {
    "scrolled": true
   },
   "outputs": [],
   "source": [
    "def gender(dataframe):\n",
    "    \"\"\"\n",
    "    Hotencodes gender to either male or female\n",
    "\n",
    "    Parameters:\n",
    "    ----------\n",
    "    dataframe: training dataset Titanic\n",
    "    \"\"\"\n",
    "    dataframe.loc[(dataframe['Sex'] == 'male'), 'Sex'] = 0\n",
    "    dataframe.loc[(dataframe['Sex'] == 'female'), 'Sex'] = 1\n",
    "    return dataframe"
   ]
  },
  {
   "cell_type": "code",
   "execution_count": 60,
   "metadata": {},
   "outputs": [
    {
     "data": {
      "text/html": [
       "<div>\n",
       "<style scoped>\n",
       "    .dataframe tbody tr th:only-of-type {\n",
       "        vertical-align: middle;\n",
       "    }\n",
       "\n",
       "    .dataframe tbody tr th {\n",
       "        vertical-align: top;\n",
       "    }\n",
       "\n",
       "    .dataframe thead th {\n",
       "        text-align: right;\n",
       "    }\n",
       "</style>\n",
       "<table border=\"1\" class=\"dataframe\">\n",
       "  <thead>\n",
       "    <tr style=\"text-align: right;\">\n",
       "      <th></th>\n",
       "      <th>PassengerId</th>\n",
       "      <th>Survived</th>\n",
       "      <th>Pclass</th>\n",
       "      <th>Name</th>\n",
       "      <th>Sex</th>\n",
       "      <th>Age</th>\n",
       "      <th>SibSp</th>\n",
       "      <th>Parch</th>\n",
       "      <th>Ticket</th>\n",
       "      <th>Fare</th>\n",
       "      <th>...</th>\n",
       "      <th>Master</th>\n",
       "      <th>Miss</th>\n",
       "      <th>Mrs</th>\n",
       "      <th>Mr</th>\n",
       "      <th>uncommon</th>\n",
       "      <th>Fare_ranges</th>\n",
       "      <th>qbin_Age1</th>\n",
       "      <th>qbin_Age2</th>\n",
       "      <th>qbin_Age3</th>\n",
       "      <th>qbin_Age4</th>\n",
       "    </tr>\n",
       "  </thead>\n",
       "  <tbody>\n",
       "    <tr>\n",
       "      <th>0</th>\n",
       "      <td>1</td>\n",
       "      <td>0</td>\n",
       "      <td>3</td>\n",
       "      <td>Mr</td>\n",
       "      <td>0</td>\n",
       "      <td>22.0</td>\n",
       "      <td>1</td>\n",
       "      <td>0</td>\n",
       "      <td>A/5 21171</td>\n",
       "      <td>7.2500</td>\n",
       "      <td>...</td>\n",
       "      <td>0</td>\n",
       "      <td>0</td>\n",
       "      <td>0</td>\n",
       "      <td>0</td>\n",
       "      <td>1</td>\n",
       "      <td>0</td>\n",
       "      <td>1</td>\n",
       "      <td>0</td>\n",
       "      <td>0</td>\n",
       "      <td>0</td>\n",
       "    </tr>\n",
       "    <tr>\n",
       "      <th>1</th>\n",
       "      <td>2</td>\n",
       "      <td>1</td>\n",
       "      <td>1</td>\n",
       "      <td>Mistress</td>\n",
       "      <td>1</td>\n",
       "      <td>38.0</td>\n",
       "      <td>1</td>\n",
       "      <td>0</td>\n",
       "      <td>PC 17599</td>\n",
       "      <td>71.2833</td>\n",
       "      <td>...</td>\n",
       "      <td>0</td>\n",
       "      <td>0</td>\n",
       "      <td>0</td>\n",
       "      <td>1</td>\n",
       "      <td>0</td>\n",
       "      <td>3</td>\n",
       "      <td>0</td>\n",
       "      <td>0</td>\n",
       "      <td>0</td>\n",
       "      <td>1</td>\n",
       "    </tr>\n",
       "    <tr>\n",
       "      <th>2</th>\n",
       "      <td>3</td>\n",
       "      <td>1</td>\n",
       "      <td>3</td>\n",
       "      <td>Miss</td>\n",
       "      <td>1</td>\n",
       "      <td>26.0</td>\n",
       "      <td>0</td>\n",
       "      <td>0</td>\n",
       "      <td>STON/O2. 3101282</td>\n",
       "      <td>7.9250</td>\n",
       "      <td>...</td>\n",
       "      <td>0</td>\n",
       "      <td>0</td>\n",
       "      <td>1</td>\n",
       "      <td>0</td>\n",
       "      <td>0</td>\n",
       "      <td>1</td>\n",
       "      <td>0</td>\n",
       "      <td>1</td>\n",
       "      <td>0</td>\n",
       "      <td>0</td>\n",
       "    </tr>\n",
       "  </tbody>\n",
       "</table>\n",
       "<p>3 rows × 31 columns</p>\n",
       "</div>"
      ],
      "text/plain": [
       "   PassengerId  Survived  Pclass      Name Sex   Age  SibSp  Parch  \\\n",
       "0            1         0       3        Mr   0  22.0      1      0   \n",
       "1            2         1       1  Mistress   1  38.0      1      0   \n",
       "2            3         1       3      Miss   1  26.0      0      0   \n",
       "\n",
       "             Ticket     Fare  ... Master  Miss  Mrs  Mr  uncommon  \\\n",
       "0         A/5 21171   7.2500  ...      0     0    0   0         1   \n",
       "1          PC 17599  71.2833  ...      0     0    0   1         0   \n",
       "2  STON/O2. 3101282   7.9250  ...      0     0    1   0         0   \n",
       "\n",
       "   Fare_ranges  qbin_Age1  qbin_Age2  qbin_Age3  qbin_Age4  \n",
       "0            0          1          0          0          0  \n",
       "1            3          0          0          0          1  \n",
       "2            1          0          1          0          0  \n",
       "\n",
       "[3 rows x 31 columns]"
      ]
     },
     "execution_count": 60,
     "metadata": {},
     "output_type": "execute_result"
    }
   ],
   "source": [
    "data = gender(data)\n",
    "data.head(3)"
   ]
  },
  {
   "cell_type": "markdown",
   "metadata": {},
   "source": [
    "### 3.5. Interactions \n",
    "- Age per class"
   ]
  },
  {
   "cell_type": "code",
   "execution_count": 61,
   "metadata": {
    "scrolled": true
   },
   "outputs": [],
   "source": [
    "def age_per_class(dataframe, bins_fares):\n",
    "    \"\"\"\n",
    "    Hotecondes ages per travelling class into five different groups\n",
    "\n",
    "    Parameters:\n",
    "    ----------\n",
    "    dataframe: training dataset Titanic\n",
    "    \"\"\"\n",
    "    dataframe['int_Age*Pclass'] = dataframe['Age'] * dataframe['Pclass']\n",
    "    qbins = pd.qcut(dataframe['int_Age*Pclass'], q=4)\n",
    "    qbins = pd.get_dummies(qbins)\n",
    "    qbins.columns=['qbin_SexClass1', 'qbin_SexClass2', 'qbin_SexClass3', 'qbin_SexClass4']\n",
    "    dataframe = pd.concat([dataframe, qbins], axis = 1)\n",
    "    bins_Ages = [-1, 22, 29, 35, 60, np.inf]\n",
    "    names_fares = [1, 2, 3, 4, 5]\n",
    "    dataframe['Age_ranges'] =  pd.cut(dataframe['Age'], bins_fares, labels=names_fares)\n",
    "    return dataframe"
   ]
  },
  {
   "cell_type": "code",
   "execution_count": 62,
   "metadata": {},
   "outputs": [
    {
     "data": {
      "text/html": [
       "<div>\n",
       "<style scoped>\n",
       "    .dataframe tbody tr th:only-of-type {\n",
       "        vertical-align: middle;\n",
       "    }\n",
       "\n",
       "    .dataframe tbody tr th {\n",
       "        vertical-align: top;\n",
       "    }\n",
       "\n",
       "    .dataframe thead th {\n",
       "        text-align: right;\n",
       "    }\n",
       "</style>\n",
       "<table border=\"1\" class=\"dataframe\">\n",
       "  <thead>\n",
       "    <tr style=\"text-align: right;\">\n",
       "      <th></th>\n",
       "      <th>PassengerId</th>\n",
       "      <th>Survived</th>\n",
       "      <th>Pclass</th>\n",
       "      <th>Name</th>\n",
       "      <th>Sex</th>\n",
       "      <th>Age</th>\n",
       "      <th>SibSp</th>\n",
       "      <th>Parch</th>\n",
       "      <th>Ticket</th>\n",
       "      <th>Fare</th>\n",
       "      <th>...</th>\n",
       "      <th>qbin_Age1</th>\n",
       "      <th>qbin_Age2</th>\n",
       "      <th>qbin_Age3</th>\n",
       "      <th>qbin_Age4</th>\n",
       "      <th>int_Age*Pclass</th>\n",
       "      <th>qbin_SexClass1</th>\n",
       "      <th>qbin_SexClass2</th>\n",
       "      <th>qbin_SexClass3</th>\n",
       "      <th>qbin_SexClass4</th>\n",
       "      <th>Age_ranges</th>\n",
       "    </tr>\n",
       "  </thead>\n",
       "  <tbody>\n",
       "    <tr>\n",
       "      <th>0</th>\n",
       "      <td>1</td>\n",
       "      <td>0</td>\n",
       "      <td>3</td>\n",
       "      <td>Mr</td>\n",
       "      <td>0</td>\n",
       "      <td>22.0</td>\n",
       "      <td>1</td>\n",
       "      <td>0</td>\n",
       "      <td>A/5 21171</td>\n",
       "      <td>7.2500</td>\n",
       "      <td>...</td>\n",
       "      <td>1</td>\n",
       "      <td>0</td>\n",
       "      <td>0</td>\n",
       "      <td>0</td>\n",
       "      <td>66.0</td>\n",
       "      <td>0</td>\n",
       "      <td>0</td>\n",
       "      <td>1</td>\n",
       "      <td>0</td>\n",
       "      <td>3</td>\n",
       "    </tr>\n",
       "    <tr>\n",
       "      <th>1</th>\n",
       "      <td>2</td>\n",
       "      <td>1</td>\n",
       "      <td>1</td>\n",
       "      <td>Mistress</td>\n",
       "      <td>1</td>\n",
       "      <td>38.0</td>\n",
       "      <td>1</td>\n",
       "      <td>0</td>\n",
       "      <td>PC 17599</td>\n",
       "      <td>71.2833</td>\n",
       "      <td>...</td>\n",
       "      <td>0</td>\n",
       "      <td>0</td>\n",
       "      <td>0</td>\n",
       "      <td>1</td>\n",
       "      <td>38.0</td>\n",
       "      <td>1</td>\n",
       "      <td>0</td>\n",
       "      <td>0</td>\n",
       "      <td>0</td>\n",
       "      <td>4</td>\n",
       "    </tr>\n",
       "    <tr>\n",
       "      <th>2</th>\n",
       "      <td>3</td>\n",
       "      <td>1</td>\n",
       "      <td>3</td>\n",
       "      <td>Miss</td>\n",
       "      <td>1</td>\n",
       "      <td>26.0</td>\n",
       "      <td>0</td>\n",
       "      <td>0</td>\n",
       "      <td>STON/O2. 3101282</td>\n",
       "      <td>7.9250</td>\n",
       "      <td>...</td>\n",
       "      <td>0</td>\n",
       "      <td>1</td>\n",
       "      <td>0</td>\n",
       "      <td>0</td>\n",
       "      <td>78.0</td>\n",
       "      <td>0</td>\n",
       "      <td>0</td>\n",
       "      <td>1</td>\n",
       "      <td>0</td>\n",
       "      <td>3</td>\n",
       "    </tr>\n",
       "  </tbody>\n",
       "</table>\n",
       "<p>3 rows × 37 columns</p>\n",
       "</div>"
      ],
      "text/plain": [
       "   PassengerId  Survived  Pclass      Name Sex   Age  SibSp  Parch  \\\n",
       "0            1         0       3        Mr   0  22.0      1      0   \n",
       "1            2         1       1  Mistress   1  38.0      1      0   \n",
       "2            3         1       3      Miss   1  26.0      0      0   \n",
       "\n",
       "             Ticket     Fare  ... qbin_Age1  qbin_Age2  qbin_Age3  qbin_Age4  \\\n",
       "0         A/5 21171   7.2500  ...         1          0          0          0   \n",
       "1          PC 17599  71.2833  ...         0          0          0          1   \n",
       "2  STON/O2. 3101282   7.9250  ...         0          1          0          0   \n",
       "\n",
       "   int_Age*Pclass  qbin_SexClass1  qbin_SexClass2  qbin_SexClass3  \\\n",
       "0            66.0               0               0               1   \n",
       "1            38.0               1               0               0   \n",
       "2            78.0               0               0               1   \n",
       "\n",
       "   qbin_SexClass4  Age_ranges  \n",
       "0               0           3  \n",
       "1               0           4  \n",
       "2               0           3  \n",
       "\n",
       "[3 rows x 37 columns]"
      ]
     },
     "execution_count": 62,
     "metadata": {},
     "output_type": "execute_result"
    }
   ],
   "source": [
    "data = age_per_class(data, bins_fares)\n",
    "data.head(3)"
   ]
  },
  {
   "cell_type": "code",
   "execution_count": 63,
   "metadata": {
    "scrolled": true
   },
   "outputs": [
    {
     "data": {
      "text/plain": [
       "PassengerId       0\n",
       "Survived          0\n",
       "Pclass            0\n",
       "Name              0\n",
       "Sex               0\n",
       "Age               0\n",
       "SibSp             0\n",
       "Parch             0\n",
       "Ticket            0\n",
       "Fare              0\n",
       "Cabin             0\n",
       "Embarked          2\n",
       "unk_Cabin         0\n",
       "Cabin_A           0\n",
       "Cabin_B           0\n",
       "Cabin_C           0\n",
       "Cabin_D           0\n",
       "Cabin_E           0\n",
       "Cabin_F           0\n",
       "Cabin_G           0\n",
       "Cabin_T           0\n",
       "Master            0\n",
       "Miss              0\n",
       "Mrs               0\n",
       "Mr                0\n",
       "uncommon          0\n",
       "Fare_ranges       0\n",
       "qbin_Age1         0\n",
       "qbin_Age2         0\n",
       "qbin_Age3         0\n",
       "qbin_Age4         0\n",
       "int_Age*Pclass    0\n",
       "qbin_SexClass1    0\n",
       "qbin_SexClass2    0\n",
       "qbin_SexClass3    0\n",
       "qbin_SexClass4    0\n",
       "Age_ranges        0\n",
       "dtype: int64"
      ]
     },
     "execution_count": 63,
     "metadata": {},
     "output_type": "execute_result"
    }
   ],
   "source": [
    "data.isnull().sum()"
   ]
  },
  {
   "cell_type": "markdown",
   "metadata": {},
   "source": [
    "#### Remove columns not to be engineered and save to file"
   ]
  },
  {
   "cell_type": "code",
   "execution_count": 139,
   "metadata": {
    "scrolled": true
   },
   "outputs": [],
   "source": [
    "def clear_engineer(dataframe, columns, data_type):\n",
    "    \"\"\"\n",
    "    clear dataframe for a list containing the name of columns that will not be\n",
    "    used as classifiers for the evaluation and prediction\n",
    "\n",
    "    Parameters:\n",
    "    ----------\n",
    "    dataframe: Data from the Titanic dataset. Either training or test data\n",
    "    data_type: training, test\n",
    "    \"\"\"\n",
    "    if data_type == \"training\":\n",
    "        dataframe.drop(columns, axis = 1, inplace = True)\n",
    "        dataframe.to_csv('../data/train_featured.csv', index=False)\n",
    "    else: \n",
    "        dataframe.drop(columns, axis = 1, inplace = True)\n",
    "        dataframe.to_csv('../data/test_featured.csv', index=False)\n",
    "    return dataframe"
   ]
  },
  {
   "cell_type": "code",
   "execution_count": 65,
   "metadata": {},
   "outputs": [
    {
     "data": {
      "text/html": [
       "<div>\n",
       "<style scoped>\n",
       "    .dataframe tbody tr th:only-of-type {\n",
       "        vertical-align: middle;\n",
       "    }\n",
       "\n",
       "    .dataframe tbody tr th {\n",
       "        vertical-align: top;\n",
       "    }\n",
       "\n",
       "    .dataframe thead th {\n",
       "        text-align: right;\n",
       "    }\n",
       "</style>\n",
       "<table border=\"1\" class=\"dataframe\">\n",
       "  <thead>\n",
       "    <tr style=\"text-align: right;\">\n",
       "      <th></th>\n",
       "      <th>PassengerId</th>\n",
       "      <th>Survived</th>\n",
       "      <th>Pclass</th>\n",
       "      <th>Sex</th>\n",
       "      <th>SibSp</th>\n",
       "      <th>Parch</th>\n",
       "      <th>unk_Cabin</th>\n",
       "      <th>Cabin_A</th>\n",
       "      <th>Cabin_B</th>\n",
       "      <th>Cabin_C</th>\n",
       "      <th>...</th>\n",
       "      <th>Fare_ranges</th>\n",
       "      <th>qbin_Age1</th>\n",
       "      <th>qbin_Age2</th>\n",
       "      <th>qbin_Age3</th>\n",
       "      <th>qbin_Age4</th>\n",
       "      <th>qbin_SexClass1</th>\n",
       "      <th>qbin_SexClass2</th>\n",
       "      <th>qbin_SexClass3</th>\n",
       "      <th>qbin_SexClass4</th>\n",
       "      <th>Age_ranges</th>\n",
       "    </tr>\n",
       "  </thead>\n",
       "  <tbody>\n",
       "    <tr>\n",
       "      <th>0</th>\n",
       "      <td>1</td>\n",
       "      <td>0</td>\n",
       "      <td>3</td>\n",
       "      <td>0</td>\n",
       "      <td>1</td>\n",
       "      <td>0</td>\n",
       "      <td>1</td>\n",
       "      <td>0</td>\n",
       "      <td>0</td>\n",
       "      <td>0</td>\n",
       "      <td>...</td>\n",
       "      <td>0</td>\n",
       "      <td>1</td>\n",
       "      <td>0</td>\n",
       "      <td>0</td>\n",
       "      <td>0</td>\n",
       "      <td>0</td>\n",
       "      <td>0</td>\n",
       "      <td>1</td>\n",
       "      <td>0</td>\n",
       "      <td>3</td>\n",
       "    </tr>\n",
       "    <tr>\n",
       "      <th>1</th>\n",
       "      <td>2</td>\n",
       "      <td>1</td>\n",
       "      <td>1</td>\n",
       "      <td>1</td>\n",
       "      <td>1</td>\n",
       "      <td>0</td>\n",
       "      <td>0</td>\n",
       "      <td>0</td>\n",
       "      <td>0</td>\n",
       "      <td>1</td>\n",
       "      <td>...</td>\n",
       "      <td>3</td>\n",
       "      <td>0</td>\n",
       "      <td>0</td>\n",
       "      <td>0</td>\n",
       "      <td>1</td>\n",
       "      <td>1</td>\n",
       "      <td>0</td>\n",
       "      <td>0</td>\n",
       "      <td>0</td>\n",
       "      <td>4</td>\n",
       "    </tr>\n",
       "    <tr>\n",
       "      <th>2</th>\n",
       "      <td>3</td>\n",
       "      <td>1</td>\n",
       "      <td>3</td>\n",
       "      <td>1</td>\n",
       "      <td>0</td>\n",
       "      <td>0</td>\n",
       "      <td>1</td>\n",
       "      <td>0</td>\n",
       "      <td>0</td>\n",
       "      <td>0</td>\n",
       "      <td>...</td>\n",
       "      <td>1</td>\n",
       "      <td>0</td>\n",
       "      <td>1</td>\n",
       "      <td>0</td>\n",
       "      <td>0</td>\n",
       "      <td>0</td>\n",
       "      <td>0</td>\n",
       "      <td>1</td>\n",
       "      <td>0</td>\n",
       "      <td>3</td>\n",
       "    </tr>\n",
       "  </tbody>\n",
       "</table>\n",
       "<p>3 rows × 30 columns</p>\n",
       "</div>"
      ],
      "text/plain": [
       "   PassengerId  Survived  Pclass Sex  SibSp  Parch  unk_Cabin  Cabin_A  \\\n",
       "0            1         0       3   0      1      0          1        0   \n",
       "1            2         1       1   1      1      0          0        0   \n",
       "2            3         1       3   1      0      0          1        0   \n",
       "\n",
       "   Cabin_B  Cabin_C  ...  Fare_ranges  qbin_Age1  qbin_Age2  qbin_Age3  \\\n",
       "0        0        0  ...            0          1          0          0   \n",
       "1        0        1  ...            3          0          0          0   \n",
       "2        0        0  ...            1          0          1          0   \n",
       "\n",
       "   qbin_Age4  qbin_SexClass1  qbin_SexClass2  qbin_SexClass3  qbin_SexClass4  \\\n",
       "0          0               0               0               1               0   \n",
       "1          1               1               0               0               0   \n",
       "2          0               0               0               1               0   \n",
       "\n",
       "   Age_ranges  \n",
       "0           3  \n",
       "1           4  \n",
       "2           3  \n",
       "\n",
       "[3 rows x 30 columns]"
      ]
     },
     "execution_count": 65,
     "metadata": {},
     "output_type": "execute_result"
    }
   ],
   "source": [
    "columns = ['Age', 'Name', 'Fare',  'Ticket', 'Cabin', 'Embarked', 'int_Age*Pclass']\n",
    "data = clear_engineer(data, columns)\n",
    "data.head(3)"
   ]
  },
  {
   "cell_type": "code",
   "execution_count": 66,
   "metadata": {
    "scrolled": false
   },
   "outputs": [
    {
     "name": "stdout",
     "output_type": "stream",
     "text": [
      "<class 'pandas.core.frame.DataFrame'>\n",
      "RangeIndex: 891 entries, 0 to 890\n",
      "Data columns (total 30 columns):\n",
      " #   Column          Non-Null Count  Dtype   \n",
      "---  ------          --------------  -----   \n",
      " 0   PassengerId     891 non-null    int64   \n",
      " 1   Survived        891 non-null    int64   \n",
      " 2   Pclass          891 non-null    int64   \n",
      " 3   Sex             891 non-null    object  \n",
      " 4   SibSp           891 non-null    int64   \n",
      " 5   Parch           891 non-null    int64   \n",
      " 6   unk_Cabin       891 non-null    uint8   \n",
      " 7   Cabin_A         891 non-null    uint8   \n",
      " 8   Cabin_B         891 non-null    uint8   \n",
      " 9   Cabin_C         891 non-null    uint8   \n",
      " 10  Cabin_D         891 non-null    uint8   \n",
      " 11  Cabin_E         891 non-null    uint8   \n",
      " 12  Cabin_F         891 non-null    uint8   \n",
      " 13  Cabin_G         891 non-null    uint8   \n",
      " 14  Cabin_T         891 non-null    uint8   \n",
      " 15  Master          891 non-null    uint8   \n",
      " 16  Miss            891 non-null    uint8   \n",
      " 17  Mrs             891 non-null    uint8   \n",
      " 18  Mr              891 non-null    uint8   \n",
      " 19  uncommon        891 non-null    uint8   \n",
      " 20  Fare_ranges     891 non-null    category\n",
      " 21  qbin_Age1       891 non-null    uint8   \n",
      " 22  qbin_Age2       891 non-null    uint8   \n",
      " 23  qbin_Age3       891 non-null    uint8   \n",
      " 24  qbin_Age4       891 non-null    uint8   \n",
      " 25  qbin_SexClass1  891 non-null    uint8   \n",
      " 26  qbin_SexClass2  891 non-null    uint8   \n",
      " 27  qbin_SexClass3  891 non-null    uint8   \n",
      " 28  qbin_SexClass4  891 non-null    uint8   \n",
      " 29  Age_ranges      891 non-null    category\n",
      "dtypes: category(2), int64(5), object(1), uint8(22)\n",
      "memory usage: 63.2+ KB\n"
     ]
    }
   ],
   "source": [
    "data.info()"
   ]
  },
  {
   "cell_type": "code",
   "execution_count": 67,
   "metadata": {
    "scrolled": false
   },
   "outputs": [
    {
     "data": {
      "text/plain": [
       "Index(['PassengerId', 'Survived', 'Pclass', 'Sex', 'SibSp', 'Parch',\n",
       "       'unk_Cabin', 'Cabin_A', 'Cabin_B', 'Cabin_C', 'Cabin_D', 'Cabin_E',\n",
       "       'Cabin_F', 'Cabin_G', 'Cabin_T', 'Master', 'Miss', 'Mrs', 'Mr',\n",
       "       'uncommon', 'Fare_ranges', 'qbin_Age1', 'qbin_Age2', 'qbin_Age3',\n",
       "       'qbin_Age4', 'qbin_SexClass1', 'qbin_SexClass2', 'qbin_SexClass3',\n",
       "       'qbin_SexClass4', 'Age_ranges'],\n",
       "      dtype='object')"
      ]
     },
     "execution_count": 67,
     "metadata": {},
     "output_type": "execute_result"
    }
   ],
   "source": [
    "data.columns"
   ]
  },
  {
   "cell_type": "markdown",
   "metadata": {},
   "source": [
    "## `Step 4 Evaluating Classifiers`"
   ]
  },
  {
   "cell_type": "code",
   "execution_count": 68,
   "metadata": {},
   "outputs": [],
   "source": [
    "import seaborn as sns\n",
    "import matplotlib\n",
    "import matplotlib.pyplot as plt\n",
    "from sklearn.linear_model import LogisticRegression\n",
    "from sklearn.metrics import accuracy_score\n",
    "from sklearn.metrics import plot_confusion_matrix\n",
    "from sklearn.metrics import precision_score\n",
    "from sklearn.metrics import recall_score\n",
    "from sklearn.model_selection import train_test_split\n",
    "from sklearn.dummy import DummyClassifier"
   ]
  },
  {
   "cell_type": "markdown",
   "metadata": {},
   "source": [
    "### Split the data into train and test set"
   ]
  },
  {
   "cell_type": "code",
   "execution_count": 69,
   "metadata": {},
   "outputs": [],
   "source": [
    "data = pd.read_csv(\"../data/train_featured.csv\")\n",
    "y = data['Survived']\n",
    "X = data.iloc[:, 2:]\n",
    "X_train, X_test, y_train, y_test = train_test_split(X, y, test_size=0.2)"
   ]
  },
  {
   "cell_type": "markdown",
   "metadata": {},
   "source": [
    "### Define the strategy to proceed with the evaluation"
   ]
  },
  {
   "cell_type": "code",
   "execution_count": 70,
   "metadata": {},
   "outputs": [],
   "source": [
    "def define_strategy(X_train, y_train):\n",
    "    plt = matplotlib.pyplot.gcf()\n",
    "    plt.set_size_inches(12, 8)\n",
    "    strats = ['stratified', 'most_frequent', 'prior', 'uniform', 'constant']\n",
    "    train_dummy_scores = {}\n",
    "    \n",
    "    for clfs in strats:\n",
    "        if clfs == 'constant':\n",
    "            dummy_clf = DummyClassifier(strategy = clfs, random_state = 0, constant = 0)\n",
    "        else: \n",
    "            dummy_clf = DummyClassifier(strategy = clfs, random_state = 0)\n",
    "        dummy_clf.fit(X_train, y_train)\n",
    "        score = dummy_clf.score(X_train, y_train)\n",
    "        train_dummy_scores[clfs] = score\n",
    "\n",
    "    values = list(train_dummy_scores.values())\n",
    "    ax = sns.stripplot(strats, values); \n",
    "    ax.set(xlabel ='strategy', ylabel ='training score')\n",
    "    plt.savefig('../plots/strategies.jpg')"
   ]
  },
  {
   "cell_type": "code",
   "execution_count": 71,
   "metadata": {
    "scrolled": true
   },
   "outputs": [
    {
     "data": {
      "image/png": "[encoded data removed]",
      "text/plain": [
       "<Figure size 864x576 with 1 Axes>"
      ]
     },
     "metadata": {
      "needs_background": "light"
     },
     "output_type": "display_data"
    }
   ],
   "source": [
    "define_strategy(X_train, y_train)"
   ]
  },
  {
   "cell_type": "markdown",
   "metadata": {},
   "source": [
    "### Build up a dummy classifier based on the prior. This will be of use for contrasting the model. "
   ]
  },
  {
   "cell_type": "code",
   "execution_count": 72,
   "metadata": {},
   "outputs": [],
   "source": [
    "def build_dummy():\n",
    "    dummy_clf = DummyClassifier(strategy = 'most_frequent', random_state = 0)\n",
    "    dummy_clf.fit(X_train, y_train)\n",
    "    dummy_clf.score(X_train, y_train)\n",
    "    return dummy_clf"
   ]
  },
  {
   "cell_type": "code",
   "execution_count": 73,
   "metadata": {},
   "outputs": [],
   "source": [
    "dummy_clf = build_dummy()"
   ]
  },
  {
   "cell_type": "markdown",
   "metadata": {},
   "source": [
    "### Build simple logistic regression model"
   ]
  },
  {
   "cell_type": "code",
   "execution_count": 74,
   "metadata": {},
   "outputs": [],
   "source": [
    "def simple_regression(training_cols):\n",
    "    model = LogisticRegression(C=0.1, max_iter = 1000)\n",
    "    model.fit(X_train[training_cols], y_train)\n",
    "    score = model.score(X_train[training_cols], y_train)\n",
    "    model.predict(X_train[training_cols]) \n",
    "    coef = model.coef_\n",
    "    intercept = model.intercept_\n",
    "    return coef, intercept, score, model"
   ]
  },
  {
   "cell_type": "code",
   "execution_count": 75,
   "metadata": {},
   "outputs": [
    {
     "name": "stdout",
     "output_type": "stream",
     "text": [
      "Simple regression results:\n",
      "score: 0.8146067415730337 \n",
      "coef: [[ 0.26496611  0.74894783 -0.53444383 -0.93171712  1.85155968 -0.3674573\n",
      "  -0.11073946  0.04870545 -0.08861103]] \n",
      "intercept: [2.73189684]\n"
     ]
    }
   ],
   "source": [
    "columns = [ 'Mrs', 'Miss', 'Age_ranges', 'Pclass', 'Sex', 'SibSp', 'qbin_Age2', 'Parch', 'Cabin_C']\n",
    "\n",
    "coef, intercept, score, model = simple_regression(columns)\n",
    "print(\"Simple regression results:\\nscore: \" + str(score), \\\n",
    "      \"\\ncoef: \" + str(coef), \"\\nintercept: \" + str(intercept))"
   ]
  },
  {
   "cell_type": "markdown",
   "metadata": {},
   "source": [
    "### Calculate the accuracy of the build model "
   ]
  },
  {
   "cell_type": "code",
   "execution_count": 76,
   "metadata": {},
   "outputs": [],
   "source": [
    "def accuracy(X_train, training_cols):\n",
    "    y_pred_dummy = dummy_clf.predict(X_train)\n",
    "    y_pred_lr = model.predict(X_train[training_cols])\n",
    "    accuracy = accuracy_score(y_train, y_pred_lr)    \n",
    "    return accuracy, y_pred_lr"
   ]
  },
  {
   "cell_type": "code",
   "execution_count": 77,
   "metadata": {},
   "outputs": [
    {
     "data": {
      "text/plain": [
       "0.8146067415730337"
      ]
     },
     "execution_count": 77,
     "metadata": {},
     "output_type": "execute_result"
    }
   ],
   "source": [
    "accuracy, y_pred_lr = accuracy(X_train, columns)\n",
    "accuracy"
   ]
  },
  {
   "cell_type": "code",
   "execution_count": 78,
   "metadata": {},
   "outputs": [
    {
     "data": {
      "text/plain": [
       "(array([[ 0.26496611,  0.74894783, -0.53444383, -0.93171712,  1.85155968,\n",
       "         -0.3674573 , -0.11073946,  0.04870545, -0.08861103]]),\n",
       " array([2.73189684]))"
      ]
     },
     "execution_count": 78,
     "metadata": {},
     "output_type": "execute_result"
    }
   ],
   "source": [
    "coef, intercept"
   ]
  },
  {
   "cell_type": "markdown",
   "metadata": {},
   "source": [
    "### Check the types of Errors and the Confusion Matrix"
   ]
  },
  {
   "cell_type": "code",
   "execution_count": 79,
   "metadata": {},
   "outputs": [],
   "source": [
    "def confusion_matrix_(model, training_cols, X_train, y_train): \n",
    "    titles_options = [(\"without_normalization\", None),\n",
    "                      (\"Normalized\", 'true')]\n",
    "    class_names = training_cols\n",
    "    for i in range(0, 2):\n",
    "        titles = titles_options[i]\n",
    "        if i == 0: \n",
    "            disp = plot_confusion_matrix(model, X_train[columns], y_train, \n",
    "                                         cmap=plt.cm.Blues,\n",
    "                                         normalize=None)\n",
    "        else: \n",
    "            disp = plot_confusion_matrix(model, X_train[columns], y_train, \n",
    "                                 cmap=plt.cm.Blues,\n",
    "                                 normalize='true')    \n",
    "        name = (titles_options[i][0], \"confussion_matrix\")\n",
    "        name = \"_\".join(name) \n",
    "        disp.ax_.set_title(name)\n",
    "        print(name)\n",
    "        print(disp.confusion_matrix)\n",
    "        plt.savefig('../plots/'+name, format =\"jpg\")"
   ]
  },
  {
   "cell_type": "code",
   "execution_count": 80,
   "metadata": {},
   "outputs": [
    {
     "name": "stdout",
     "output_type": "stream",
     "text": [
      "without_normalization_confussion_matrix\n",
      "[[388  49]\n",
      " [ 83 192]]\n",
      "Normalized_confussion_matrix\n",
      "[[0.88787185 0.11212815]\n",
      " [0.30181818 0.69818182]]\n"
     ]
    },
    {
     "data": {
      "image/png": "[encoded data removed]",
      "text/plain": [
       "<Figure size 432x288 with 2 Axes>"
      ]
     },
     "metadata": {
      "needs_background": "light"
     },
     "output_type": "display_data"
    },
    {
     "data": {
      "image/png": "[encoded data removed]",
      "text/plain": [
       "<Figure size 432x288 with 2 Axes>"
      ]
     },
     "metadata": {
      "needs_background": "light"
     },
     "output_type": "display_data"
    }
   ],
   "source": [
    "confusion_matrix_(model, columns, X_train, y_train)"
   ]
  },
  {
   "cell_type": "markdown",
   "metadata": {},
   "source": [
    "### Calculate the precision (positive predictive value) and recall (sensitivity) of the model"
   ]
  },
  {
   "cell_type": "code",
   "execution_count": 81,
   "metadata": {},
   "outputs": [],
   "source": [
    "def precision_recall(y_train, y_pred_lr): \n",
    "    precision = precision_score(y_train, y_pred_lr)\n",
    "    recall = recall_score(y_train, y_pred_lr)\n",
    "    return precision, recall"
   ]
  },
  {
   "cell_type": "code",
   "execution_count": 82,
   "metadata": {
    "scrolled": true
   },
   "outputs": [
    {
     "data": {
      "text/plain": [
       "(0.7966804979253111, 0.6981818181818182)"
      ]
     },
     "execution_count": 82,
     "metadata": {},
     "output_type": "execute_result"
    }
   ],
   "source": [
    "precision, recall = precision_recall(y_train, y_pred_lr)\n",
    "precision, recall"
   ]
  },
  {
   "cell_type": "markdown",
   "metadata": {},
   "source": [
    "### Calculate the F1 score (harmonic mean of precision and recall) as a measure of a test's accuracy"
   ]
  },
  {
   "cell_type": "code",
   "execution_count": 83,
   "metadata": {
    "scrolled": false
   },
   "outputs": [
    {
     "data": {
      "text/plain": [
       "0.744186046511628"
      ]
     },
     "execution_count": 83,
     "metadata": {},
     "output_type": "execute_result"
    }
   ],
   "source": [
    "F1 = 2 * (precision*recall)/(precision+recall)\n",
    "F1"
   ]
  },
  {
   "cell_type": "markdown",
   "metadata": {},
   "source": [
    "## `Step 5: Evaluating the model (Cross - validation)`"
   ]
  },
  {
   "cell_type": "code",
   "execution_count": 84,
   "metadata": {},
   "outputs": [],
   "source": [
    "from sklearn.model_selection import cross_val_score"
   ]
  },
  {
   "cell_type": "code",
   "execution_count": 85,
   "metadata": {
    "scrolled": true
   },
   "outputs": [],
   "source": [
    "cross_scores = cross_val_score(model, X_train, y_train, cv=5, scoring=\"accuracy\")"
   ]
  },
  {
   "cell_type": "code",
   "execution_count": 86,
   "metadata": {
    "scrolled": true
   },
   "outputs": [
    {
     "data": {
      "text/plain": [
       "array([0.77622378, 0.83216783, 0.81690141, 0.81690141, 0.82394366])"
      ]
     },
     "execution_count": 86,
     "metadata": {},
     "output_type": "execute_result"
    }
   ],
   "source": [
    "cross_scores"
   ]
  },
  {
   "cell_type": "code",
   "execution_count": 87,
   "metadata": {
    "scrolled": false
   },
   "outputs": [
    {
     "data": {
      "text/plain": [
       "(0.813, 0.019338268225881753)"
      ]
     },
     "execution_count": 87,
     "metadata": {},
     "output_type": "execute_result"
    }
   ],
   "source": [
    "cross_scores.mean().round(3), cross_scores.std()"
   ]
  },
  {
   "cell_type": "markdown",
   "metadata": {},
   "source": [
    "### Note: The results from the cross validation suggest overfitting of the data"
   ]
  },
  {
   "cell_type": "markdown",
   "metadata": {},
   "source": [
    "## `Step 6: Hyperparameter Optimization`"
   ]
  },
  {
   "cell_type": "code",
   "execution_count": 88,
   "metadata": {},
   "outputs": [],
   "source": [
    "from sklearn.ensemble import RandomForestClassifier "
   ]
  },
  {
   "cell_type": "code",
   "execution_count": 144,
   "metadata": {},
   "outputs": [],
   "source": [
    "def hyperparam_optimization(X_train, y_train):\n",
    "    model_rf = RandomForestClassifier(n_estimators = 100, max_depth = 3, max_features = 3, min_samples_split = 2)\n",
    "    param_grid = {\n",
    "    'n_estimators': [1, 3, 10, 20, 50, 100],\n",
    "    'max_depth':[1, 3, 5, 10, None]\n",
    "    }\n",
    "    gridcv = GridSearchCV(model_rf, param_grid = param_grid )\n",
    "    gridcv.fit(X_train, y_train)\n",
    "    columns = ['mean_test_score', 'std_test_score', 'mean_fit_time', \\\n",
    "            'param_max_depth', 'param_n_estimators']\n",
    "    results_gridcv = pd.DataFrame(gridcv.cv_results_)\n",
    "    results_gridcv[columns].sort_values('mean_test_score', ascending=False)\n",
    "    random_forest = RandomForestClassifier(n_estimators=100, max_depth = 10, max_features =3)\n",
    "    random_forest.fit(X_train, y_train)\n",
    "    y_prediction = random_forest.predict(X_train)\n",
    "    random_forest.score(X_train, y_train)\n",
    "    acc_random_forest = round(random_forest.score(X_train, y_train) * 100, 2)\n",
    "    return results_gridcv, acc_random_forest, random_forest"
   ]
  },
  {
   "cell_type": "code",
   "execution_count": 145,
   "metadata": {},
   "outputs": [],
   "source": [
    "gridcv_res, random_forest_res, rf_model = hyperparam_optimization(X_train, y_train)"
   ]
  },
  {
   "cell_type": "code",
   "execution_count": 146,
   "metadata": {},
   "outputs": [
    {
     "data": {
      "text/html": [
       "<div>\n",
       "<style scoped>\n",
       "    .dataframe tbody tr th:only-of-type {\n",
       "        vertical-align: middle;\n",
       "    }\n",
       "\n",
       "    .dataframe tbody tr th {\n",
       "        vertical-align: top;\n",
       "    }\n",
       "\n",
       "    .dataframe thead th {\n",
       "        text-align: right;\n",
       "    }\n",
       "</style>\n",
       "<table border=\"1\" class=\"dataframe\">\n",
       "  <thead>\n",
       "    <tr style=\"text-align: right;\">\n",
       "      <th></th>\n",
       "      <th>Feature</th>\n",
       "      <th>Importance</th>\n",
       "    </tr>\n",
       "  </thead>\n",
       "  <tbody>\n",
       "    <tr>\n",
       "      <th>17</th>\n",
       "      <td>uncommon</td>\n",
       "      <td>0.150992</td>\n",
       "    </tr>\n",
       "    <tr>\n",
       "      <th>1</th>\n",
       "      <td>Sex</td>\n",
       "      <td>0.141034</td>\n",
       "    </tr>\n",
       "    <tr>\n",
       "      <th>2</th>\n",
       "      <td>SibSp</td>\n",
       "      <td>0.093021</td>\n",
       "    </tr>\n",
       "    <tr>\n",
       "      <th>18</th>\n",
       "      <td>Fare_ranges</td>\n",
       "      <td>0.092252</td>\n",
       "    </tr>\n",
       "    <tr>\n",
       "      <th>0</th>\n",
       "      <td>Pclass</td>\n",
       "      <td>0.072508</td>\n",
       "    </tr>\n",
       "    <tr>\n",
       "      <th>15</th>\n",
       "      <td>Mrs</td>\n",
       "      <td>0.055609</td>\n",
       "    </tr>\n",
       "    <tr>\n",
       "      <th>16</th>\n",
       "      <td>Mr</td>\n",
       "      <td>0.047278</td>\n",
       "    </tr>\n",
       "    <tr>\n",
       "      <th>4</th>\n",
       "      <td>unk_Cabin</td>\n",
       "      <td>0.045780</td>\n",
       "    </tr>\n",
       "    <tr>\n",
       "      <th>23</th>\n",
       "      <td>qbin_SexClass1</td>\n",
       "      <td>0.043013</td>\n",
       "    </tr>\n",
       "    <tr>\n",
       "      <th>3</th>\n",
       "      <td>Parch</td>\n",
       "      <td>0.042508</td>\n",
       "    </tr>\n",
       "    <tr>\n",
       "      <th>27</th>\n",
       "      <td>Age_ranges</td>\n",
       "      <td>0.038161</td>\n",
       "    </tr>\n",
       "    <tr>\n",
       "      <th>9</th>\n",
       "      <td>Cabin_E</td>\n",
       "      <td>0.019591</td>\n",
       "    </tr>\n",
       "    <tr>\n",
       "      <th>26</th>\n",
       "      <td>qbin_SexClass4</td>\n",
       "      <td>0.018895</td>\n",
       "    </tr>\n",
       "    <tr>\n",
       "      <th>20</th>\n",
       "      <td>qbin_Age2</td>\n",
       "      <td>0.014168</td>\n",
       "    </tr>\n",
       "    <tr>\n",
       "      <th>24</th>\n",
       "      <td>qbin_SexClass2</td>\n",
       "      <td>0.014063</td>\n",
       "    </tr>\n",
       "    <tr>\n",
       "      <th>13</th>\n",
       "      <td>Master</td>\n",
       "      <td>0.013509</td>\n",
       "    </tr>\n",
       "    <tr>\n",
       "      <th>21</th>\n",
       "      <td>qbin_Age3</td>\n",
       "      <td>0.013233</td>\n",
       "    </tr>\n",
       "    <tr>\n",
       "      <th>25</th>\n",
       "      <td>qbin_SexClass3</td>\n",
       "      <td>0.012868</td>\n",
       "    </tr>\n",
       "    <tr>\n",
       "      <th>8</th>\n",
       "      <td>Cabin_D</td>\n",
       "      <td>0.011361</td>\n",
       "    </tr>\n",
       "    <tr>\n",
       "      <th>22</th>\n",
       "      <td>qbin_Age4</td>\n",
       "      <td>0.011352</td>\n",
       "    </tr>\n",
       "    <tr>\n",
       "      <th>14</th>\n",
       "      <td>Miss</td>\n",
       "      <td>0.010653</td>\n",
       "    </tr>\n",
       "    <tr>\n",
       "      <th>19</th>\n",
       "      <td>qbin_Age1</td>\n",
       "      <td>0.009122</td>\n",
       "    </tr>\n",
       "    <tr>\n",
       "      <th>7</th>\n",
       "      <td>Cabin_C</td>\n",
       "      <td>0.009057</td>\n",
       "    </tr>\n",
       "    <tr>\n",
       "      <th>6</th>\n",
       "      <td>Cabin_B</td>\n",
       "      <td>0.007282</td>\n",
       "    </tr>\n",
       "    <tr>\n",
       "      <th>5</th>\n",
       "      <td>Cabin_A</td>\n",
       "      <td>0.006519</td>\n",
       "    </tr>\n",
       "    <tr>\n",
       "      <th>10</th>\n",
       "      <td>Cabin_F</td>\n",
       "      <td>0.003320</td>\n",
       "    </tr>\n",
       "    <tr>\n",
       "      <th>11</th>\n",
       "      <td>Cabin_G</td>\n",
       "      <td>0.002439</td>\n",
       "    </tr>\n",
       "    <tr>\n",
       "      <th>12</th>\n",
       "      <td>Cabin_T</td>\n",
       "      <td>0.000409</td>\n",
       "    </tr>\n",
       "  </tbody>\n",
       "</table>\n",
       "</div>"
      ],
      "text/plain": [
       "           Feature  Importance\n",
       "17        uncommon    0.150992\n",
       "1              Sex    0.141034\n",
       "2            SibSp    0.093021\n",
       "18     Fare_ranges    0.092252\n",
       "0           Pclass    0.072508\n",
       "15             Mrs    0.055609\n",
       "16              Mr    0.047278\n",
       "4        unk_Cabin    0.045780\n",
       "23  qbin_SexClass1    0.043013\n",
       "3            Parch    0.042508\n",
       "27      Age_ranges    0.038161\n",
       "9          Cabin_E    0.019591\n",
       "26  qbin_SexClass4    0.018895\n",
       "20       qbin_Age2    0.014168\n",
       "24  qbin_SexClass2    0.014063\n",
       "13          Master    0.013509\n",
       "21       qbin_Age3    0.013233\n",
       "25  qbin_SexClass3    0.012868\n",
       "8          Cabin_D    0.011361\n",
       "22       qbin_Age4    0.011352\n",
       "14            Miss    0.010653\n",
       "19       qbin_Age1    0.009122\n",
       "7          Cabin_C    0.009057\n",
       "6          Cabin_B    0.007282\n",
       "5          Cabin_A    0.006519\n",
       "10         Cabin_F    0.003320\n",
       "11         Cabin_G    0.002439\n",
       "12         Cabin_T    0.000409"
      ]
     },
     "execution_count": 146,
     "metadata": {},
     "output_type": "execute_result"
    }
   ],
   "source": [
    "importance_features = pd.DataFrame(\n",
    "    {\"Feature\": X_train.columns, \"Importance\": random_forest.feature_importances_}\n",
    "    ).sort_values(by=\"Importance\", ascending=False)\n",
    "importance_features"
   ]
  },
  {
   "cell_type": "markdown",
   "metadata": {},
   "source": [
    "### `Run the model on the TEST data`\n",
    "__Using the logistic regression model__"
   ]
  },
  {
   "cell_type": "code",
   "execution_count": 107,
   "metadata": {},
   "outputs": [
    {
     "name": "stdout",
     "output_type": "stream",
     "text": [
      "training score:  0.829\n",
      "test score    :  0.804\n"
     ]
    }
   ],
   "source": [
    "model.fit(X_train, y_train)\n",
    "print('training score: ', model.score(X_train, y_train).round(3))\n",
    "print('test score    : ', model.score(X_test, y_test).round(3))"
   ]
  },
  {
   "cell_type": "markdown",
   "metadata": {},
   "source": [
    "__Using the random forest model__"
   ]
  },
  {
   "cell_type": "code",
   "execution_count": 148,
   "metadata": {},
   "outputs": [
    {
     "name": "stdout",
     "output_type": "stream",
     "text": [
      "training score:  0.917\n",
      "test score    :  0.804\n"
     ]
    }
   ],
   "source": [
    "print('training score: ', rf_model.score(X_train, y_train).round(3))\n",
    "print('test score    : ', rf_model.score(X_test, y_test).round(3))"
   ]
  },
  {
   "cell_type": "markdown",
   "metadata": {},
   "source": [
    "### What would happen if the first 8 features are used instead for the random forest?\n",
    "__Answer:__ It is very likely that it will improve the cosnsitency betwween train and test"
   ]
  },
  {
   "cell_type": "code",
   "execution_count": 167,
   "metadata": {},
   "outputs": [],
   "source": [
    "best_8 = importance_features[\"Feature\"].values[:8]\n",
    "X_train2 = X_train[best_8] \n",
    "X_test2 = X_test[best_8]"
   ]
  },
  {
   "cell_type": "code",
   "execution_count": 168,
   "metadata": {},
   "outputs": [],
   "source": [
    "gridcv_res, random_forest_res, rf_model = hyperparam_optimization(X_train2, y_train)"
   ]
  },
  {
   "cell_type": "code",
   "execution_count": 169,
   "metadata": {},
   "outputs": [
    {
     "data": {
      "text/plain": [
       "85.53"
      ]
     },
     "execution_count": 169,
     "metadata": {},
     "output_type": "execute_result"
    }
   ],
   "source": [
    "random_forest_res"
   ]
  },
  {
   "cell_type": "code",
   "execution_count": 170,
   "metadata": {},
   "outputs": [
    {
     "name": "stdout",
     "output_type": "stream",
     "text": [
      "training score:  0.855\n",
      "test score    :  0.821\n"
     ]
    }
   ],
   "source": [
    "print('training score: ', rf_model.score(X_train2, y_train).round(3))\n",
    "print('test score    : ', rf_model.score(X_test2, y_test).round(3))"
   ]
  },
  {
   "cell_type": "markdown",
   "metadata": {},
   "source": [
    "## `Step 7: Run the model on the TEST data from kaggle`\n",
    "### Feature engineer the test data from kaggle"
   ]
  },
  {
   "cell_type": "code",
   "execution_count": 147,
   "metadata": {},
   "outputs": [
    {
     "data": {
      "text/html": [
       "<div>\n",
       "<style scoped>\n",
       "    .dataframe tbody tr th:only-of-type {\n",
       "        vertical-align: middle;\n",
       "    }\n",
       "\n",
       "    .dataframe tbody tr th {\n",
       "        vertical-align: top;\n",
       "    }\n",
       "\n",
       "    .dataframe thead th {\n",
       "        text-align: right;\n",
       "    }\n",
       "</style>\n",
       "<table border=\"1\" class=\"dataframe\">\n",
       "  <thead>\n",
       "    <tr style=\"text-align: right;\">\n",
       "      <th></th>\n",
       "      <th>PassengerId</th>\n",
       "      <th>Name</th>\n",
       "      <th>Age</th>\n",
       "      <th>Ticket</th>\n",
       "      <th>Fare</th>\n",
       "      <th>Cabin</th>\n",
       "      <th>Embarked</th>\n",
       "      <th>unk_Cabin</th>\n",
       "      <th>Cabin_A</th>\n",
       "      <th>Cabin_B</th>\n",
       "      <th>...</th>\n",
       "      <th>uncommon</th>\n",
       "      <th>Fare_ranges</th>\n",
       "      <th>qbin_Age1</th>\n",
       "      <th>qbin_Age3</th>\n",
       "      <th>qbin_Age4</th>\n",
       "      <th>int_Age*Pclass</th>\n",
       "      <th>qbin_SexClass1</th>\n",
       "      <th>qbin_SexClass2</th>\n",
       "      <th>qbin_SexClass3</th>\n",
       "      <th>qbin_SexClass4</th>\n",
       "    </tr>\n",
       "  </thead>\n",
       "  <tbody>\n",
       "    <tr>\n",
       "      <th>0</th>\n",
       "      <td>892</td>\n",
       "      <td>Mr</td>\n",
       "      <td>34.50000</td>\n",
       "      <td>330911</td>\n",
       "      <td>7.8292</td>\n",
       "      <td>0</td>\n",
       "      <td>2</td>\n",
       "      <td>1</td>\n",
       "      <td>0</td>\n",
       "      <td>0</td>\n",
       "      <td>...</td>\n",
       "      <td>1</td>\n",
       "      <td>0</td>\n",
       "      <td>0</td>\n",
       "      <td>1</td>\n",
       "      <td>0</td>\n",
       "      <td>103.500000</td>\n",
       "      <td>0</td>\n",
       "      <td>0</td>\n",
       "      <td>0</td>\n",
       "      <td>1</td>\n",
       "    </tr>\n",
       "    <tr>\n",
       "      <th>1</th>\n",
       "      <td>893</td>\n",
       "      <td>Mistress</td>\n",
       "      <td>47.00000</td>\n",
       "      <td>363272</td>\n",
       "      <td>7.0000</td>\n",
       "      <td>0</td>\n",
       "      <td>1</td>\n",
       "      <td>1</td>\n",
       "      <td>0</td>\n",
       "      <td>0</td>\n",
       "      <td>...</td>\n",
       "      <td>0</td>\n",
       "      <td>0</td>\n",
       "      <td>0</td>\n",
       "      <td>0</td>\n",
       "      <td>1</td>\n",
       "      <td>141.000000</td>\n",
       "      <td>0</td>\n",
       "      <td>0</td>\n",
       "      <td>0</td>\n",
       "      <td>1</td>\n",
       "    </tr>\n",
       "    <tr>\n",
       "      <th>2</th>\n",
       "      <td>894</td>\n",
       "      <td>Mr</td>\n",
       "      <td>62.00000</td>\n",
       "      <td>240276</td>\n",
       "      <td>9.6875</td>\n",
       "      <td>0</td>\n",
       "      <td>2</td>\n",
       "      <td>1</td>\n",
       "      <td>0</td>\n",
       "      <td>0</td>\n",
       "      <td>...</td>\n",
       "      <td>1</td>\n",
       "      <td>1</td>\n",
       "      <td>0</td>\n",
       "      <td>0</td>\n",
       "      <td>1</td>\n",
       "      <td>124.000000</td>\n",
       "      <td>0</td>\n",
       "      <td>0</td>\n",
       "      <td>0</td>\n",
       "      <td>1</td>\n",
       "    </tr>\n",
       "    <tr>\n",
       "      <th>3</th>\n",
       "      <td>895</td>\n",
       "      <td>Mr</td>\n",
       "      <td>27.00000</td>\n",
       "      <td>315154</td>\n",
       "      <td>8.6625</td>\n",
       "      <td>0</td>\n",
       "      <td>1</td>\n",
       "      <td>1</td>\n",
       "      <td>0</td>\n",
       "      <td>0</td>\n",
       "      <td>...</td>\n",
       "      <td>1</td>\n",
       "      <td>1</td>\n",
       "      <td>0</td>\n",
       "      <td>0</td>\n",
       "      <td>0</td>\n",
       "      <td>81.000000</td>\n",
       "      <td>0</td>\n",
       "      <td>0</td>\n",
       "      <td>1</td>\n",
       "      <td>0</td>\n",
       "    </tr>\n",
       "    <tr>\n",
       "      <th>4</th>\n",
       "      <td>896</td>\n",
       "      <td>Mistress</td>\n",
       "      <td>22.00000</td>\n",
       "      <td>3101298</td>\n",
       "      <td>12.2875</td>\n",
       "      <td>0</td>\n",
       "      <td>1</td>\n",
       "      <td>1</td>\n",
       "      <td>0</td>\n",
       "      <td>0</td>\n",
       "      <td>...</td>\n",
       "      <td>0</td>\n",
       "      <td>1</td>\n",
       "      <td>1</td>\n",
       "      <td>0</td>\n",
       "      <td>0</td>\n",
       "      <td>66.000000</td>\n",
       "      <td>0</td>\n",
       "      <td>0</td>\n",
       "      <td>1</td>\n",
       "      <td>0</td>\n",
       "    </tr>\n",
       "    <tr>\n",
       "      <th>...</th>\n",
       "      <td>...</td>\n",
       "      <td>...</td>\n",
       "      <td>...</td>\n",
       "      <td>...</td>\n",
       "      <td>...</td>\n",
       "      <td>...</td>\n",
       "      <td>...</td>\n",
       "      <td>...</td>\n",
       "      <td>...</td>\n",
       "      <td>...</td>\n",
       "      <td>...</td>\n",
       "      <td>...</td>\n",
       "      <td>...</td>\n",
       "      <td>...</td>\n",
       "      <td>...</td>\n",
       "      <td>...</td>\n",
       "      <td>...</td>\n",
       "      <td>...</td>\n",
       "      <td>...</td>\n",
       "      <td>...</td>\n",
       "      <td>...</td>\n",
       "    </tr>\n",
       "    <tr>\n",
       "      <th>413</th>\n",
       "      <td>1305</td>\n",
       "      <td>Mr</td>\n",
       "      <td>30.27259</td>\n",
       "      <td>A.5. 3236</td>\n",
       "      <td>8.0500</td>\n",
       "      <td>0</td>\n",
       "      <td>1</td>\n",
       "      <td>1</td>\n",
       "      <td>0</td>\n",
       "      <td>0</td>\n",
       "      <td>...</td>\n",
       "      <td>1</td>\n",
       "      <td>1</td>\n",
       "      <td>0</td>\n",
       "      <td>0</td>\n",
       "      <td>0</td>\n",
       "      <td>90.817771</td>\n",
       "      <td>0</td>\n",
       "      <td>0</td>\n",
       "      <td>1</td>\n",
       "      <td>0</td>\n",
       "    </tr>\n",
       "    <tr>\n",
       "      <th>414</th>\n",
       "      <td>1306</td>\n",
       "      <td>0</td>\n",
       "      <td>39.00000</td>\n",
       "      <td>PC 17758</td>\n",
       "      <td>108.9000</td>\n",
       "      <td>C</td>\n",
       "      <td>0</td>\n",
       "      <td>0</td>\n",
       "      <td>0</td>\n",
       "      <td>0</td>\n",
       "      <td>...</td>\n",
       "      <td>0</td>\n",
       "      <td>4</td>\n",
       "      <td>0</td>\n",
       "      <td>0</td>\n",
       "      <td>1</td>\n",
       "      <td>39.000000</td>\n",
       "      <td>1</td>\n",
       "      <td>0</td>\n",
       "      <td>0</td>\n",
       "      <td>0</td>\n",
       "    </tr>\n",
       "    <tr>\n",
       "      <th>415</th>\n",
       "      <td>1307</td>\n",
       "      <td>Mr</td>\n",
       "      <td>38.50000</td>\n",
       "      <td>SOTON/O.Q. 3101262</td>\n",
       "      <td>7.2500</td>\n",
       "      <td>0</td>\n",
       "      <td>1</td>\n",
       "      <td>1</td>\n",
       "      <td>0</td>\n",
       "      <td>0</td>\n",
       "      <td>...</td>\n",
       "      <td>1</td>\n",
       "      <td>0</td>\n",
       "      <td>0</td>\n",
       "      <td>0</td>\n",
       "      <td>1</td>\n",
       "      <td>115.500000</td>\n",
       "      <td>0</td>\n",
       "      <td>0</td>\n",
       "      <td>0</td>\n",
       "      <td>1</td>\n",
       "    </tr>\n",
       "    <tr>\n",
       "      <th>416</th>\n",
       "      <td>1308</td>\n",
       "      <td>Mr</td>\n",
       "      <td>30.27259</td>\n",
       "      <td>359309</td>\n",
       "      <td>8.0500</td>\n",
       "      <td>0</td>\n",
       "      <td>1</td>\n",
       "      <td>1</td>\n",
       "      <td>0</td>\n",
       "      <td>0</td>\n",
       "      <td>...</td>\n",
       "      <td>1</td>\n",
       "      <td>1</td>\n",
       "      <td>0</td>\n",
       "      <td>0</td>\n",
       "      <td>0</td>\n",
       "      <td>90.817771</td>\n",
       "      <td>0</td>\n",
       "      <td>0</td>\n",
       "      <td>1</td>\n",
       "      <td>0</td>\n",
       "    </tr>\n",
       "    <tr>\n",
       "      <th>417</th>\n",
       "      <td>1309</td>\n",
       "      <td>Master</td>\n",
       "      <td>30.27259</td>\n",
       "      <td>2668</td>\n",
       "      <td>22.3583</td>\n",
       "      <td>0</td>\n",
       "      <td>0</td>\n",
       "      <td>1</td>\n",
       "      <td>0</td>\n",
       "      <td>0</td>\n",
       "      <td>...</td>\n",
       "      <td>0</td>\n",
       "      <td>2</td>\n",
       "      <td>0</td>\n",
       "      <td>0</td>\n",
       "      <td>0</td>\n",
       "      <td>90.817771</td>\n",
       "      <td>0</td>\n",
       "      <td>0</td>\n",
       "      <td>1</td>\n",
       "      <td>0</td>\n",
       "    </tr>\n",
       "  </tbody>\n",
       "</table>\n",
       "<p>418 rows × 26 columns</p>\n",
       "</div>"
      ],
      "text/plain": [
       "     PassengerId      Name       Age              Ticket      Fare Cabin  \\\n",
       "0            892        Mr  34.50000              330911    7.8292     0   \n",
       "1            893  Mistress  47.00000              363272    7.0000     0   \n",
       "2            894        Mr  62.00000              240276    9.6875     0   \n",
       "3            895        Mr  27.00000              315154    8.6625     0   \n",
       "4            896  Mistress  22.00000             3101298   12.2875     0   \n",
       "..           ...       ...       ...                 ...       ...   ...   \n",
       "413         1305        Mr  30.27259           A.5. 3236    8.0500     0   \n",
       "414         1306         0  39.00000            PC 17758  108.9000     C   \n",
       "415         1307        Mr  38.50000  SOTON/O.Q. 3101262    7.2500     0   \n",
       "416         1308        Mr  30.27259              359309    8.0500     0   \n",
       "417         1309    Master  30.27259                2668   22.3583     0   \n",
       "\n",
       "     Embarked  unk_Cabin  Cabin_A  Cabin_B  ...  uncommon  Fare_ranges  \\\n",
       "0           2          1        0        0  ...         1            0   \n",
       "1           1          1        0        0  ...         0            0   \n",
       "2           2          1        0        0  ...         1            1   \n",
       "3           1          1        0        0  ...         1            1   \n",
       "4           1          1        0        0  ...         0            1   \n",
       "..        ...        ...      ...      ...  ...       ...          ...   \n",
       "413         1          1        0        0  ...         1            1   \n",
       "414         0          0        0        0  ...         0            4   \n",
       "415         1          1        0        0  ...         1            0   \n",
       "416         1          1        0        0  ...         1            1   \n",
       "417         0          1        0        0  ...         0            2   \n",
       "\n",
       "     qbin_Age1  qbin_Age3  qbin_Age4  int_Age*Pclass  qbin_SexClass1  \\\n",
       "0            0          1          0      103.500000               0   \n",
       "1            0          0          1      141.000000               0   \n",
       "2            0          0          1      124.000000               0   \n",
       "3            0          0          0       81.000000               0   \n",
       "4            1          0          0       66.000000               0   \n",
       "..         ...        ...        ...             ...             ...   \n",
       "413          0          0          0       90.817771               0   \n",
       "414          0          0          1       39.000000               1   \n",
       "415          0          0          1      115.500000               0   \n",
       "416          0          0          0       90.817771               0   \n",
       "417          0          0          0       90.817771               0   \n",
       "\n",
       "    qbin_SexClass2  qbin_SexClass3  qbin_SexClass4  \n",
       "0                0               0               1  \n",
       "1                0               0               1  \n",
       "2                0               0               1  \n",
       "3                0               1               0  \n",
       "4                0               1               0  \n",
       "..             ...             ...             ...  \n",
       "413              0               1               0  \n",
       "414              0               0               0  \n",
       "415              0               0               1  \n",
       "416              0               1               0  \n",
       "417              0               1               0  \n",
       "\n",
       "[418 rows x 26 columns]"
      ]
     },
     "execution_count": 147,
     "metadata": {},
     "output_type": "execute_result"
    }
   ],
   "source": [
    "pred  = pd.read_csv('../data/test.csv')\n",
    "pred = cabin_names(pred, \"test\")\n",
    "pred =  name_to_titles(pred)\n",
    "pred, pred_bins_fares = fares(pred)\n",
    "pred =  gender(pred)\n",
    "pred =  ages(pred)\n",
    "pred =  age_per_class(pred, pred_bins_fares)\n",
    "columns = [ 'Mrs', 'Miss', 'Age_ranges', 'Pclass', 'Sex', 'SibSp', 'qbin_Age2', 'Parch', 'Cabin_C']\n",
    "pred =  clear_engineer(pred, columns, \"test\")\n",
    "pred"
   ]
  },
  {
   "cell_type": "code",
   "execution_count": null,
   "metadata": {},
   "outputs": [],
   "source": []
  }
 ],
 "metadata": {
  "kernelspec": {
   "display_name": "Python 3",
   "language": "python",
   "name": "python3"
  },
  "language_info": {
   "codemirror_mode": {
    "name": "ipython",
    "version": 3
   },
   "file_extension": ".py",
   "mimetype": "text/x-python",
   "name": "python",
   "nbconvert_exporter": "python",
   "pygments_lexer": "ipython3",
   "version": "3.8.3"
  }
 },
 "nbformat": 4,
 "nbformat_minor": 4
}

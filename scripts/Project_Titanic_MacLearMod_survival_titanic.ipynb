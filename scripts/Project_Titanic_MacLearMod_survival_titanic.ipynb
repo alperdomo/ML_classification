{
 "cells": [
  {
   "cell_type": "markdown",
   "metadata": {},
   "source": [
    "#  Machine learning model to predict passenger survival on the Titanic"
   ]
  },
  {
   "cell_type": "markdown",
   "metadata": {},
   "source": [
    "## `Step 1: Get the data`"
   ]
  },
  {
   "cell_type": "code",
   "execution_count": 1,
   "metadata": {
    "scrolled": true
   },
   "outputs": [
    {
     "data": {
      "text/plain": [
       "(891, 12)"
      ]
     },
     "execution_count": 1,
     "metadata": {},
     "output_type": "execute_result"
    }
   ],
   "source": [
    "import pandas as pd\n",
    "import numpy as np\n",
    "%matplotlib inline \n",
    "\n",
    "data = pd.read_csv('../data/train.csv')\n",
    "data.shape"
   ]
  },
  {
   "cell_type": "markdown",
   "metadata": {},
   "source": [
    "## `Step 2: Exploratory data analysis` \n",
    "This step is in an additional notebook: __Exploratory_Data_Analysis_Titanic.ipynb__"
   ]
  },
  {
   "cell_type": "markdown",
   "metadata": {},
   "source": [
    "## `Step 3. Feature engineering`\n",
    "\n",
    "Using **feature engineering** approaches make the data easy to understand for a model. \n",
    "Variables that may properly describing your model and fitting to the data. \n"
   ]
  },
  {
   "cell_type": "code",
   "execution_count": 2,
   "metadata": {
    "scrolled": true
   },
   "outputs": [
    {
     "data": {
      "text/html": [
       "<div>\n",
       "<style scoped>\n",
       "    .dataframe tbody tr th:only-of-type {\n",
       "        vertical-align: middle;\n",
       "    }\n",
       "\n",
       "    .dataframe tbody tr th {\n",
       "        vertical-align: top;\n",
       "    }\n",
       "\n",
       "    .dataframe thead th {\n",
       "        text-align: right;\n",
       "    }\n",
       "</style>\n",
       "<table border=\"1\" class=\"dataframe\">\n",
       "  <thead>\n",
       "    <tr style=\"text-align: right;\">\n",
       "      <th></th>\n",
       "      <th>PassengerId</th>\n",
       "      <th>Survived</th>\n",
       "      <th>Pclass</th>\n",
       "      <th>Name</th>\n",
       "      <th>Sex</th>\n",
       "      <th>Age</th>\n",
       "      <th>SibSp</th>\n",
       "      <th>Parch</th>\n",
       "      <th>Ticket</th>\n",
       "      <th>Fare</th>\n",
       "      <th>Cabin</th>\n",
       "      <th>Embarked</th>\n",
       "    </tr>\n",
       "  </thead>\n",
       "  <tbody>\n",
       "    <tr>\n",
       "      <th>0</th>\n",
       "      <td>1</td>\n",
       "      <td>0</td>\n",
       "      <td>3</td>\n",
       "      <td>Braund, Mr. Owen Harris</td>\n",
       "      <td>male</td>\n",
       "      <td>22.0</td>\n",
       "      <td>1</td>\n",
       "      <td>0</td>\n",
       "      <td>A/5 21171</td>\n",
       "      <td>7.2500</td>\n",
       "      <td>NaN</td>\n",
       "      <td>S</td>\n",
       "    </tr>\n",
       "    <tr>\n",
       "      <th>1</th>\n",
       "      <td>2</td>\n",
       "      <td>1</td>\n",
       "      <td>1</td>\n",
       "      <td>Cumings, Mrs. John Bradley (Florence Briggs Th...</td>\n",
       "      <td>female</td>\n",
       "      <td>38.0</td>\n",
       "      <td>1</td>\n",
       "      <td>0</td>\n",
       "      <td>PC 17599</td>\n",
       "      <td>71.2833</td>\n",
       "      <td>C85</td>\n",
       "      <td>C</td>\n",
       "    </tr>\n",
       "    <tr>\n",
       "      <th>2</th>\n",
       "      <td>3</td>\n",
       "      <td>1</td>\n",
       "      <td>3</td>\n",
       "      <td>Heikkinen, Miss. Laina</td>\n",
       "      <td>female</td>\n",
       "      <td>26.0</td>\n",
       "      <td>0</td>\n",
       "      <td>0</td>\n",
       "      <td>STON/O2. 3101282</td>\n",
       "      <td>7.9250</td>\n",
       "      <td>NaN</td>\n",
       "      <td>S</td>\n",
       "    </tr>\n",
       "  </tbody>\n",
       "</table>\n",
       "</div>"
      ],
      "text/plain": [
       "   PassengerId  Survived  Pclass  \\\n",
       "0            1         0       3   \n",
       "1            2         1       1   \n",
       "2            3         1       3   \n",
       "\n",
       "                                                Name     Sex   Age  SibSp  \\\n",
       "0                            Braund, Mr. Owen Harris    male  22.0      1   \n",
       "1  Cumings, Mrs. John Bradley (Florence Briggs Th...  female  38.0      1   \n",
       "2                             Heikkinen, Miss. Laina  female  26.0      0   \n",
       "\n",
       "   Parch            Ticket     Fare Cabin Embarked  \n",
       "0      0         A/5 21171   7.2500   NaN        S  \n",
       "1      0          PC 17599  71.2833   C85        C  \n",
       "2      0  STON/O2. 3101282   7.9250   NaN        S  "
      ]
     },
     "execution_count": 2,
     "metadata": {},
     "output_type": "execute_result"
    }
   ],
   "source": [
    "data.head(3)"
   ]
  },
  {
   "cell_type": "markdown",
   "metadata": {},
   "source": [
    "### 3.1 One hot encoded features\n",
    "* who (title)\n",
    "* embarked\n",
    "* Cabin"
   ]
  },
  {
   "cell_type": "code",
   "execution_count": 3,
   "metadata": {
    "scrolled": true
   },
   "outputs": [],
   "source": [
    "def cabin_names(dataframe, data_type):\n",
    "    \"\"\"\n",
    "    Hoteconodes the cabin names\n",
    "\n",
    "    Parameters:\n",
    "    dataframe: Data from the Titanic dataset. Either training or test data\n",
    "    data_type: training set, testing set\n",
    "    ----------\n",
    "    \"\"\"\n",
    "\n",
    "    dataframe['Embarked'] = dataframe['Embarked'].replace(to_replace = 'C',\n",
    "                            value = int(0), regex =True)\n",
    "    dataframe['Embarked'] = dataframe['Embarked'].replace(to_replace = 'S',\n",
    "                            value = int(1), regex =True)\n",
    "    dataframe['Embarked'] = dataframe['Embarked'].replace(to_replace = 'Q',\n",
    "                            value = int(2), regex =True)\n",
    "    dataframe['Cabin'] = dataframe['Cabin'].fillna(0).astype(str).str[0]\n",
    "    onehot = pd.get_dummies(dataframe['Cabin'])\n",
    "    if data_type == \"training\":\n",
    "        onehot.columns = ['unk_Cabin', 'Cabin_A','Cabin_B','Cabin_C', \\\n",
    "                          'Cabin_D', 'Cabin_E', 'Cabin_F','Cabin_G', 'Cabin_T']\n",
    "        dataframe = pd.concat([dataframe, onehot], axis = 1)\n",
    "    else:\n",
    "        onehot.columns = ['unk_Cabin', 'Cabin_A','Cabin_B','Cabin_C', \\\n",
    "                          'Cabin_D', 'Cabin_E', 'Cabin_F','Cabin_G']\n",
    "        dataframe = pd.concat([dataframe, onehot], axis = 1)\n",
    "    return dataframe"
   ]
  },
  {
   "cell_type": "code",
   "execution_count": 4,
   "metadata": {
    "scrolled": true
   },
   "outputs": [
    {
     "data": {
      "text/html": [
       "<div>\n",
       "<style scoped>\n",
       "    .dataframe tbody tr th:only-of-type {\n",
       "        vertical-align: middle;\n",
       "    }\n",
       "\n",
       "    .dataframe tbody tr th {\n",
       "        vertical-align: top;\n",
       "    }\n",
       "\n",
       "    .dataframe thead th {\n",
       "        text-align: right;\n",
       "    }\n",
       "</style>\n",
       "<table border=\"1\" class=\"dataframe\">\n",
       "  <thead>\n",
       "    <tr style=\"text-align: right;\">\n",
       "      <th></th>\n",
       "      <th>PassengerId</th>\n",
       "      <th>Survived</th>\n",
       "      <th>Pclass</th>\n",
       "      <th>Name</th>\n",
       "      <th>Sex</th>\n",
       "      <th>Age</th>\n",
       "      <th>SibSp</th>\n",
       "      <th>Parch</th>\n",
       "      <th>Ticket</th>\n",
       "      <th>Fare</th>\n",
       "      <th>...</th>\n",
       "      <th>Embarked</th>\n",
       "      <th>unk_Cabin</th>\n",
       "      <th>Cabin_A</th>\n",
       "      <th>Cabin_B</th>\n",
       "      <th>Cabin_C</th>\n",
       "      <th>Cabin_D</th>\n",
       "      <th>Cabin_E</th>\n",
       "      <th>Cabin_F</th>\n",
       "      <th>Cabin_G</th>\n",
       "      <th>Cabin_T</th>\n",
       "    </tr>\n",
       "  </thead>\n",
       "  <tbody>\n",
       "    <tr>\n",
       "      <th>0</th>\n",
       "      <td>1</td>\n",
       "      <td>0</td>\n",
       "      <td>3</td>\n",
       "      <td>Braund, Mr. Owen Harris</td>\n",
       "      <td>male</td>\n",
       "      <td>22.0</td>\n",
       "      <td>1</td>\n",
       "      <td>0</td>\n",
       "      <td>A/5 21171</td>\n",
       "      <td>7.2500</td>\n",
       "      <td>...</td>\n",
       "      <td>1.0</td>\n",
       "      <td>1</td>\n",
       "      <td>0</td>\n",
       "      <td>0</td>\n",
       "      <td>0</td>\n",
       "      <td>0</td>\n",
       "      <td>0</td>\n",
       "      <td>0</td>\n",
       "      <td>0</td>\n",
       "      <td>0</td>\n",
       "    </tr>\n",
       "    <tr>\n",
       "      <th>1</th>\n",
       "      <td>2</td>\n",
       "      <td>1</td>\n",
       "      <td>1</td>\n",
       "      <td>Cumings, Mrs. John Bradley (Florence Briggs Th...</td>\n",
       "      <td>female</td>\n",
       "      <td>38.0</td>\n",
       "      <td>1</td>\n",
       "      <td>0</td>\n",
       "      <td>PC 17599</td>\n",
       "      <td>71.2833</td>\n",
       "      <td>...</td>\n",
       "      <td>0.0</td>\n",
       "      <td>0</td>\n",
       "      <td>0</td>\n",
       "      <td>0</td>\n",
       "      <td>1</td>\n",
       "      <td>0</td>\n",
       "      <td>0</td>\n",
       "      <td>0</td>\n",
       "      <td>0</td>\n",
       "      <td>0</td>\n",
       "    </tr>\n",
       "    <tr>\n",
       "      <th>2</th>\n",
       "      <td>3</td>\n",
       "      <td>1</td>\n",
       "      <td>3</td>\n",
       "      <td>Heikkinen, Miss. Laina</td>\n",
       "      <td>female</td>\n",
       "      <td>26.0</td>\n",
       "      <td>0</td>\n",
       "      <td>0</td>\n",
       "      <td>STON/O2. 3101282</td>\n",
       "      <td>7.9250</td>\n",
       "      <td>...</td>\n",
       "      <td>1.0</td>\n",
       "      <td>1</td>\n",
       "      <td>0</td>\n",
       "      <td>0</td>\n",
       "      <td>0</td>\n",
       "      <td>0</td>\n",
       "      <td>0</td>\n",
       "      <td>0</td>\n",
       "      <td>0</td>\n",
       "      <td>0</td>\n",
       "    </tr>\n",
       "  </tbody>\n",
       "</table>\n",
       "<p>3 rows × 21 columns</p>\n",
       "</div>"
      ],
      "text/plain": [
       "   PassengerId  Survived  Pclass  \\\n",
       "0            1         0       3   \n",
       "1            2         1       1   \n",
       "2            3         1       3   \n",
       "\n",
       "                                                Name     Sex   Age  SibSp  \\\n",
       "0                            Braund, Mr. Owen Harris    male  22.0      1   \n",
       "1  Cumings, Mrs. John Bradley (Florence Briggs Th...  female  38.0      1   \n",
       "2                             Heikkinen, Miss. Laina  female  26.0      0   \n",
       "\n",
       "   Parch            Ticket     Fare  ... Embarked  unk_Cabin  Cabin_A  \\\n",
       "0      0         A/5 21171   7.2500  ...      1.0          1        0   \n",
       "1      0          PC 17599  71.2833  ...      0.0          0        0   \n",
       "2      0  STON/O2. 3101282   7.9250  ...      1.0          1        0   \n",
       "\n",
       "   Cabin_B  Cabin_C  Cabin_D  Cabin_E  Cabin_F  Cabin_G  Cabin_T  \n",
       "0        0        0        0        0        0        0        0  \n",
       "1        0        1        0        0        0        0        0  \n",
       "2        0        0        0        0        0        0        0  \n",
       "\n",
       "[3 rows x 21 columns]"
      ]
     },
     "execution_count": 4,
     "metadata": {},
     "output_type": "execute_result"
    }
   ],
   "source": [
    "data = cabin_names(data, \"training\")\n",
    "data.head(3)"
   ]
  },
  {
   "cell_type": "code",
   "execution_count": 5,
   "metadata": {
    "scrolled": true
   },
   "outputs": [],
   "source": [
    "\n",
    "def name_to_titles(dataframe):\n",
    "    \"\"\"\n",
    "    Hotecondes names of passengers to only their title\n",
    "\n",
    "    Parameters:\n",
    "    ----------\n",
    "    dataframe: training dataset Titanic\n",
    "    \"\"\"\n",
    "    dataframe['Name'] = dataframe['Name'].replace(to_replace = ['\\.*.*Capt.*',\n",
    "                        '\\.*.*Countess.*',  '\\.*.*Lady.*', '\\.*.*Col.*',\n",
    "                        '\\.*.*Dr.*', '\\.*.*Don.*', '\\.*.*Major.*',\n",
    "                        '\\.*.*Sir.*', '\\.*.*Dona.*', '\\.*.*Jonkheer.*',\n",
    "                        '\\.*.*Rev.*'], value = 0, regex = True)\n",
    "    dataframe['Name'] = dataframe['Name'].replace(to_replace = ['\\.*.*Mlle.*',\n",
    "                        '\\.*.*Mlle.*'], value = 'Miss', regex=True)\n",
    "    dataframe['Name'] = dataframe['Name'].replace(to_replace = ['\\.*.*Miss.*',\n",
    "                        '\\.*.*Miss.*'], value = 'Miss', regex=True)\n",
    "    dataframe['Name'] = dataframe['Name'].replace(to_replace = ['\\.*.*Ms.*',\n",
    "                        '\\.*.*Miss.*'], value = 'Miss', regex=True)\n",
    "    dataframe['Name'] = dataframe['Name'].replace(to_replace = '\\.*.*Mme.*',\n",
    "                        value = 'Mistress', regex=True)\n",
    "    dataframe['Name'] = dataframe['Name'].replace(to_replace = '\\.*.*Mrs.*',\n",
    "                        value = 'Mistress', regex=True)\n",
    "    dataframe['Name'] = dataframe['Name'].replace(to_replace = '\\.*.*Master.*',\n",
    "                        value = 'Master', regex=True)\n",
    "    dataframe['Name'] = dataframe['Name'].replace(to_replace = '\\.*.*Mr. .*',\n",
    "                        value = 'Mr', regex=True)\n",
    "    dataframe['Name'] = dataframe['Name'].fillna('uncommon')\n",
    "    onehot = pd.get_dummies(dataframe['Name'])\n",
    "    onehot.columns=['Master', 'Miss','Mrs','Mr','uncommon']\n",
    "    dataframe = pd.concat([dataframe, onehot], axis = 1)\n",
    "    return dataframe\n"
   ]
  },
  {
   "cell_type": "code",
   "execution_count": 6,
   "metadata": {},
   "outputs": [
    {
     "data": {
      "text/html": [
       "<div>\n",
       "<style scoped>\n",
       "    .dataframe tbody tr th:only-of-type {\n",
       "        vertical-align: middle;\n",
       "    }\n",
       "\n",
       "    .dataframe tbody tr th {\n",
       "        vertical-align: top;\n",
       "    }\n",
       "\n",
       "    .dataframe thead th {\n",
       "        text-align: right;\n",
       "    }\n",
       "</style>\n",
       "<table border=\"1\" class=\"dataframe\">\n",
       "  <thead>\n",
       "    <tr style=\"text-align: right;\">\n",
       "      <th></th>\n",
       "      <th>PassengerId</th>\n",
       "      <th>Survived</th>\n",
       "      <th>Pclass</th>\n",
       "      <th>Name</th>\n",
       "      <th>Sex</th>\n",
       "      <th>Age</th>\n",
       "      <th>SibSp</th>\n",
       "      <th>Parch</th>\n",
       "      <th>Ticket</th>\n",
       "      <th>Fare</th>\n",
       "      <th>...</th>\n",
       "      <th>Cabin_D</th>\n",
       "      <th>Cabin_E</th>\n",
       "      <th>Cabin_F</th>\n",
       "      <th>Cabin_G</th>\n",
       "      <th>Cabin_T</th>\n",
       "      <th>Master</th>\n",
       "      <th>Miss</th>\n",
       "      <th>Mrs</th>\n",
       "      <th>Mr</th>\n",
       "      <th>uncommon</th>\n",
       "    </tr>\n",
       "  </thead>\n",
       "  <tbody>\n",
       "    <tr>\n",
       "      <th>0</th>\n",
       "      <td>1</td>\n",
       "      <td>0</td>\n",
       "      <td>3</td>\n",
       "      <td>Mr</td>\n",
       "      <td>male</td>\n",
       "      <td>22.0</td>\n",
       "      <td>1</td>\n",
       "      <td>0</td>\n",
       "      <td>A/5 21171</td>\n",
       "      <td>7.2500</td>\n",
       "      <td>...</td>\n",
       "      <td>0</td>\n",
       "      <td>0</td>\n",
       "      <td>0</td>\n",
       "      <td>0</td>\n",
       "      <td>0</td>\n",
       "      <td>0</td>\n",
       "      <td>0</td>\n",
       "      <td>0</td>\n",
       "      <td>0</td>\n",
       "      <td>1</td>\n",
       "    </tr>\n",
       "    <tr>\n",
       "      <th>1</th>\n",
       "      <td>2</td>\n",
       "      <td>1</td>\n",
       "      <td>1</td>\n",
       "      <td>Mistress</td>\n",
       "      <td>female</td>\n",
       "      <td>38.0</td>\n",
       "      <td>1</td>\n",
       "      <td>0</td>\n",
       "      <td>PC 17599</td>\n",
       "      <td>71.2833</td>\n",
       "      <td>...</td>\n",
       "      <td>0</td>\n",
       "      <td>0</td>\n",
       "      <td>0</td>\n",
       "      <td>0</td>\n",
       "      <td>0</td>\n",
       "      <td>0</td>\n",
       "      <td>0</td>\n",
       "      <td>0</td>\n",
       "      <td>1</td>\n",
       "      <td>0</td>\n",
       "    </tr>\n",
       "    <tr>\n",
       "      <th>2</th>\n",
       "      <td>3</td>\n",
       "      <td>1</td>\n",
       "      <td>3</td>\n",
       "      <td>Miss</td>\n",
       "      <td>female</td>\n",
       "      <td>26.0</td>\n",
       "      <td>0</td>\n",
       "      <td>0</td>\n",
       "      <td>STON/O2. 3101282</td>\n",
       "      <td>7.9250</td>\n",
       "      <td>...</td>\n",
       "      <td>0</td>\n",
       "      <td>0</td>\n",
       "      <td>0</td>\n",
       "      <td>0</td>\n",
       "      <td>0</td>\n",
       "      <td>0</td>\n",
       "      <td>0</td>\n",
       "      <td>1</td>\n",
       "      <td>0</td>\n",
       "      <td>0</td>\n",
       "    </tr>\n",
       "  </tbody>\n",
       "</table>\n",
       "<p>3 rows × 26 columns</p>\n",
       "</div>"
      ],
      "text/plain": [
       "   PassengerId  Survived  Pclass      Name     Sex   Age  SibSp  Parch  \\\n",
       "0            1         0       3        Mr    male  22.0      1      0   \n",
       "1            2         1       1  Mistress  female  38.0      1      0   \n",
       "2            3         1       3      Miss  female  26.0      0      0   \n",
       "\n",
       "             Ticket     Fare  ... Cabin_D  Cabin_E  Cabin_F  Cabin_G  Cabin_T  \\\n",
       "0         A/5 21171   7.2500  ...       0        0        0        0        0   \n",
       "1          PC 17599  71.2833  ...       0        0        0        0        0   \n",
       "2  STON/O2. 3101282   7.9250  ...       0        0        0        0        0   \n",
       "\n",
       "   Master  Miss  Mrs  Mr  uncommon  \n",
       "0       0     0    0   0         1  \n",
       "1       0     0    0   1         0  \n",
       "2       0     0    1   0         0  \n",
       "\n",
       "[3 rows x 26 columns]"
      ]
     },
     "execution_count": 6,
     "metadata": {},
     "output_type": "execute_result"
    }
   ],
   "source": [
    "data = name_to_titles(data)\n",
    "data.head(3)"
   ]
  },
  {
   "cell_type": "code",
   "execution_count": 7,
   "metadata": {
    "scrolled": true
   },
   "outputs": [
    {
     "data": {
      "image/png": "[encoded data removed]",
      "text/plain": [
       "<Figure size 864x576 with 1 Axes>"
      ]
     },
     "metadata": {
      "needs_background": "light"
     },
     "output_type": "display_data"
    }
   ],
   "source": [
    "# Plot the distribution of titles into survide and dead categories \n",
    "def plot_distribution_titles(dataframe):\n",
    "    \"\"\"\n",
    "    Plot the distribution of passengers based on their title\n",
    "\n",
    "    Parameters:\n",
    "    ----------\n",
    "    dataframe: training dataset Titanic with the names modified to titles\n",
    "    \"\"\"\n",
    "    data = dataframe.groupby(['Survived', 'Name'])[['Name']].count().unstack()\n",
    "    data.plot.bar(figsize = (12, 8))\n",
    "plot_distribution_titles(data)\n"
   ]
  },
  {
   "cell_type": "markdown",
   "metadata": {},
   "source": [
    "### 3.2. Binning\n",
    "* fares (custom)\n",
    "* age (qbins)"
   ]
  },
  {
   "cell_type": "code",
   "execution_count": 8,
   "metadata": {},
   "outputs": [],
   "source": [
    "# Fares\n",
    "def fares(dataframe):\n",
    "    \"\"\"\n",
    "    Hotecondes the fares into five different groups\n",
    "\n",
    "    Parameters:\n",
    "    ----------\n",
    "    dataframe: training dataset Titanic\n",
    "    \"\"\"\n",
    "    bins_fares = [-1, 7.92, 14.5, 32, 100, np.inf]\n",
    "    names_fares = [0, 1, 2, 3, 4]\n",
    "    dataframe['Fare_ranges'] = pd.cut(dataframe['Fare'], bins_fares,\n",
    "                               labels = names_fares)\n",
    "    dataframe['Fare_ranges'] = dataframe['Fare_ranges'].fillna(0) \n",
    "\n",
    "    return dataframe, bins_fares\n"
   ]
  },
  {
   "cell_type": "code",
   "execution_count": 9,
   "metadata": {},
   "outputs": [
    {
     "data": {
      "text/html": [
       "<div>\n",
       "<style scoped>\n",
       "    .dataframe tbody tr th:only-of-type {\n",
       "        vertical-align: middle;\n",
       "    }\n",
       "\n",
       "    .dataframe tbody tr th {\n",
       "        vertical-align: top;\n",
       "    }\n",
       "\n",
       "    .dataframe thead th {\n",
       "        text-align: right;\n",
       "    }\n",
       "</style>\n",
       "<table border=\"1\" class=\"dataframe\">\n",
       "  <thead>\n",
       "    <tr style=\"text-align: right;\">\n",
       "      <th></th>\n",
       "      <th>PassengerId</th>\n",
       "      <th>Survived</th>\n",
       "      <th>Pclass</th>\n",
       "      <th>Name</th>\n",
       "      <th>Sex</th>\n",
       "      <th>Age</th>\n",
       "      <th>SibSp</th>\n",
       "      <th>Parch</th>\n",
       "      <th>Ticket</th>\n",
       "      <th>Fare</th>\n",
       "      <th>...</th>\n",
       "      <th>Cabin_E</th>\n",
       "      <th>Cabin_F</th>\n",
       "      <th>Cabin_G</th>\n",
       "      <th>Cabin_T</th>\n",
       "      <th>Master</th>\n",
       "      <th>Miss</th>\n",
       "      <th>Mrs</th>\n",
       "      <th>Mr</th>\n",
       "      <th>uncommon</th>\n",
       "      <th>Fare_ranges</th>\n",
       "    </tr>\n",
       "  </thead>\n",
       "  <tbody>\n",
       "    <tr>\n",
       "      <th>0</th>\n",
       "      <td>1</td>\n",
       "      <td>0</td>\n",
       "      <td>3</td>\n",
       "      <td>Mr</td>\n",
       "      <td>male</td>\n",
       "      <td>22.0</td>\n",
       "      <td>1</td>\n",
       "      <td>0</td>\n",
       "      <td>A/5 21171</td>\n",
       "      <td>7.2500</td>\n",
       "      <td>...</td>\n",
       "      <td>0</td>\n",
       "      <td>0</td>\n",
       "      <td>0</td>\n",
       "      <td>0</td>\n",
       "      <td>0</td>\n",
       "      <td>0</td>\n",
       "      <td>0</td>\n",
       "      <td>0</td>\n",
       "      <td>1</td>\n",
       "      <td>0</td>\n",
       "    </tr>\n",
       "    <tr>\n",
       "      <th>1</th>\n",
       "      <td>2</td>\n",
       "      <td>1</td>\n",
       "      <td>1</td>\n",
       "      <td>Mistress</td>\n",
       "      <td>female</td>\n",
       "      <td>38.0</td>\n",
       "      <td>1</td>\n",
       "      <td>0</td>\n",
       "      <td>PC 17599</td>\n",
       "      <td>71.2833</td>\n",
       "      <td>...</td>\n",
       "      <td>0</td>\n",
       "      <td>0</td>\n",
       "      <td>0</td>\n",
       "      <td>0</td>\n",
       "      <td>0</td>\n",
       "      <td>0</td>\n",
       "      <td>0</td>\n",
       "      <td>1</td>\n",
       "      <td>0</td>\n",
       "      <td>3</td>\n",
       "    </tr>\n",
       "    <tr>\n",
       "      <th>2</th>\n",
       "      <td>3</td>\n",
       "      <td>1</td>\n",
       "      <td>3</td>\n",
       "      <td>Miss</td>\n",
       "      <td>female</td>\n",
       "      <td>26.0</td>\n",
       "      <td>0</td>\n",
       "      <td>0</td>\n",
       "      <td>STON/O2. 3101282</td>\n",
       "      <td>7.9250</td>\n",
       "      <td>...</td>\n",
       "      <td>0</td>\n",
       "      <td>0</td>\n",
       "      <td>0</td>\n",
       "      <td>0</td>\n",
       "      <td>0</td>\n",
       "      <td>0</td>\n",
       "      <td>1</td>\n",
       "      <td>0</td>\n",
       "      <td>0</td>\n",
       "      <td>1</td>\n",
       "    </tr>\n",
       "  </tbody>\n",
       "</table>\n",
       "<p>3 rows × 27 columns</p>\n",
       "</div>"
      ],
      "text/plain": [
       "   PassengerId  Survived  Pclass      Name     Sex   Age  SibSp  Parch  \\\n",
       "0            1         0       3        Mr    male  22.0      1      0   \n",
       "1            2         1       1  Mistress  female  38.0      1      0   \n",
       "2            3         1       3      Miss  female  26.0      0      0   \n",
       "\n",
       "             Ticket     Fare  ... Cabin_E  Cabin_F  Cabin_G  Cabin_T  Master  \\\n",
       "0         A/5 21171   7.2500  ...       0        0        0        0       0   \n",
       "1          PC 17599  71.2833  ...       0        0        0        0       0   \n",
       "2  STON/O2. 3101282   7.9250  ...       0        0        0        0       0   \n",
       "\n",
       "   Miss  Mrs  Mr  uncommon  Fare_ranges  \n",
       "0     0    0   0         1            0  \n",
       "1     0    0   1         0            3  \n",
       "2     0    1   0         0            1  \n",
       "\n",
       "[3 rows x 27 columns]"
      ]
     },
     "execution_count": 9,
     "metadata": {},
     "output_type": "execute_result"
    }
   ],
   "source": [
    "data, bins_fares = fares(data)\n",
    "data.head(3)"
   ]
  },
  {
   "cell_type": "code",
   "execution_count": 10,
   "metadata": {
    "scrolled": true
   },
   "outputs": [],
   "source": [
    "def ages(dataframe):\n",
    "    \"\"\"\n",
    "    Hotencodes ages into four different groups using pandas qbins function\n",
    "\n",
    "    Parameters:\n",
    "    ----------\n",
    "    dataframe: training dataset Titanic\n",
    "    \"\"\"\n",
    "    dataframe['Age'] = dataframe['Age'].fillna(dataframe['Age'].mean())\n",
    "    qbins = pd.qcut(dataframe['Age'], q = 4)\n",
    "    qbins = pd.get_dummies(qbins)\n",
    "    qbins.columns = ['qbin_Age1', 'qbin_Age2', 'qbin_Age3', 'qbin_Age4']\n",
    "    dataframe = pd.concat([dataframe, qbins], axis =1)\n",
    "    return dataframe"
   ]
  },
  {
   "cell_type": "code",
   "execution_count": 11,
   "metadata": {},
   "outputs": [
    {
     "data": {
      "text/html": [
       "<div>\n",
       "<style scoped>\n",
       "    .dataframe tbody tr th:only-of-type {\n",
       "        vertical-align: middle;\n",
       "    }\n",
       "\n",
       "    .dataframe tbody tr th {\n",
       "        vertical-align: top;\n",
       "    }\n",
       "\n",
       "    .dataframe thead th {\n",
       "        text-align: right;\n",
       "    }\n",
       "</style>\n",
       "<table border=\"1\" class=\"dataframe\">\n",
       "  <thead>\n",
       "    <tr style=\"text-align: right;\">\n",
       "      <th></th>\n",
       "      <th>PassengerId</th>\n",
       "      <th>Survived</th>\n",
       "      <th>Pclass</th>\n",
       "      <th>Name</th>\n",
       "      <th>Sex</th>\n",
       "      <th>Age</th>\n",
       "      <th>SibSp</th>\n",
       "      <th>Parch</th>\n",
       "      <th>Ticket</th>\n",
       "      <th>Fare</th>\n",
       "      <th>...</th>\n",
       "      <th>Master</th>\n",
       "      <th>Miss</th>\n",
       "      <th>Mrs</th>\n",
       "      <th>Mr</th>\n",
       "      <th>uncommon</th>\n",
       "      <th>Fare_ranges</th>\n",
       "      <th>qbin_Age1</th>\n",
       "      <th>qbin_Age2</th>\n",
       "      <th>qbin_Age3</th>\n",
       "      <th>qbin_Age4</th>\n",
       "    </tr>\n",
       "  </thead>\n",
       "  <tbody>\n",
       "    <tr>\n",
       "      <th>0</th>\n",
       "      <td>1</td>\n",
       "      <td>0</td>\n",
       "      <td>3</td>\n",
       "      <td>Mr</td>\n",
       "      <td>male</td>\n",
       "      <td>22.0</td>\n",
       "      <td>1</td>\n",
       "      <td>0</td>\n",
       "      <td>A/5 21171</td>\n",
       "      <td>7.2500</td>\n",
       "      <td>...</td>\n",
       "      <td>0</td>\n",
       "      <td>0</td>\n",
       "      <td>0</td>\n",
       "      <td>0</td>\n",
       "      <td>1</td>\n",
       "      <td>0</td>\n",
       "      <td>1</td>\n",
       "      <td>0</td>\n",
       "      <td>0</td>\n",
       "      <td>0</td>\n",
       "    </tr>\n",
       "    <tr>\n",
       "      <th>1</th>\n",
       "      <td>2</td>\n",
       "      <td>1</td>\n",
       "      <td>1</td>\n",
       "      <td>Mistress</td>\n",
       "      <td>female</td>\n",
       "      <td>38.0</td>\n",
       "      <td>1</td>\n",
       "      <td>0</td>\n",
       "      <td>PC 17599</td>\n",
       "      <td>71.2833</td>\n",
       "      <td>...</td>\n",
       "      <td>0</td>\n",
       "      <td>0</td>\n",
       "      <td>0</td>\n",
       "      <td>1</td>\n",
       "      <td>0</td>\n",
       "      <td>3</td>\n",
       "      <td>0</td>\n",
       "      <td>0</td>\n",
       "      <td>0</td>\n",
       "      <td>1</td>\n",
       "    </tr>\n",
       "    <tr>\n",
       "      <th>2</th>\n",
       "      <td>3</td>\n",
       "      <td>1</td>\n",
       "      <td>3</td>\n",
       "      <td>Miss</td>\n",
       "      <td>female</td>\n",
       "      <td>26.0</td>\n",
       "      <td>0</td>\n",
       "      <td>0</td>\n",
       "      <td>STON/O2. 3101282</td>\n",
       "      <td>7.9250</td>\n",
       "      <td>...</td>\n",
       "      <td>0</td>\n",
       "      <td>0</td>\n",
       "      <td>1</td>\n",
       "      <td>0</td>\n",
       "      <td>0</td>\n",
       "      <td>1</td>\n",
       "      <td>0</td>\n",
       "      <td>1</td>\n",
       "      <td>0</td>\n",
       "      <td>0</td>\n",
       "    </tr>\n",
       "  </tbody>\n",
       "</table>\n",
       "<p>3 rows × 31 columns</p>\n",
       "</div>"
      ],
      "text/plain": [
       "   PassengerId  Survived  Pclass      Name     Sex   Age  SibSp  Parch  \\\n",
       "0            1         0       3        Mr    male  22.0      1      0   \n",
       "1            2         1       1  Mistress  female  38.0      1      0   \n",
       "2            3         1       3      Miss  female  26.0      0      0   \n",
       "\n",
       "             Ticket     Fare  ... Master  Miss  Mrs  Mr  uncommon  \\\n",
       "0         A/5 21171   7.2500  ...      0     0    0   0         1   \n",
       "1          PC 17599  71.2833  ...      0     0    0   1         0   \n",
       "2  STON/O2. 3101282   7.9250  ...      0     0    1   0         0   \n",
       "\n",
       "   Fare_ranges  qbin_Age1  qbin_Age2  qbin_Age3  qbin_Age4  \n",
       "0            0          1          0          0          0  \n",
       "1            3          0          0          0          1  \n",
       "2            1          0          1          0          0  \n",
       "\n",
       "[3 rows x 31 columns]"
      ]
     },
     "execution_count": 11,
     "metadata": {},
     "output_type": "execute_result"
    }
   ],
   "source": [
    "data = ages(data)\n",
    "data.head(3)"
   ]
  },
  {
   "cell_type": "markdown",
   "metadata": {},
   "source": [
    "### 3.3. Scalling\n",
    "**Not my favorite**. It seems that digregating the scores in different columns helps to increase the accuracy. "
   ]
  },
  {
   "cell_type": "markdown",
   "metadata": {},
   "source": [
    "### 3.4. Into numeric\n",
    "* sex"
   ]
  },
  {
   "cell_type": "code",
   "execution_count": 12,
   "metadata": {
    "scrolled": true
   },
   "outputs": [],
   "source": [
    "def gender(dataframe):\n",
    "    \"\"\"\n",
    "    Hotencodes gender to either male or female\n",
    "\n",
    "    Parameters:\n",
    "    ----------\n",
    "    dataframe: training dataset Titanic\n",
    "    \"\"\"\n",
    "    dataframe.loc[(dataframe['Sex'] == 'male'), 'Sex'] = 0\n",
    "    dataframe.loc[(dataframe['Sex'] == 'female'), 'Sex'] = 1\n",
    "    dataframe[\"Sex\"] = dataframe[\"Sex\"].astype(str).astype(int)\n",
    "    return dataframe"
   ]
  },
  {
   "cell_type": "code",
   "execution_count": 13,
   "metadata": {},
   "outputs": [
    {
     "data": {
      "text/html": [
       "<div>\n",
       "<style scoped>\n",
       "    .dataframe tbody tr th:only-of-type {\n",
       "        vertical-align: middle;\n",
       "    }\n",
       "\n",
       "    .dataframe tbody tr th {\n",
       "        vertical-align: top;\n",
       "    }\n",
       "\n",
       "    .dataframe thead th {\n",
       "        text-align: right;\n",
       "    }\n",
       "</style>\n",
       "<table border=\"1\" class=\"dataframe\">\n",
       "  <thead>\n",
       "    <tr style=\"text-align: right;\">\n",
       "      <th></th>\n",
       "      <th>PassengerId</th>\n",
       "      <th>Survived</th>\n",
       "      <th>Pclass</th>\n",
       "      <th>Name</th>\n",
       "      <th>Sex</th>\n",
       "      <th>Age</th>\n",
       "      <th>SibSp</th>\n",
       "      <th>Parch</th>\n",
       "      <th>Ticket</th>\n",
       "      <th>Fare</th>\n",
       "      <th>...</th>\n",
       "      <th>Master</th>\n",
       "      <th>Miss</th>\n",
       "      <th>Mrs</th>\n",
       "      <th>Mr</th>\n",
       "      <th>uncommon</th>\n",
       "      <th>Fare_ranges</th>\n",
       "      <th>qbin_Age1</th>\n",
       "      <th>qbin_Age2</th>\n",
       "      <th>qbin_Age3</th>\n",
       "      <th>qbin_Age4</th>\n",
       "    </tr>\n",
       "  </thead>\n",
       "  <tbody>\n",
       "    <tr>\n",
       "      <th>0</th>\n",
       "      <td>1</td>\n",
       "      <td>0</td>\n",
       "      <td>3</td>\n",
       "      <td>Mr</td>\n",
       "      <td>0</td>\n",
       "      <td>22.0</td>\n",
       "      <td>1</td>\n",
       "      <td>0</td>\n",
       "      <td>A/5 21171</td>\n",
       "      <td>7.2500</td>\n",
       "      <td>...</td>\n",
       "      <td>0</td>\n",
       "      <td>0</td>\n",
       "      <td>0</td>\n",
       "      <td>0</td>\n",
       "      <td>1</td>\n",
       "      <td>0</td>\n",
       "      <td>1</td>\n",
       "      <td>0</td>\n",
       "      <td>0</td>\n",
       "      <td>0</td>\n",
       "    </tr>\n",
       "    <tr>\n",
       "      <th>1</th>\n",
       "      <td>2</td>\n",
       "      <td>1</td>\n",
       "      <td>1</td>\n",
       "      <td>Mistress</td>\n",
       "      <td>1</td>\n",
       "      <td>38.0</td>\n",
       "      <td>1</td>\n",
       "      <td>0</td>\n",
       "      <td>PC 17599</td>\n",
       "      <td>71.2833</td>\n",
       "      <td>...</td>\n",
       "      <td>0</td>\n",
       "      <td>0</td>\n",
       "      <td>0</td>\n",
       "      <td>1</td>\n",
       "      <td>0</td>\n",
       "      <td>3</td>\n",
       "      <td>0</td>\n",
       "      <td>0</td>\n",
       "      <td>0</td>\n",
       "      <td>1</td>\n",
       "    </tr>\n",
       "    <tr>\n",
       "      <th>2</th>\n",
       "      <td>3</td>\n",
       "      <td>1</td>\n",
       "      <td>3</td>\n",
       "      <td>Miss</td>\n",
       "      <td>1</td>\n",
       "      <td>26.0</td>\n",
       "      <td>0</td>\n",
       "      <td>0</td>\n",
       "      <td>STON/O2. 3101282</td>\n",
       "      <td>7.9250</td>\n",
       "      <td>...</td>\n",
       "      <td>0</td>\n",
       "      <td>0</td>\n",
       "      <td>1</td>\n",
       "      <td>0</td>\n",
       "      <td>0</td>\n",
       "      <td>1</td>\n",
       "      <td>0</td>\n",
       "      <td>1</td>\n",
       "      <td>0</td>\n",
       "      <td>0</td>\n",
       "    </tr>\n",
       "  </tbody>\n",
       "</table>\n",
       "<p>3 rows × 31 columns</p>\n",
       "</div>"
      ],
      "text/plain": [
       "   PassengerId  Survived  Pclass      Name  Sex   Age  SibSp  Parch  \\\n",
       "0            1         0       3        Mr    0  22.0      1      0   \n",
       "1            2         1       1  Mistress    1  38.0      1      0   \n",
       "2            3         1       3      Miss    1  26.0      0      0   \n",
       "\n",
       "             Ticket     Fare  ... Master  Miss  Mrs  Mr  uncommon  \\\n",
       "0         A/5 21171   7.2500  ...      0     0    0   0         1   \n",
       "1          PC 17599  71.2833  ...      0     0    0   1         0   \n",
       "2  STON/O2. 3101282   7.9250  ...      0     0    1   0         0   \n",
       "\n",
       "   Fare_ranges  qbin_Age1  qbin_Age2  qbin_Age3  qbin_Age4  \n",
       "0            0          1          0          0          0  \n",
       "1            3          0          0          0          1  \n",
       "2            1          0          1          0          0  \n",
       "\n",
       "[3 rows x 31 columns]"
      ]
     },
     "execution_count": 13,
     "metadata": {},
     "output_type": "execute_result"
    }
   ],
   "source": [
    "data = gender(data)\n",
    "data.head(3)"
   ]
  },
  {
   "cell_type": "markdown",
   "metadata": {},
   "source": [
    "### 3.5. Interactions \n",
    "- Age per class"
   ]
  },
  {
   "cell_type": "code",
   "execution_count": 14,
   "metadata": {
    "scrolled": true
   },
   "outputs": [],
   "source": [
    "def age_per_class(dataframe, bins_fares):\n",
    "    \"\"\"\n",
    "    Hotecondes ages per travelling class into five different groups\n",
    "\n",
    "    Parameters:\n",
    "    ----------\n",
    "    dataframe: training dataset Titanic\n",
    "    \"\"\"\n",
    "    dataframe['int_Age*Pclass'] = dataframe['Age'] * dataframe['Pclass']\n",
    "    qbins = pd.qcut(dataframe['int_Age*Pclass'], q=4)\n",
    "    qbins = pd.get_dummies(qbins)\n",
    "    qbins.columns=['qbin_SexClass1', 'qbin_SexClass2', 'qbin_SexClass3', 'qbin_SexClass4']\n",
    "    dataframe = pd.concat([dataframe, qbins], axis = 1)\n",
    "    bins_Ages = [-1, 22, 29, 35, 60, np.inf]\n",
    "    names_fares = [1, 2, 3, 4, 5]\n",
    "    dataframe['Age_ranges'] =  pd.cut(dataframe['Age'], bins_fares, labels=names_fares)\n",
    "    return dataframe"
   ]
  },
  {
   "cell_type": "code",
   "execution_count": 15,
   "metadata": {},
   "outputs": [
    {
     "data": {
      "text/html": [
       "<div>\n",
       "<style scoped>\n",
       "    .dataframe tbody tr th:only-of-type {\n",
       "        vertical-align: middle;\n",
       "    }\n",
       "\n",
       "    .dataframe tbody tr th {\n",
       "        vertical-align: top;\n",
       "    }\n",
       "\n",
       "    .dataframe thead th {\n",
       "        text-align: right;\n",
       "    }\n",
       "</style>\n",
       "<table border=\"1\" class=\"dataframe\">\n",
       "  <thead>\n",
       "    <tr style=\"text-align: right;\">\n",
       "      <th></th>\n",
       "      <th>PassengerId</th>\n",
       "      <th>Survived</th>\n",
       "      <th>Pclass</th>\n",
       "      <th>Name</th>\n",
       "      <th>Sex</th>\n",
       "      <th>Age</th>\n",
       "      <th>SibSp</th>\n",
       "      <th>Parch</th>\n",
       "      <th>Ticket</th>\n",
       "      <th>Fare</th>\n",
       "      <th>...</th>\n",
       "      <th>qbin_Age1</th>\n",
       "      <th>qbin_Age2</th>\n",
       "      <th>qbin_Age3</th>\n",
       "      <th>qbin_Age4</th>\n",
       "      <th>int_Age*Pclass</th>\n",
       "      <th>qbin_SexClass1</th>\n",
       "      <th>qbin_SexClass2</th>\n",
       "      <th>qbin_SexClass3</th>\n",
       "      <th>qbin_SexClass4</th>\n",
       "      <th>Age_ranges</th>\n",
       "    </tr>\n",
       "  </thead>\n",
       "  <tbody>\n",
       "    <tr>\n",
       "      <th>0</th>\n",
       "      <td>1</td>\n",
       "      <td>0</td>\n",
       "      <td>3</td>\n",
       "      <td>Mr</td>\n",
       "      <td>0</td>\n",
       "      <td>22.0</td>\n",
       "      <td>1</td>\n",
       "      <td>0</td>\n",
       "      <td>A/5 21171</td>\n",
       "      <td>7.2500</td>\n",
       "      <td>...</td>\n",
       "      <td>1</td>\n",
       "      <td>0</td>\n",
       "      <td>0</td>\n",
       "      <td>0</td>\n",
       "      <td>66.0</td>\n",
       "      <td>0</td>\n",
       "      <td>0</td>\n",
       "      <td>1</td>\n",
       "      <td>0</td>\n",
       "      <td>3</td>\n",
       "    </tr>\n",
       "    <tr>\n",
       "      <th>1</th>\n",
       "      <td>2</td>\n",
       "      <td>1</td>\n",
       "      <td>1</td>\n",
       "      <td>Mistress</td>\n",
       "      <td>1</td>\n",
       "      <td>38.0</td>\n",
       "      <td>1</td>\n",
       "      <td>0</td>\n",
       "      <td>PC 17599</td>\n",
       "      <td>71.2833</td>\n",
       "      <td>...</td>\n",
       "      <td>0</td>\n",
       "      <td>0</td>\n",
       "      <td>0</td>\n",
       "      <td>1</td>\n",
       "      <td>38.0</td>\n",
       "      <td>1</td>\n",
       "      <td>0</td>\n",
       "      <td>0</td>\n",
       "      <td>0</td>\n",
       "      <td>4</td>\n",
       "    </tr>\n",
       "    <tr>\n",
       "      <th>2</th>\n",
       "      <td>3</td>\n",
       "      <td>1</td>\n",
       "      <td>3</td>\n",
       "      <td>Miss</td>\n",
       "      <td>1</td>\n",
       "      <td>26.0</td>\n",
       "      <td>0</td>\n",
       "      <td>0</td>\n",
       "      <td>STON/O2. 3101282</td>\n",
       "      <td>7.9250</td>\n",
       "      <td>...</td>\n",
       "      <td>0</td>\n",
       "      <td>1</td>\n",
       "      <td>0</td>\n",
       "      <td>0</td>\n",
       "      <td>78.0</td>\n",
       "      <td>0</td>\n",
       "      <td>0</td>\n",
       "      <td>1</td>\n",
       "      <td>0</td>\n",
       "      <td>3</td>\n",
       "    </tr>\n",
       "  </tbody>\n",
       "</table>\n",
       "<p>3 rows × 37 columns</p>\n",
       "</div>"
      ],
      "text/plain": [
       "   PassengerId  Survived  Pclass      Name  Sex   Age  SibSp  Parch  \\\n",
       "0            1         0       3        Mr    0  22.0      1      0   \n",
       "1            2         1       1  Mistress    1  38.0      1      0   \n",
       "2            3         1       3      Miss    1  26.0      0      0   \n",
       "\n",
       "             Ticket     Fare  ... qbin_Age1  qbin_Age2  qbin_Age3  qbin_Age4  \\\n",
       "0         A/5 21171   7.2500  ...         1          0          0          0   \n",
       "1          PC 17599  71.2833  ...         0          0          0          1   \n",
       "2  STON/O2. 3101282   7.9250  ...         0          1          0          0   \n",
       "\n",
       "   int_Age*Pclass  qbin_SexClass1  qbin_SexClass2  qbin_SexClass3  \\\n",
       "0            66.0               0               0               1   \n",
       "1            38.0               1               0               0   \n",
       "2            78.0               0               0               1   \n",
       "\n",
       "   qbin_SexClass4  Age_ranges  \n",
       "0               0           3  \n",
       "1               0           4  \n",
       "2               0           3  \n",
       "\n",
       "[3 rows x 37 columns]"
      ]
     },
     "execution_count": 15,
     "metadata": {},
     "output_type": "execute_result"
    }
   ],
   "source": [
    "data = age_per_class(data, bins_fares)\n",
    "data.head(3)"
   ]
  },
  {
   "cell_type": "code",
   "execution_count": 16,
   "metadata": {
    "scrolled": true
   },
   "outputs": [
    {
     "data": {
      "text/plain": [
       "PassengerId       0\n",
       "Survived          0\n",
       "Pclass            0\n",
       "Name              0\n",
       "Sex               0\n",
       "Age               0\n",
       "SibSp             0\n",
       "Parch             0\n",
       "Ticket            0\n",
       "Fare              0\n",
       "Cabin             0\n",
       "Embarked          2\n",
       "unk_Cabin         0\n",
       "Cabin_A           0\n",
       "Cabin_B           0\n",
       "Cabin_C           0\n",
       "Cabin_D           0\n",
       "Cabin_E           0\n",
       "Cabin_F           0\n",
       "Cabin_G           0\n",
       "Cabin_T           0\n",
       "Master            0\n",
       "Miss              0\n",
       "Mrs               0\n",
       "Mr                0\n",
       "uncommon          0\n",
       "Fare_ranges       0\n",
       "qbin_Age1         0\n",
       "qbin_Age2         0\n",
       "qbin_Age3         0\n",
       "qbin_Age4         0\n",
       "int_Age*Pclass    0\n",
       "qbin_SexClass1    0\n",
       "qbin_SexClass2    0\n",
       "qbin_SexClass3    0\n",
       "qbin_SexClass4    0\n",
       "Age_ranges        0\n",
       "dtype: int64"
      ]
     },
     "execution_count": 16,
     "metadata": {},
     "output_type": "execute_result"
    }
   ],
   "source": [
    "data.isnull().sum()"
   ]
  },
  {
   "cell_type": "markdown",
   "metadata": {},
   "source": [
    "#### Remove columns not to be engineered and save to file"
   ]
  },
  {
   "cell_type": "code",
   "execution_count": 17,
   "metadata": {
    "scrolled": true
   },
   "outputs": [],
   "source": [
    "def clear_engineer(dataframe, columns_drop, data_type):\n",
    "    \"\"\"\n",
    "    clear dataframe for a list containing the name of columns that will not be\n",
    "    used as classifiers for the evaluation and prediction\n",
    "\n",
    "    Parameters:\n",
    "    ----------\n",
    "    dataframe: Data from the Titanic dataset. Either training or test data\n",
    "    data_type: training, test\n",
    "    \"\"\"\n",
    "    if data_type == \"training\":\n",
    "        dataframe.drop(columns_drop, axis = 1, inplace = True)\n",
    "        dataframe.to_csv('../data/train_featured.csv', index=False)\n",
    "    else:\n",
    "        columns_drop += [\"PassengerId\"]\n",
    "        dataframe.drop(columns_drop, axis = 1, inplace = True)\n",
    "        dataframe.to_csv('../data/test_featured.csv', index=False)\n",
    "    return dataframe"
   ]
  },
  {
   "cell_type": "code",
   "execution_count": 18,
   "metadata": {},
   "outputs": [
    {
     "data": {
      "text/html": [
       "<div>\n",
       "<style scoped>\n",
       "    .dataframe tbody tr th:only-of-type {\n",
       "        vertical-align: middle;\n",
       "    }\n",
       "\n",
       "    .dataframe tbody tr th {\n",
       "        vertical-align: top;\n",
       "    }\n",
       "\n",
       "    .dataframe thead th {\n",
       "        text-align: right;\n",
       "    }\n",
       "</style>\n",
       "<table border=\"1\" class=\"dataframe\">\n",
       "  <thead>\n",
       "    <tr style=\"text-align: right;\">\n",
       "      <th></th>\n",
       "      <th>PassengerId</th>\n",
       "      <th>Survived</th>\n",
       "      <th>Pclass</th>\n",
       "      <th>Sex</th>\n",
       "      <th>SibSp</th>\n",
       "      <th>Parch</th>\n",
       "      <th>unk_Cabin</th>\n",
       "      <th>Cabin_A</th>\n",
       "      <th>Cabin_B</th>\n",
       "      <th>Cabin_C</th>\n",
       "      <th>...</th>\n",
       "      <th>Fare_ranges</th>\n",
       "      <th>qbin_Age1</th>\n",
       "      <th>qbin_Age2</th>\n",
       "      <th>qbin_Age3</th>\n",
       "      <th>qbin_Age4</th>\n",
       "      <th>qbin_SexClass1</th>\n",
       "      <th>qbin_SexClass2</th>\n",
       "      <th>qbin_SexClass3</th>\n",
       "      <th>qbin_SexClass4</th>\n",
       "      <th>Age_ranges</th>\n",
       "    </tr>\n",
       "  </thead>\n",
       "  <tbody>\n",
       "    <tr>\n",
       "      <th>0</th>\n",
       "      <td>1</td>\n",
       "      <td>0</td>\n",
       "      <td>3</td>\n",
       "      <td>0</td>\n",
       "      <td>1</td>\n",
       "      <td>0</td>\n",
       "      <td>1</td>\n",
       "      <td>0</td>\n",
       "      <td>0</td>\n",
       "      <td>0</td>\n",
       "      <td>...</td>\n",
       "      <td>0</td>\n",
       "      <td>1</td>\n",
       "      <td>0</td>\n",
       "      <td>0</td>\n",
       "      <td>0</td>\n",
       "      <td>0</td>\n",
       "      <td>0</td>\n",
       "      <td>1</td>\n",
       "      <td>0</td>\n",
       "      <td>3</td>\n",
       "    </tr>\n",
       "    <tr>\n",
       "      <th>1</th>\n",
       "      <td>2</td>\n",
       "      <td>1</td>\n",
       "      <td>1</td>\n",
       "      <td>1</td>\n",
       "      <td>1</td>\n",
       "      <td>0</td>\n",
       "      <td>0</td>\n",
       "      <td>0</td>\n",
       "      <td>0</td>\n",
       "      <td>1</td>\n",
       "      <td>...</td>\n",
       "      <td>3</td>\n",
       "      <td>0</td>\n",
       "      <td>0</td>\n",
       "      <td>0</td>\n",
       "      <td>1</td>\n",
       "      <td>1</td>\n",
       "      <td>0</td>\n",
       "      <td>0</td>\n",
       "      <td>0</td>\n",
       "      <td>4</td>\n",
       "    </tr>\n",
       "    <tr>\n",
       "      <th>2</th>\n",
       "      <td>3</td>\n",
       "      <td>1</td>\n",
       "      <td>3</td>\n",
       "      <td>1</td>\n",
       "      <td>0</td>\n",
       "      <td>0</td>\n",
       "      <td>1</td>\n",
       "      <td>0</td>\n",
       "      <td>0</td>\n",
       "      <td>0</td>\n",
       "      <td>...</td>\n",
       "      <td>1</td>\n",
       "      <td>0</td>\n",
       "      <td>1</td>\n",
       "      <td>0</td>\n",
       "      <td>0</td>\n",
       "      <td>0</td>\n",
       "      <td>0</td>\n",
       "      <td>1</td>\n",
       "      <td>0</td>\n",
       "      <td>3</td>\n",
       "    </tr>\n",
       "  </tbody>\n",
       "</table>\n",
       "<p>3 rows × 30 columns</p>\n",
       "</div>"
      ],
      "text/plain": [
       "   PassengerId  Survived  Pclass  Sex  SibSp  Parch  unk_Cabin  Cabin_A  \\\n",
       "0            1         0       3    0      1      0          1        0   \n",
       "1            2         1       1    1      1      0          0        0   \n",
       "2            3         1       3    1      0      0          1        0   \n",
       "\n",
       "   Cabin_B  Cabin_C  ...  Fare_ranges  qbin_Age1  qbin_Age2  qbin_Age3  \\\n",
       "0        0        0  ...            0          1          0          0   \n",
       "1        0        1  ...            3          0          0          0   \n",
       "2        0        0  ...            1          0          1          0   \n",
       "\n",
       "   qbin_Age4  qbin_SexClass1  qbin_SexClass2  qbin_SexClass3  qbin_SexClass4  \\\n",
       "0          0               0               0               1               0   \n",
       "1          1               1               0               0               0   \n",
       "2          0               0               0               1               0   \n",
       "\n",
       "   Age_ranges  \n",
       "0           3  \n",
       "1           4  \n",
       "2           3  \n",
       "\n",
       "[3 rows x 30 columns]"
      ]
     },
     "execution_count": 18,
     "metadata": {},
     "output_type": "execute_result"
    }
   ],
   "source": [
    "columns_drop = ['Age', 'Name', 'Fare',  'Ticket', 'Cabin', 'Embarked', 'int_Age*Pclass']\n",
    "data = clear_engineer(data, columns_drop, \"training\")\n",
    "data.head(3)"
   ]
  },
  {
   "cell_type": "code",
   "execution_count": 19,
   "metadata": {
    "scrolled": false
   },
   "outputs": [
    {
     "name": "stdout",
     "output_type": "stream",
     "text": [
      "<class 'pandas.core.frame.DataFrame'>\n",
      "RangeIndex: 891 entries, 0 to 890\n",
      "Data columns (total 30 columns):\n",
      " #   Column          Non-Null Count  Dtype   \n",
      "---  ------          --------------  -----   \n",
      " 0   PassengerId     891 non-null    int64   \n",
      " 1   Survived        891 non-null    int64   \n",
      " 2   Pclass          891 non-null    int64   \n",
      " 3   Sex             891 non-null    int64   \n",
      " 4   SibSp           891 non-null    int64   \n",
      " 5   Parch           891 non-null    int64   \n",
      " 6   unk_Cabin       891 non-null    uint8   \n",
      " 7   Cabin_A         891 non-null    uint8   \n",
      " 8   Cabin_B         891 non-null    uint8   \n",
      " 9   Cabin_C         891 non-null    uint8   \n",
      " 10  Cabin_D         891 non-null    uint8   \n",
      " 11  Cabin_E         891 non-null    uint8   \n",
      " 12  Cabin_F         891 non-null    uint8   \n",
      " 13  Cabin_G         891 non-null    uint8   \n",
      " 14  Cabin_T         891 non-null    uint8   \n",
      " 15  Master          891 non-null    uint8   \n",
      " 16  Miss            891 non-null    uint8   \n",
      " 17  Mrs             891 non-null    uint8   \n",
      " 18  Mr              891 non-null    uint8   \n",
      " 19  uncommon        891 non-null    uint8   \n",
      " 20  Fare_ranges     891 non-null    category\n",
      " 21  qbin_Age1       891 non-null    uint8   \n",
      " 22  qbin_Age2       891 non-null    uint8   \n",
      " 23  qbin_Age3       891 non-null    uint8   \n",
      " 24  qbin_Age4       891 non-null    uint8   \n",
      " 25  qbin_SexClass1  891 non-null    uint8   \n",
      " 26  qbin_SexClass2  891 non-null    uint8   \n",
      " 27  qbin_SexClass3  891 non-null    uint8   \n",
      " 28  qbin_SexClass4  891 non-null    uint8   \n",
      " 29  Age_ranges      891 non-null    category\n",
      "dtypes: category(2), int64(6), uint8(22)\n",
      "memory usage: 63.2 KB\n"
     ]
    }
   ],
   "source": [
    "data.info()"
   ]
  },
  {
   "cell_type": "code",
   "execution_count": 20,
   "metadata": {
    "scrolled": false
   },
   "outputs": [
    {
     "data": {
      "text/plain": [
       "Index(['PassengerId', 'Survived', 'Pclass', 'Sex', 'SibSp', 'Parch',\n",
       "       'unk_Cabin', 'Cabin_A', 'Cabin_B', 'Cabin_C', 'Cabin_D', 'Cabin_E',\n",
       "       'Cabin_F', 'Cabin_G', 'Cabin_T', 'Master', 'Miss', 'Mrs', 'Mr',\n",
       "       'uncommon', 'Fare_ranges', 'qbin_Age1', 'qbin_Age2', 'qbin_Age3',\n",
       "       'qbin_Age4', 'qbin_SexClass1', 'qbin_SexClass2', 'qbin_SexClass3',\n",
       "       'qbin_SexClass4', 'Age_ranges'],\n",
       "      dtype='object')"
      ]
     },
     "execution_count": 20,
     "metadata": {},
     "output_type": "execute_result"
    }
   ],
   "source": [
    "data.columns"
   ]
  },
  {
   "cell_type": "markdown",
   "metadata": {},
   "source": [
    "## `Step 4 Evaluating Classifiers`"
   ]
  },
  {
   "cell_type": "code",
   "execution_count": 21,
   "metadata": {},
   "outputs": [],
   "source": [
    "import seaborn as sns\n",
    "import matplotlib\n",
    "import matplotlib.pyplot as plt\n",
    "from sklearn.linear_model import LogisticRegression\n",
    "from sklearn.metrics import accuracy_score\n",
    "from sklearn.metrics import plot_confusion_matrix\n",
    "from sklearn.metrics import precision_score\n",
    "from sklearn.metrics import recall_score\n",
    "from sklearn.model_selection import train_test_split\n",
    "from sklearn.dummy import DummyClassifier"
   ]
  },
  {
   "cell_type": "markdown",
   "metadata": {},
   "source": [
    "### Split the data into train and test set"
   ]
  },
  {
   "cell_type": "code",
   "execution_count": 22,
   "metadata": {},
   "outputs": [],
   "source": [
    "data = pd.read_csv(\"../data/train_featured.csv\")\n",
    "y = data['Survived']\n",
    "X = data.iloc[:, 2:]\n",
    "X_train, X_test, y_train, y_test = train_test_split(X, y, test_size=0.2)"
   ]
  },
  {
   "cell_type": "markdown",
   "metadata": {},
   "source": [
    "### Define the strategy to proceed with the evaluation"
   ]
  },
  {
   "cell_type": "code",
   "execution_count": 23,
   "metadata": {},
   "outputs": [],
   "source": [
    "def define_strategy(X_train, y_train):\n",
    "    plt = matplotlib.pyplot.gcf()\n",
    "    plt.set_size_inches(12, 8)\n",
    "    strats = ['stratified', 'most_frequent', 'prior', 'uniform', 'constant']\n",
    "    train_dummy_scores = {}\n",
    "    \n",
    "    for clfs in strats:\n",
    "        if clfs == 'constant':\n",
    "            dummy_clf = DummyClassifier(strategy = clfs, random_state = 0, constant = 0)\n",
    "        else: \n",
    "            dummy_clf = DummyClassifier(strategy = clfs, random_state = 0)\n",
    "        dummy_clf.fit(X_train, y_train)\n",
    "        score = dummy_clf.score(X_train, y_train)\n",
    "        train_dummy_scores[clfs] = score\n",
    "\n",
    "    values = list(train_dummy_scores.values())\n",
    "    ax = sns.stripplot(strats, values); \n",
    "    ax.set(xlabel ='strategy', ylabel ='training score')\n",
    "    plt.savefig('../plots/strategies.jpg')"
   ]
  },
  {
   "cell_type": "code",
   "execution_count": 24,
   "metadata": {
    "scrolled": true
   },
   "outputs": [
    {
     "data": {
      "image/png": "[encoded data removed]",
      "text/plain": [
       "<Figure size 864x576 with 1 Axes>"
      ]
     },
     "metadata": {
      "needs_background": "light"
     },
     "output_type": "display_data"
    }
   ],
   "source": [
    "define_strategy(X_train, y_train)"
   ]
  },
  {
   "cell_type": "markdown",
   "metadata": {},
   "source": [
    "### Build up a dummy classifier based on the prior. This will be of use for contrasting the model. "
   ]
  },
  {
   "cell_type": "code",
   "execution_count": 25,
   "metadata": {},
   "outputs": [],
   "source": [
    "def build_dummy():\n",
    "    dummy_clf = DummyClassifier(strategy = 'most_frequent', random_state = 0)\n",
    "    dummy_clf.fit(X_train, y_train)\n",
    "    dummy_clf.score(X_train, y_train)\n",
    "    return dummy_clf"
   ]
  },
  {
   "cell_type": "code",
   "execution_count": 26,
   "metadata": {},
   "outputs": [],
   "source": [
    "dummy_clf = build_dummy()"
   ]
  },
  {
   "cell_type": "markdown",
   "metadata": {},
   "source": [
    "### Build simple logistic regression model"
   ]
  },
  {
   "cell_type": "code",
   "execution_count": 27,
   "metadata": {},
   "outputs": [],
   "source": [
    "def simple_regression(training_cols):\n",
    "    model = LogisticRegression(C=0.1, max_iter = 1000)\n",
    "    model.fit(X_train[training_cols], y_train)\n",
    "    score = model.score(X_train[training_cols], y_train)\n",
    "    model.predict(X_train[training_cols]) \n",
    "    coef = model.coef_\n",
    "    intercept = model.intercept_\n",
    "    return coef, intercept, score, model"
   ]
  },
  {
   "cell_type": "code",
   "execution_count": 28,
   "metadata": {},
   "outputs": [
    {
     "name": "stdout",
     "output_type": "stream",
     "text": [
      "Simple regression results:\n",
      "score: 0.800561797752809 \n",
      "coef: [[ 0.22538106  0.57605094 -0.43253759 -0.98283987  1.83799305 -0.25021255\n",
      "  -0.15690623 -0.01022057 -0.10075816]] \n",
      "intercept: [2.5055719]\n"
     ]
    }
   ],
   "source": [
    "columns = [ 'Mrs', 'Miss', 'Age_ranges', 'Pclass', 'Sex', 'SibSp', 'qbin_Age2', 'Parch', 'Cabin_C']\n",
    "\n",
    "coef, intercept, score, model = simple_regression(columns)\n",
    "print(\"Simple regression results:\\nscore: \" + str(score), \\\n",
    "      \"\\ncoef: \" + str(coef), \"\\nintercept: \" + str(intercept))"
   ]
  },
  {
   "cell_type": "markdown",
   "metadata": {},
   "source": [
    "### Calculate the accuracy of the build model "
   ]
  },
  {
   "cell_type": "code",
   "execution_count": 29,
   "metadata": {},
   "outputs": [],
   "source": [
    "def accuracy(X_train, training_cols):\n",
    "    y_pred_dummy = dummy_clf.predict(X_train)\n",
    "    y_pred_lr = model.predict(X_train[training_cols])\n",
    "    accuracy = accuracy_score(y_train, y_pred_lr)    \n",
    "    return accuracy, y_pred_lr"
   ]
  },
  {
   "cell_type": "code",
   "execution_count": 30,
   "metadata": {},
   "outputs": [
    {
     "data": {
      "text/plain": [
       "0.800561797752809"
      ]
     },
     "execution_count": 30,
     "metadata": {},
     "output_type": "execute_result"
    }
   ],
   "source": [
    "accuracy, y_pred_lr = accuracy(X_train, columns)\n",
    "accuracy"
   ]
  },
  {
   "cell_type": "code",
   "execution_count": 31,
   "metadata": {},
   "outputs": [
    {
     "data": {
      "text/plain": [
       "(array([[ 0.22538106,  0.57605094, -0.43253759, -0.98283987,  1.83799305,\n",
       "         -0.25021255, -0.15690623, -0.01022057, -0.10075816]]),\n",
       " array([2.5055719]))"
      ]
     },
     "execution_count": 31,
     "metadata": {},
     "output_type": "execute_result"
    }
   ],
   "source": [
    "coef, intercept"
   ]
  },
  {
   "cell_type": "markdown",
   "metadata": {},
   "source": [
    "### Check the types of Errors and the Confusion Matrix"
   ]
  },
  {
   "cell_type": "code",
   "execution_count": 32,
   "metadata": {},
   "outputs": [],
   "source": [
    "def confusion_matrix_(model, training_cols, X_train, y_train): \n",
    "    titles_options = [(\"without_normalization\", None),\n",
    "                      (\"Normalized\", 'true')]\n",
    "    class_names = training_cols\n",
    "    for i in range(0, 2):\n",
    "        titles = titles_options[i]\n",
    "        if i == 0: \n",
    "            disp = plot_confusion_matrix(model, X_train[columns], y_train, \n",
    "                                         cmap=plt.cm.Blues,\n",
    "                                         normalize=None)\n",
    "        else: \n",
    "            disp = plot_confusion_matrix(model, X_train[columns], y_train, \n",
    "                                 cmap=plt.cm.Blues,\n",
    "                                 normalize='true')    \n",
    "        name = (titles_options[i][0], \"confussion_matrix\")\n",
    "        name = \"_\".join(name) \n",
    "        disp.ax_.set_title(name)\n",
    "        print(name)\n",
    "        print(disp.confusion_matrix)\n",
    "        plt.savefig('../plots/'+name, format =\"jpg\")"
   ]
  },
  {
   "cell_type": "code",
   "execution_count": 33,
   "metadata": {},
   "outputs": [
    {
     "name": "stdout",
     "output_type": "stream",
     "text": [
      "without_normalization_confussion_matrix\n",
      "[[389  50]\n",
      " [ 92 181]]\n",
      "Normalized_confussion_matrix\n",
      "[[0.88610478 0.11389522]\n",
      " [0.33699634 0.66300366]]\n"
     ]
    },
    {
     "data": {
      "image/png": "[encoded data removed]",
      "text/plain": [
       "<Figure size 432x288 with 2 Axes>"
      ]
     },
     "metadata": {
      "needs_background": "light"
     },
     "output_type": "display_data"
    },
    {
     "data": {
      "image/png": "[encoded data removed]",
      "text/plain": [
       "<Figure size 432x288 with 2 Axes>"
      ]
     },
     "metadata": {
      "needs_background": "light"
     },
     "output_type": "display_data"
    }
   ],
   "source": [
    "confusion_matrix_(model, columns, X_train, y_train)"
   ]
  },
  {
   "cell_type": "markdown",
   "metadata": {},
   "source": [
    "### Calculate the precision (positive predictive value) and recall (sensitivity) of the model"
   ]
  },
  {
   "cell_type": "code",
   "execution_count": 34,
   "metadata": {},
   "outputs": [],
   "source": [
    "def precision_recall(y_train, y_pred_lr): \n",
    "    precision = precision_score(y_train, y_pred_lr)\n",
    "    recall = recall_score(y_train, y_pred_lr)\n",
    "    return precision, recall"
   ]
  },
  {
   "cell_type": "code",
   "execution_count": 35,
   "metadata": {
    "scrolled": true
   },
   "outputs": [
    {
     "data": {
      "text/plain": [
       "(0.7835497835497836, 0.663003663003663)"
      ]
     },
     "execution_count": 35,
     "metadata": {},
     "output_type": "execute_result"
    }
   ],
   "source": [
    "precision, recall = precision_recall(y_train, y_pred_lr)\n",
    "precision, recall"
   ]
  },
  {
   "cell_type": "markdown",
   "metadata": {},
   "source": [
    "### Calculate the F1 score (harmonic mean of precision and recall) as a measure of a test's accuracy"
   ]
  },
  {
   "cell_type": "code",
   "execution_count": 36,
   "metadata": {
    "scrolled": false
   },
   "outputs": [
    {
     "data": {
      "text/plain": [
       "0.7182539682539683"
      ]
     },
     "execution_count": 36,
     "metadata": {},
     "output_type": "execute_result"
    }
   ],
   "source": [
    "F1 = 2 * (precision*recall)/(precision+recall)\n",
    "F1"
   ]
  },
  {
   "cell_type": "markdown",
   "metadata": {},
   "source": [
    "## `Step 5: Evaluating the model (Cross - validation)`"
   ]
  },
  {
   "cell_type": "code",
   "execution_count": 37,
   "metadata": {},
   "outputs": [],
   "source": [
    "from sklearn.model_selection import cross_val_score"
   ]
  },
  {
   "cell_type": "code",
   "execution_count": 38,
   "metadata": {
    "scrolled": true
   },
   "outputs": [],
   "source": [
    "cross_scores = cross_val_score(model, X_train, y_train, cv=5, scoring=\"accuracy\")"
   ]
  },
  {
   "cell_type": "code",
   "execution_count": 39,
   "metadata": {
    "scrolled": true
   },
   "outputs": [
    {
     "data": {
      "text/plain": [
       "array([0.83216783, 0.76223776, 0.83098592, 0.81690141, 0.76760563])"
      ]
     },
     "execution_count": 39,
     "metadata": {},
     "output_type": "execute_result"
    }
   ],
   "source": [
    "cross_scores"
   ]
  },
  {
   "cell_type": "code",
   "execution_count": 40,
   "metadata": {
    "scrolled": false
   },
   "outputs": [
    {
     "data": {
      "text/plain": [
       "(0.802, 0.030777716900769598)"
      ]
     },
     "execution_count": 40,
     "metadata": {},
     "output_type": "execute_result"
    }
   ],
   "source": [
    "cross_scores.mean().round(3), cross_scores.std()"
   ]
  },
  {
   "cell_type": "markdown",
   "metadata": {},
   "source": [
    "### Note: The results from the cross validation suggest overfitting of the data"
   ]
  },
  {
   "cell_type": "markdown",
   "metadata": {},
   "source": [
    "## `Step 6: Hyperparameter Optimization`"
   ]
  },
  {
   "cell_type": "code",
   "execution_count": 41,
   "metadata": {},
   "outputs": [],
   "source": [
    "from sklearn.ensemble import RandomForestClassifier \n",
    "from sklearn.model_selection import GridSearchCV\n"
   ]
  },
  {
   "cell_type": "code",
   "execution_count": 42,
   "metadata": {},
   "outputs": [],
   "source": [
    "def hyperparam_optimization(X_train, y_train):\n",
    "    model_rf = RandomForestClassifier(n_estimators = 100, max_depth = 3, max_features = 3, min_samples_split = 2)\n",
    "    param_grid = {\n",
    "    'n_estimators': [1, 3, 10, 20, 50, 100],\n",
    "    'max_depth':[1, 3, 5, 10, None]\n",
    "    }\n",
    "    gridcv = GridSearchCV(model_rf, param_grid = param_grid )\n",
    "    gridcv.fit(X_train, y_train)\n",
    "    columns = ['mean_test_score', 'std_test_score', 'mean_fit_time', \\\n",
    "            'param_max_depth', 'param_n_estimators']\n",
    "    results_gridcv = pd.DataFrame(gridcv.cv_results_)\n",
    "    results_gridcv[columns].sort_values('mean_test_score', ascending=False)\n",
    "    random_forest = RandomForestClassifier(n_estimators=100, max_depth = 10, max_features =3)\n",
    "    random_forest.fit(X_train, y_train)\n",
    "    y_prediction = random_forest.predict(X_train)\n",
    "    random_forest.score(X_train, y_train)\n",
    "    acc_random_forest = round(random_forest.score(X_train, y_train) * 100, 2)\n",
    "    return results_gridcv, acc_random_forest, random_forest"
   ]
  },
  {
   "cell_type": "code",
   "execution_count": 43,
   "metadata": {},
   "outputs": [
    {
     "data": {
      "text/plain": [
       "(    mean_fit_time  std_fit_time  mean_score_time  std_score_time  \\\n",
       " 0        0.004847      0.000378         0.002541        0.000314   \n",
       " 1        0.006849      0.000150         0.002399        0.000166   \n",
       " 2        0.017178      0.002211         0.003913        0.000423   \n",
       " 3        0.034762      0.003657         0.004458        0.000880   \n",
       " 4        0.069602      0.006668         0.006647        0.000557   \n",
       " 5        0.113354      0.011475         0.009189        0.000840   \n",
       " 6        0.003204      0.000054         0.001653        0.000015   \n",
       " 7        0.005252      0.000051         0.001851        0.000042   \n",
       " 8        0.014344      0.001385         0.002642        0.000362   \n",
       " 9        0.028576      0.000436         0.003557        0.000255   \n",
       " 10       0.066851      0.001821         0.006236        0.000779   \n",
       " 11       0.129744      0.001518         0.010112        0.000609   \n",
       " 12       0.004264      0.000815         0.002146        0.000322   \n",
       " 13       0.006714      0.000610         0.002386        0.000599   \n",
       " 14       0.015415      0.000506         0.002970        0.000339   \n",
       " 15       0.027356      0.001276         0.004215        0.000781   \n",
       " 16       0.060671      0.004287         0.005745        0.000427   \n",
       " 17       0.103132      0.000417         0.008954        0.000067   \n",
       " 18       0.003324      0.000067         0.001645        0.000017   \n",
       " 19       0.005488      0.000051         0.001864        0.000030   \n",
       " 20       0.014666      0.000862         0.002757        0.000347   \n",
       " 21       0.024526      0.000950         0.003358        0.000039   \n",
       " 22       0.056444      0.000557         0.005628        0.000049   \n",
       " 23       0.112354      0.001452         0.009440        0.000033   \n",
       " 24       0.003468      0.000074         0.001753        0.000055   \n",
       " 25       0.005672      0.000108         0.001876        0.000026   \n",
       " 26       0.015705      0.001965         0.003239        0.000849   \n",
       " 27       0.026077      0.000316         0.003519        0.000098   \n",
       " 28       0.063637      0.002767         0.006124        0.000333   \n",
       " 29       0.119500      0.002668         0.010098        0.000346   \n",
       " \n",
       "    param_max_depth param_n_estimators  \\\n",
       " 0                1                  1   \n",
       " 1                1                  3   \n",
       " 2                1                 10   \n",
       " 3                1                 20   \n",
       " 4                1                 50   \n",
       " 5                1                100   \n",
       " 6                3                  1   \n",
       " 7                3                  3   \n",
       " 8                3                 10   \n",
       " 9                3                 20   \n",
       " 10               3                 50   \n",
       " 11               3                100   \n",
       " 12               5                  1   \n",
       " 13               5                  3   \n",
       " 14               5                 10   \n",
       " 15               5                 20   \n",
       " 16               5                 50   \n",
       " 17               5                100   \n",
       " 18              10                  1   \n",
       " 19              10                  3   \n",
       " 20              10                 10   \n",
       " 21              10                 20   \n",
       " 22              10                 50   \n",
       " 23              10                100   \n",
       " 24            None                  1   \n",
       " 25            None                  3   \n",
       " 26            None                 10   \n",
       " 27            None                 20   \n",
       " 28            None                 50   \n",
       " 29            None                100   \n",
       " \n",
       "                                       params  split0_test_score  \\\n",
       " 0        {'max_depth': 1, 'n_estimators': 1}           0.692308   \n",
       " 1        {'max_depth': 1, 'n_estimators': 3}           0.692308   \n",
       " 2       {'max_depth': 1, 'n_estimators': 10}           0.706294   \n",
       " 3       {'max_depth': 1, 'n_estimators': 20}           0.741259   \n",
       " 4       {'max_depth': 1, 'n_estimators': 50}           0.720280   \n",
       " 5      {'max_depth': 1, 'n_estimators': 100}           0.727273   \n",
       " 6        {'max_depth': 3, 'n_estimators': 1}           0.748252   \n",
       " 7        {'max_depth': 3, 'n_estimators': 3}           0.811189   \n",
       " 8       {'max_depth': 3, 'n_estimators': 10}           0.825175   \n",
       " 9       {'max_depth': 3, 'n_estimators': 20}           0.839161   \n",
       " 10      {'max_depth': 3, 'n_estimators': 50}           0.818182   \n",
       " 11     {'max_depth': 3, 'n_estimators': 100}           0.811189   \n",
       " 12       {'max_depth': 5, 'n_estimators': 1}           0.811189   \n",
       " 13       {'max_depth': 5, 'n_estimators': 3}           0.776224   \n",
       " 14      {'max_depth': 5, 'n_estimators': 10}           0.839161   \n",
       " 15      {'max_depth': 5, 'n_estimators': 20}           0.832168   \n",
       " 16      {'max_depth': 5, 'n_estimators': 50}           0.839161   \n",
       " 17     {'max_depth': 5, 'n_estimators': 100}           0.839161   \n",
       " 18      {'max_depth': 10, 'n_estimators': 1}           0.811189   \n",
       " 19      {'max_depth': 10, 'n_estimators': 3}           0.818182   \n",
       " 20     {'max_depth': 10, 'n_estimators': 10}           0.846154   \n",
       " 21     {'max_depth': 10, 'n_estimators': 20}           0.832168   \n",
       " 22     {'max_depth': 10, 'n_estimators': 50}           0.818182   \n",
       " 23    {'max_depth': 10, 'n_estimators': 100}           0.846154   \n",
       " 24    {'max_depth': None, 'n_estimators': 1}           0.769231   \n",
       " 25    {'max_depth': None, 'n_estimators': 3}           0.804196   \n",
       " 26   {'max_depth': None, 'n_estimators': 10}           0.839161   \n",
       " 27   {'max_depth': None, 'n_estimators': 20}           0.825175   \n",
       " 28   {'max_depth': None, 'n_estimators': 50}           0.846154   \n",
       " 29  {'max_depth': None, 'n_estimators': 100}           0.839161   \n",
       " \n",
       "     split1_test_score  split2_test_score  split3_test_score  \\\n",
       " 0            0.692308           0.711268           0.690141   \n",
       " 1            0.692308           0.704225           0.781690   \n",
       " 2            0.720280           0.767606           0.725352   \n",
       " 3            0.713287           0.704225           0.732394   \n",
       " 4            0.678322           0.753521           0.795775   \n",
       " 5            0.713287           0.732394           0.746479   \n",
       " 6            0.657343           0.781690           0.690141   \n",
       " 7            0.692308           0.788732           0.725352   \n",
       " 8            0.713287           0.802817           0.823944   \n",
       " 9            0.741259           0.809859           0.823944   \n",
       " 10           0.727273           0.795775           0.788732   \n",
       " 11           0.748252           0.816901           0.802817   \n",
       " 12           0.713287           0.739437           0.774648   \n",
       " 13           0.755245           0.795775           0.845070   \n",
       " 14           0.727273           0.795775           0.795775   \n",
       " 15           0.769231           0.823944           0.816901   \n",
       " 16           0.762238           0.838028           0.823944   \n",
       " 17           0.755245           0.830986           0.830986   \n",
       " 18           0.748252           0.852113           0.852113   \n",
       " 19           0.783217           0.838028           0.823944   \n",
       " 20           0.797203           0.852113           0.845070   \n",
       " 21           0.804196           0.873239           0.852113   \n",
       " 22           0.811189           0.873239           0.866197   \n",
       " 23           0.804196           0.845070           0.866197   \n",
       " 24           0.734266           0.809859           0.795775   \n",
       " 25           0.769231           0.830986           0.838028   \n",
       " 26           0.797203           0.866197           0.852113   \n",
       " 27           0.783217           0.852113           0.873239   \n",
       " 28           0.804196           0.866197           0.880282   \n",
       " 29           0.797203           0.852113           0.866197   \n",
       " \n",
       "     split4_test_score  mean_test_score  std_test_score  rank_test_score  \n",
       " 0            0.697183         0.696641        0.007669               30  \n",
       " 1            0.661972         0.706501        0.040111               29  \n",
       " 2            0.746479         0.733202        0.021506               25  \n",
       " 3            0.704225         0.719078        0.015126               27  \n",
       " 4            0.718310         0.733241        0.039316               24  \n",
       " 5            0.718310         0.727549        0.011582               26  \n",
       " 6            0.704225         0.716330        0.043824               28  \n",
       " 7            0.774648         0.758446        0.043431               23  \n",
       " 8            0.732394         0.779523        0.047346               20  \n",
       " 9            0.823944         0.807633        0.034457               13  \n",
       " 10           0.809859         0.787964        0.032055               18  \n",
       " 11           0.809859         0.797804        0.025178               16  \n",
       " 12           0.816901         0.771092        0.040156               22  \n",
       " 13           0.732394         0.780942        0.038398               19  \n",
       " 14           0.802817         0.792160        0.036219               17  \n",
       " 15           0.795775         0.807604        0.022668               14  \n",
       " 16           0.802817         0.813237        0.028673               11  \n",
       " 17           0.809859         0.813247        0.030583               10  \n",
       " 18           0.823944         0.817522        0.038139                9  \n",
       " 19           0.788732         0.810421        0.021051               12  \n",
       " 20           0.845070         0.837122        0.020131                5  \n",
       " 21           0.823944         0.837132        0.023713                4  \n",
       " 22           0.838028         0.841367        0.024867                1  \n",
       " 23           0.830986         0.838521        0.020504                3  \n",
       " 24           0.781690         0.778164        0.025823               21  \n",
       " 25           0.767606         0.802009        0.029664               15  \n",
       " 26           0.802817         0.831498        0.027153                7  \n",
       " 27           0.830986         0.832946        0.030094                6  \n",
       " 28           0.802817         0.839929        0.031658                2  \n",
       " 29           0.788732         0.828681        0.030506                8  ,\n",
       " 92.28,\n",
       " RandomForestClassifier(max_depth=10, max_features=3))"
      ]
     },
     "execution_count": 43,
     "metadata": {},
     "output_type": "execute_result"
    }
   ],
   "source": [
    "gridcv_res, random_forest_res, rf_model = hyperparam_optimization(X_train, y_train)\n",
    "gridcv_res, random_forest_res, rf_model"
   ]
  },
  {
   "cell_type": "markdown",
   "metadata": {},
   "source": [
    "### `Run the model on the TEST data`\n",
    "__Using the logistic regression model__"
   ]
  },
  {
   "cell_type": "code",
   "execution_count": 44,
   "metadata": {},
   "outputs": [
    {
     "name": "stdout",
     "output_type": "stream",
     "text": [
      "training score:  0.822\n",
      "test score    :  0.821\n"
     ]
    }
   ],
   "source": [
    "model.fit(X_train, y_train)\n",
    "print('training score: ', model.score(X_train, y_train).round(3))\n",
    "print('test score    : ', model.score(X_test, y_test).round(3))"
   ]
  },
  {
   "cell_type": "markdown",
   "metadata": {},
   "source": [
    "__Using the random forest model__"
   ]
  },
  {
   "cell_type": "code",
   "execution_count": 45,
   "metadata": {},
   "outputs": [
    {
     "name": "stdout",
     "output_type": "stream",
     "text": [
      "training score:  0.923\n",
      "test score    :  0.821\n"
     ]
    }
   ],
   "source": [
    "print('training score: ', rf_model.score(X_train, y_train).round(3))\n",
    "print('test score    : ', rf_model.score(X_test, y_test).round(3))"
   ]
  },
  {
   "cell_type": "markdown",
   "metadata": {},
   "source": [
    "### What would happen if the first 8 features are used instead for the random forest?\n",
    "__Answer:__ It is very likely that it will improve the cosnsitency betwween train and test\n",
    "\n",
    "List of features and their relevance"
   ]
  },
  {
   "cell_type": "code",
   "execution_count": 46,
   "metadata": {},
   "outputs": [
    {
     "data": {
      "text/html": [
       "<div>\n",
       "<style scoped>\n",
       "    .dataframe tbody tr th:only-of-type {\n",
       "        vertical-align: middle;\n",
       "    }\n",
       "\n",
       "    .dataframe tbody tr th {\n",
       "        vertical-align: top;\n",
       "    }\n",
       "\n",
       "    .dataframe thead th {\n",
       "        text-align: right;\n",
       "    }\n",
       "</style>\n",
       "<table border=\"1\" class=\"dataframe\">\n",
       "  <thead>\n",
       "    <tr style=\"text-align: right;\">\n",
       "      <th></th>\n",
       "      <th>Feature</th>\n",
       "      <th>Relevance</th>\n",
       "    </tr>\n",
       "  </thead>\n",
       "  <tbody>\n",
       "    <tr>\n",
       "      <th>17</th>\n",
       "      <td>uncommon</td>\n",
       "      <td>0.137424</td>\n",
       "    </tr>\n",
       "    <tr>\n",
       "      <th>1</th>\n",
       "      <td>Sex</td>\n",
       "      <td>0.137174</td>\n",
       "    </tr>\n",
       "    <tr>\n",
       "      <th>18</th>\n",
       "      <td>Fare_ranges</td>\n",
       "      <td>0.100909</td>\n",
       "    </tr>\n",
       "    <tr>\n",
       "      <th>2</th>\n",
       "      <td>SibSp</td>\n",
       "      <td>0.087373</td>\n",
       "    </tr>\n",
       "    <tr>\n",
       "      <th>0</th>\n",
       "      <td>Pclass</td>\n",
       "      <td>0.080175</td>\n",
       "    </tr>\n",
       "    <tr>\n",
       "      <th>4</th>\n",
       "      <td>unk_Cabin</td>\n",
       "      <td>0.052557</td>\n",
       "    </tr>\n",
       "    <tr>\n",
       "      <th>16</th>\n",
       "      <td>Mr</td>\n",
       "      <td>0.051206</td>\n",
       "    </tr>\n",
       "    <tr>\n",
       "      <th>15</th>\n",
       "      <td>Mrs</td>\n",
       "      <td>0.048288</td>\n",
       "    </tr>\n",
       "    <tr>\n",
       "      <th>3</th>\n",
       "      <td>Parch</td>\n",
       "      <td>0.045209</td>\n",
       "    </tr>\n",
       "    <tr>\n",
       "      <th>23</th>\n",
       "      <td>qbin_SexClass1</td>\n",
       "      <td>0.042185</td>\n",
       "    </tr>\n",
       "    <tr>\n",
       "      <th>27</th>\n",
       "      <td>Age_ranges</td>\n",
       "      <td>0.035390</td>\n",
       "    </tr>\n",
       "    <tr>\n",
       "      <th>26</th>\n",
       "      <td>qbin_SexClass4</td>\n",
       "      <td>0.020070</td>\n",
       "    </tr>\n",
       "    <tr>\n",
       "      <th>6</th>\n",
       "      <td>Cabin_B</td>\n",
       "      <td>0.015489</td>\n",
       "    </tr>\n",
       "    <tr>\n",
       "      <th>25</th>\n",
       "      <td>qbin_SexClass3</td>\n",
       "      <td>0.015238</td>\n",
       "    </tr>\n",
       "    <tr>\n",
       "      <th>9</th>\n",
       "      <td>Cabin_E</td>\n",
       "      <td>0.014385</td>\n",
       "    </tr>\n",
       "    <tr>\n",
       "      <th>24</th>\n",
       "      <td>qbin_SexClass2</td>\n",
       "      <td>0.013401</td>\n",
       "    </tr>\n",
       "    <tr>\n",
       "      <th>21</th>\n",
       "      <td>qbin_Age3</td>\n",
       "      <td>0.013221</td>\n",
       "    </tr>\n",
       "    <tr>\n",
       "      <th>22</th>\n",
       "      <td>qbin_Age4</td>\n",
       "      <td>0.012769</td>\n",
       "    </tr>\n",
       "    <tr>\n",
       "      <th>20</th>\n",
       "      <td>qbin_Age2</td>\n",
       "      <td>0.011919</td>\n",
       "    </tr>\n",
       "    <tr>\n",
       "      <th>14</th>\n",
       "      <td>Miss</td>\n",
       "      <td>0.011327</td>\n",
       "    </tr>\n",
       "    <tr>\n",
       "      <th>19</th>\n",
       "      <td>qbin_Age1</td>\n",
       "      <td>0.010804</td>\n",
       "    </tr>\n",
       "    <tr>\n",
       "      <th>13</th>\n",
       "      <td>Master</td>\n",
       "      <td>0.010543</td>\n",
       "    </tr>\n",
       "    <tr>\n",
       "      <th>8</th>\n",
       "      <td>Cabin_D</td>\n",
       "      <td>0.010252</td>\n",
       "    </tr>\n",
       "    <tr>\n",
       "      <th>7</th>\n",
       "      <td>Cabin_C</td>\n",
       "      <td>0.009108</td>\n",
       "    </tr>\n",
       "    <tr>\n",
       "      <th>5</th>\n",
       "      <td>Cabin_A</td>\n",
       "      <td>0.006123</td>\n",
       "    </tr>\n",
       "    <tr>\n",
       "      <th>11</th>\n",
       "      <td>Cabin_G</td>\n",
       "      <td>0.003857</td>\n",
       "    </tr>\n",
       "    <tr>\n",
       "      <th>10</th>\n",
       "      <td>Cabin_F</td>\n",
       "      <td>0.003145</td>\n",
       "    </tr>\n",
       "    <tr>\n",
       "      <th>12</th>\n",
       "      <td>Cabin_T</td>\n",
       "      <td>0.000459</td>\n",
       "    </tr>\n",
       "  </tbody>\n",
       "</table>\n",
       "</div>"
      ],
      "text/plain": [
       "           Feature  Relevance\n",
       "17        uncommon   0.137424\n",
       "1              Sex   0.137174\n",
       "18     Fare_ranges   0.100909\n",
       "2            SibSp   0.087373\n",
       "0           Pclass   0.080175\n",
       "4        unk_Cabin   0.052557\n",
       "16              Mr   0.051206\n",
       "15             Mrs   0.048288\n",
       "3            Parch   0.045209\n",
       "23  qbin_SexClass1   0.042185\n",
       "27      Age_ranges   0.035390\n",
       "26  qbin_SexClass4   0.020070\n",
       "6          Cabin_B   0.015489\n",
       "25  qbin_SexClass3   0.015238\n",
       "9          Cabin_E   0.014385\n",
       "24  qbin_SexClass2   0.013401\n",
       "21       qbin_Age3   0.013221\n",
       "22       qbin_Age4   0.012769\n",
       "20       qbin_Age2   0.011919\n",
       "14            Miss   0.011327\n",
       "19       qbin_Age1   0.010804\n",
       "13          Master   0.010543\n",
       "8          Cabin_D   0.010252\n",
       "7          Cabin_C   0.009108\n",
       "5          Cabin_A   0.006123\n",
       "11         Cabin_G   0.003857\n",
       "10         Cabin_F   0.003145\n",
       "12         Cabin_T   0.000459"
      ]
     },
     "execution_count": 46,
     "metadata": {},
     "output_type": "execute_result"
    }
   ],
   "source": [
    "relevance_features = pd.DataFrame(\n",
    "    {\"Feature\": X_train.columns, \"Relevance\": rf_model.feature_importances_}\n",
    "    ).sort_values(by=\"Relevance\", ascending=False)\n",
    "relevance_features"
   ]
  },
  {
   "cell_type": "code",
   "execution_count": 47,
   "metadata": {},
   "outputs": [],
   "source": [
    "def select_features(rf_model, X_train, X_test, features):\n",
    "    relevance_features = pd.DataFrame({\"Feature\": X_train.columns, \\\n",
    "                        \"Relevance\": rf_model.feature_importances_}\\\n",
    "                                      ).sort_values(by=\"Relevance\", \\\n",
    "                                                    ascending=False)\n",
    "    best_ = relevance_features[\"Feature\"].values[:int(features)]\n",
    "    X_train = X_train[best_] \n",
    "    X_test = X_test[best_]\n",
    "    return relevance_features, X_train, X_test, best_"
   ]
  },
  {
   "cell_type": "code",
   "execution_count": 48,
   "metadata": {},
   "outputs": [
    {
     "data": {
      "text/plain": [
       "array(['uncommon', 'Sex', 'Fare_ranges', 'SibSp', 'Pclass', 'unk_Cabin',\n",
       "       'Mr', 'Mrs'], dtype=object)"
      ]
     },
     "execution_count": 48,
     "metadata": {},
     "output_type": "execute_result"
    }
   ],
   "source": [
    "relevance_features, X_train_2, X_test_2, best_ = select_features(rf_model, X_train, X_test, 8)\n",
    "best_"
   ]
  },
  {
   "cell_type": "markdown",
   "metadata": {},
   "source": [
    "### Re-run the random forest model with the selected features and check the X_test data"
   ]
  },
  {
   "cell_type": "code",
   "execution_count": 49,
   "metadata": {},
   "outputs": [],
   "source": [
    "gridcv_res, random_forest_res, rf_model = hyperparam_optimization(X_train_2, y_train)"
   ]
  },
  {
   "cell_type": "code",
   "execution_count": 50,
   "metadata": {
    "scrolled": true
   },
   "outputs": [
    {
     "data": {
      "text/plain": [
       "85.25"
      ]
     },
     "execution_count": 50,
     "metadata": {},
     "output_type": "execute_result"
    }
   ],
   "source": [
    "random_forest_res"
   ]
  },
  {
   "cell_type": "code",
   "execution_count": 51,
   "metadata": {
    "scrolled": true
   },
   "outputs": [
    {
     "name": "stdout",
     "output_type": "stream",
     "text": [
      "training score:  0.853\n",
      "test score    :  0.844\n"
     ]
    }
   ],
   "source": [
    "print('training score: ', rf_model.score(X_train_2, y_train).round(3))\n",
    "print('test score    : ', rf_model.score(X_test_2, y_test).round(3))"
   ]
  },
  {
   "cell_type": "markdown",
   "metadata": {},
   "source": [
    "## `Step 7: Run the model on the TEST data from kaggle`\n",
    "### Feature engineer the test data from kaggle (all in one function)"
   ]
  },
  {
   "cell_type": "code",
   "execution_count": null,
   "metadata": {},
   "outputs": [],
   "source": [
    "def engineer_test_kaggle(test_data):\n",
    "    pred = test_data\n",
    "    pred_ids = pred[\"PassengerId\"]\n",
    "    pred = cabin_names(pred, \"test\")\n",
    "    pred =  name_to_titles(pred)\n",
    "    pred, pred_bins_fares = fares(pred)\n",
    "    pred =  gender(pred)\n",
    "    pred =  ages(pred)\n",
    "    pred =  age_per_class(pred, pred_bins_fares)\n",
    "    pred =  clear_engineer(pred, columns_drop, \"test\")\n",
    "    pred_ids.to_csv('../data/pred_ids.csv', index=False)\n",
    "    return pred_ids"
   ]
  },
  {
   "cell_type": "code",
   "execution_count": null,
   "metadata": {},
   "outputs": [],
   "source": [
    "test_data  = pd.read_csv('../data/test.csv')\n",
    "pred_ids = engineer_test_kaggle(test_data)"
   ]
  },
  {
   "cell_type": "markdown",
   "metadata": {},
   "source": [
    "### Run the random forest model on the engineered data to make predictions"
   ]
  },
  {
   "cell_type": "code",
   "execution_count": null,
   "metadata": {},
   "outputs": [],
   "source": [
    "def run_test_data(pred, best_, rf_model, pred_ids, file_name):\n",
    "    pred = pred[best_]\n",
    "    y_pred = rf_model.predict(pred)\n",
    "    kaggle = pd.DataFrame({\"PassengerId\":pred_ids,  \"Survived\":y_pred})\n",
    "    kaggle.to_csv('../data/' + file_name, index=False)"
   ]
  },
  {
   "cell_type": "code",
   "execution_count": null,
   "metadata": {},
   "outputs": [],
   "source": []
  },
  {
   "cell_type": "code",
   "execution_count": null,
   "metadata": {},
   "outputs": [],
   "source": [
    "test_data  =test_data = pd.read_csv(\"../data/test_featured.csv\")\n",
    "run_test_data(test_data, best_, rf_model, pred_ids, \"kaggle_submission.csv\")"
   ]
  }
 ],
 "metadata": {
  "kernelspec": {
   "display_name": "Python 3",
   "language": "python",
   "name": "python3"
  },
  "language_info": {
   "codemirror_mode": {
    "name": "ipython",
    "version": 3
   },
   "file_extension": ".py",
   "mimetype": "text/x-python",
   "name": "python",
   "nbconvert_exporter": "python",
   "pygments_lexer": "ipython3",
   "version": "3.8.3"
  }
 },
 "nbformat": 4,
 "nbformat_minor": 4
}
